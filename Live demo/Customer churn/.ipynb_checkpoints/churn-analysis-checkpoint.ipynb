{
 "cells": [
  {
   "cell_type": "markdown",
   "metadata": {},
   "source": [
    "# 1 hour machine learning project\n",
    "\n",
    "Project taken from Kaggle : https://www.kaggle.com/blastchar/telco-customer-churn\n",
    "\n",
    "\n",
    "\"Predict behavior to retain customers. You can analyze all relevant customer data and develop focused customer retention programs.\" [IBM Sample Data Sets]\n",
    "\n",
    "\n",
    "\n",
    "\n",
    "## My company : Fabdev (fabdev.fr)\n",
    "\n",
    "## My name : Lucas Berbesson\n",
    "\n",
    "\n",
    "# Let's get started"
   ]
  },
  {
   "cell_type": "code",
   "execution_count": null,
   "metadata": {},
   "outputs": [],
   "source": [
    "import matplotlib.pyplot as plt\n",
    "%matplotlib inline\n",
    "import pandas as pd\n",
    "import numpy as np\n",
    "import seaborn as sns\n",
    "import plotly.offline as py\n",
    "import plotly.graph_objs as go"
   ]
  },
  {
   "cell_type": "code",
   "execution_count": null,
   "metadata": {},
   "outputs": [],
   "source": [
    "df = pd.read_csv('Telco-Customer-Churn.csv')\n",
    "df = df.replace(r'^\\s*$', np.nan, regex=True)\n",
    "df = df.fillna(0)\n",
    "df[\"TotalCharges\"] = df[\"TotalCharges\"].astype(float)"
   ]
  },
  {
   "cell_type": "code",
   "execution_count": null,
   "metadata": {},
   "outputs": [],
   "source": [
    "df.head()"
   ]
  },
  {
   "cell_type": "code",
   "execution_count": null,
   "metadata": {},
   "outputs": [],
   "source": [
    "df.describe()"
   ]
  },
  {
   "cell_type": "code",
   "execution_count": null,
   "metadata": {},
   "outputs": [],
   "source": [
    "print (\"Rows     : \" ,df.shape[0])\n",
    "print (\"Columns  : \" ,df.shape[1])\n",
    "df.isnull().sum()"
   ]
  },
  {
   "cell_type": "code",
   "execution_count": null,
   "metadata": {},
   "outputs": [],
   "source": [
    "#replace 'No internet service' to No for the following columns\n",
    "replace_cols = [ 'OnlineSecurity', 'OnlineBackup', 'DeviceProtection',\n",
    "                'TechSupport','StreamingTV', 'StreamingMovies']\n",
    "for i in replace_cols : \n",
    "    df[i]  = df[i].replace({'No internet service' : 'No'})"
   ]
  },
  {
   "cell_type": "code",
   "execution_count": null,
   "metadata": {},
   "outputs": [],
   "source": [
    "sns.countplot(df[\"Churn\"])"
   ]
  },
  {
   "cell_type": "code",
   "execution_count": null,
   "metadata": {},
   "outputs": [],
   "source": [
    "def kdeplot(feature):\n",
    "    plt.figure(figsize=(9, 4.5))\n",
    "    plt.title(\"KDE for {}\".format(feature))\n",
    "    ax0 = sns.kdeplot(df[df['Churn'] == 'No'][feature].dropna(), color= 'navy', label= 'Churn: No')\n",
    "    ax1 = sns.kdeplot(df[df['Churn'] == 'Yes'][feature].dropna(), color= 'orange', label= 'Churn: Yes')\n",
    "kdeplot('tenure')\n",
    "kdeplot('MonthlyCharges')"
   ]
  },
  {
   "cell_type": "markdown",
   "metadata": {},
   "source": [
    "From the plots above we can conclude that:\n",
    "\n",
    "- Recent clients are more likely to churn\n",
    "- Clients with higher MonthlyCharges are also more likely to churn\n"
   ]
  },
  {
   "cell_type": "code",
   "execution_count": null,
   "metadata": {},
   "outputs": [],
   "source": [
    "df.nunique()[df.nunique() < 6].keys().tolist()"
   ]
  },
  {
   "cell_type": "code",
   "execution_count": null,
   "metadata": {},
   "outputs": [],
   "source": [
    "from sklearn.preprocessing import LabelEncoder\n",
    "from sklearn.preprocessing import StandardScaler\n",
    "\n",
    "#customer id col\n",
    "Id_col     = ['customerID']\n",
    "#Target columns\n",
    "target_col = [\"Churn\"]\n",
    "#categorical columns\n",
    "cat_cols   = df.nunique()[df.nunique() < 6].keys().tolist()\n",
    "cat_cols   = [x for x in cat_cols if x not in target_col]\n",
    "#numerical columns\n",
    "num_cols   = [x for x in df.columns if x not in cat_cols + target_col + Id_col]\n",
    "#Binary columns with 2 values\n",
    "bin_cols   = df.nunique()[df.nunique() == 2].keys().tolist()\n",
    "#Columns more than 2 values\n",
    "multi_cols = [i for i in cat_cols if i not in bin_cols]\n",
    "\n",
    "#Label encoding Binary columns\n",
    "le = LabelEncoder()\n",
    "for i in bin_cols :\n",
    "    df[i] = le.fit_transform(df[i])\n",
    "    \n",
    "#Duplicating columns for multi value columns\n",
    "df = pd.get_dummies(data = df,columns = multi_cols )\n",
    "\n",
    "#Scaling Numerical columns\n",
    "std = StandardScaler()\n",
    "scaled = std.fit_transform(df[num_cols])\n",
    "scaled = pd.DataFrame(scaled,columns=num_cols)\n",
    "\n",
    "#dropping original values merging scaled values for numerical columns\n",
    "telcom = df.copy()\n",
    "telcom = telcom.drop(columns = num_cols,axis = 1)\n",
    "telcom = telcom.merge(scaled,left_index=True,right_index=True,how = \"left\")"
   ]
  },
  {
   "cell_type": "code",
   "execution_count": null,
   "metadata": {},
   "outputs": [],
   "source": [
    "telcom.head()"
   ]
  },
  {
   "cell_type": "code",
   "execution_count": null,
   "metadata": {},
   "outputs": [],
   "source": [
    "#correlation\n",
    "plt.figure(figsize=(30,20))\n",
    "correlation = sns.heatmap(telcom.corr(), annot=True)"
   ]
  },
  {
   "cell_type": "code",
   "execution_count": null,
   "metadata": {},
   "outputs": [],
   "source": [
    "t = telcom.corr()[\"Churn\"].abs()\n",
    "t.sort_values(ascending=False)"
   ]
  },
  {
   "cell_type": "code",
   "execution_count": null,
   "metadata": {},
   "outputs": [],
   "source": [
    "telcom.head()"
   ]
  },
  {
   "cell_type": "code",
   "execution_count": null,
   "metadata": {},
   "outputs": [],
   "source": [
    "telcom = telcom.drop(['TotalCharges'],axis=1)"
   ]
  },
  {
   "cell_type": "code",
   "execution_count": null,
   "metadata": {},
   "outputs": [],
   "source": [
    "from sklearn.model_selection import train_test_split\n",
    "from sklearn.metrics import confusion_matrix,accuracy_score,classification_report\n",
    "\n",
    "#splitting train and test data \n",
    "train,test = train_test_split(telcom,test_size = .25 ,random_state = 111)\n",
    "cols    = [i for i in telcom.columns if i not in Id_col + target_col]\n",
    "train_X = train[cols]\n",
    "train_Y = train[target_col]\n",
    "test_X  = test[cols]\n",
    "test_Y  = test[target_col]\n",
    "\n",
    "def telecom_churn_prediction(algorithm,training_x,testing_x,training_y,testing_y,cols,cf=False) :\n",
    "    \n",
    "    #model\n",
    "    algorithm.fit(training_x,training_y.values.ravel())\n",
    "    predictions   = algorithm.predict(testing_x)\n",
    "    #coeffs\n",
    "    if   cf == \"coefficients\" :\n",
    "        coefficients  = pd.DataFrame(algorithm.coef_.ravel())\n",
    "    elif cf == \"features\" :\n",
    "        coefficients  = pd.DataFrame(algorithm.feature_importances_)\n",
    "        \n",
    "    \n",
    "    \n",
    "    print (algorithm)\n",
    "    print (\"\\n Classification report : \\n\",classification_report(testing_y,predictions))\n",
    "    \n",
    "    #confusion matrix\n",
    "    conf_matrix = confusion_matrix(testing_y,predictions)\n",
    "    print(\"\\n Confusion matrix : \\n\")\n",
    "    print(conf_matrix)          \n",
    "    \n",
    "    if cf: \n",
    "        column_df     = pd.DataFrame(cols)\n",
    "        coef_sumry    = (pd.merge(coefficients,column_df,left_index= True,\n",
    "                                  right_index= True, how = \"left\"))\n",
    "        coef_sumry.columns = [\"coefficients\",\"features\"]\n",
    "        coef_sumry    = coef_sumry.sort_values(by = \"coefficients\",ascending = False)\n",
    "        features_importance = go.Bar(x = coef_sumry[\"features\"],y = coef_sumry[\"coefficients\"],\n",
    "                        name = \"coefficients\",\n",
    "                        marker = dict(color = coef_sumry[\"coefficients\"],\n",
    "                                      colorscale = \"Portland\",\n",
    "                                      line = dict(width = .6,color = \"black\")))\n",
    "\n",
    "\n",
    "        py.plot([features_importance])\n",
    "    return \n"
   ]
  },
  {
   "cell_type": "code",
   "execution_count": null,
   "metadata": {},
   "outputs": [],
   "source": [
    "from sklearn.linear_model import LogisticRegression\n",
    "\n",
    "logit = LogisticRegression()\n",
    "telecom_churn_prediction(logit,train_X,test_X,train_Y,test_Y,cols,\"coefficients\")"
   ]
  },
  {
   "cell_type": "markdown",
   "metadata": {},
   "source": [
    "**The precision** is the ratio tp / (tp + fp) where tp is the number of true positives and fp the number of false positives. The precision is intuitively the ability of the classifier not to label as positive a sample that is negative.  \n",
    "Ex : 81% of the time the algorithm makes the right prediction about the fact that someone did not survive\n",
    "\n",
    "\n",
    "**The recall** is the ratio tp / (tp + fn) where tp is the number of true positives and fn the number of false negatives. The recall is intuitively the ability of the classifier to find all the positive samples.  \n",
    "Ex : 35% of the time the algorithm does not detect that someone will survive\n",
    "\n",
    "**The F1 score** can be interpreted as a weighted average of the precision and recall, where an F1 score reaches its best value at 1 and worst score at 0. The formula for the F1 score is:\n",
    "F1 = 2 * (precision * recall) / (precision + recall)\n",
    "\n",
    "\n",
    "**The support** is the number of occurrences of each class in y_true.\n",
    "\n",
    "**Confusion matrix** : a matrix where C_{i, j} is equal to the number of observations known to be in group i but predicted to be in group j.\n",
    "\n",
    "\n",
    "\n",
    "We got 81% classification accuracy from our logistic regression classifier. But the precision and recall for predictions in the positive class (churn) are relatively low, which suggests our data set may be imbalanced.\n"
   ]
  },
  {
   "cell_type": "code",
   "execution_count": null,
   "metadata": {},
   "outputs": [],
   "source": [
    "telcom['Churn'].value_counts()"
   ]
  },
  {
   "cell_type": "code",
   "execution_count": null,
   "metadata": {},
   "outputs": [],
   "source": [
    "from sklearn.utils import resample\n",
    " \n",
    "data_majority = telcom[telcom['Churn']==0]\n",
    "data_minority = telcom[telcom['Churn']==1]\n",
    " \n",
    "data_majority_downsampled = resample(data_majority,\n",
    "replace=True,\n",
    "n_samples=1869, #same number of samples as majority classe\n",
    "random_state=1) #set the seed for random resampling\n",
    "# Combine resampled results\n",
    "telcom_balanced = pd.concat([data_minority, data_majority_downsampled])\n",
    " \n",
    "telcom_balanced['Churn'].value_counts()"
   ]
  },
  {
   "cell_type": "code",
   "execution_count": null,
   "metadata": {},
   "outputs": [],
   "source": [
    "#splitting train and test data \n",
    "train,test = train_test_split(telcom_balanced,test_size = .25 ,random_state = 111)\n",
    "cols    = [i for i in telcom_balanced.columns if i not in Id_col + target_col]\n",
    "train_X = train[cols]\n",
    "train_Y = train[target_col]\n",
    "test_X  = test[cols]\n",
    "test_Y  = test[target_col]"
   ]
  },
  {
   "cell_type": "code",
   "execution_count": null,
   "metadata": {},
   "outputs": [],
   "source": [
    "from sklearn.linear_model import LogisticRegression\n",
    "\n",
    "logit = LogisticRegression()\n",
    "telecom_churn_prediction(logit,train_X,test_X,train_Y,test_Y,cols,\"coefficients\")"
   ]
  },
  {
   "cell_type": "code",
   "execution_count": null,
   "metadata": {},
   "outputs": [],
   "source": [
    "telcom_balanced.columns"
   ]
  },
  {
   "cell_type": "code",
   "execution_count": null,
   "metadata": {},
   "outputs": [],
   "source": [
    "from sklearn.ensemble import GradientBoostingClassifier\n",
    "\n",
    "gbc = GradientBoostingClassifier() \n",
    "telecom_churn_prediction(gbc,train_X,test_X,train_Y,test_Y,cols)"
   ]
  },
  {
   "cell_type": "code",
   "execution_count": null,
   "metadata": {},
   "outputs": [],
   "source": [
    "from sklearn.neighbors import KNeighborsClassifier\n",
    "from sklearn.svm import SVC, LinearSVC, NuSVC\n",
    "from sklearn.tree import DecisionTreeClassifier\n",
    "from sklearn.ensemble import RandomForestClassifier, AdaBoostClassifier, GradientBoostingClassifier\n",
    "from sklearn.naive_bayes import GaussianNB\n",
    "from sklearn.discriminant_analysis import LinearDiscriminantAnalysis\n",
    "from sklearn.discriminant_analysis import QuadraticDiscriminantAnalysis\n",
    "\n",
    "\n",
    "for algorithm in [KNeighborsClassifier, SVC, LinearSVC, NuSVC,DecisionTreeClassifier,RandomForestClassifier,\n",
    "                  AdaBoostClassifier,GradientBoostingClassifier,GaussianNB,LinearDiscriminantAnalysis,QuadraticDiscriminantAnalysis]:\n",
    "    algo = algorithm() \n",
    "    telecom_churn_prediction(algo,train_X,test_X,train_Y,test_Y,cols)"
   ]
  },
  {
   "cell_type": "code",
   "execution_count": null,
   "metadata": {},
   "outputs": [],
   "source": []
  },
  {
   "cell_type": "code",
   "execution_count": null,
   "metadata": {},
   "outputs": [],
   "source": []
  },
  {
   "cell_type": "code",
   "execution_count": null,
   "metadata": {},
   "outputs": [],
   "source": []
  }
 ],
 "metadata": {
  "kernelspec": {
   "display_name": "Python 3",
   "language": "python",
   "name": "python3"
  },
  "language_info": {
   "codemirror_mode": {
    "name": "ipython",
    "version": 3
   },
   "file_extension": ".py",
   "mimetype": "text/x-python",
   "name": "python",
   "nbconvert_exporter": "python",
   "pygments_lexer": "ipython3",
   "version": "3.6.5"
  }
 },
 "nbformat": 4,
 "nbformat_minor": 2
}
