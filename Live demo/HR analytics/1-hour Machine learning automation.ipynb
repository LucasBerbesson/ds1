{
 "cells": [
  {
   "cell_type": "markdown",
   "metadata": {
    "slideshow": {
     "slide_type": "slide"
    }
   },
   "source": [
    "\n",
    "# 1-hour Machine learning automation"
   ]
  },
  {
   "cell_type": "markdown",
   "metadata": {
    "slideshow": {
     "slide_type": "slide"
    }
   },
   "source": [
    "## Fabdev (my company)\n",
    "## Lucas Berbesson (my name)\n",
    "Python for platforms, tools, data analysis, machine learning.  \n",
    "http://fabdev.fr"
   ]
  },
  {
   "cell_type": "code",
   "execution_count": 2,
   "metadata": {
    "slideshow": {
     "slide_type": "skip"
    }
   },
   "outputs": [],
   "source": [
    "import pandas as pd\n",
    "import numpy as np\n",
    "%matplotlib inline \n",
    "import matplotlib.pyplot as plt\n",
    "import seaborn as sns\n",
    "from sklearn.metrics import accuracy_score\n",
    "from sklearn.model_selection import train_test_split"
   ]
  },
  {
   "cell_type": "markdown",
   "metadata": {
    "slideshow": {
     "slide_type": "slide"
    }
   },
   "source": [
    "# Data taken from Kaggle.com\n"
   ]
  },
  {
   "cell_type": "markdown",
   "metadata": {},
   "source": [
    "# Part 1 : Data visualisation"
   ]
  },
  {
   "cell_type": "code",
   "execution_count": 3,
   "metadata": {
    "slideshow": {
     "slide_type": "skip"
    }
   },
   "outputs": [],
   "source": [
    "df = pd.read_csv('HR_comma_sep.csv')"
   ]
  },
  {
   "cell_type": "code",
   "execution_count": 4,
   "metadata": {
    "slideshow": {
     "slide_type": "slide"
    }
   },
   "outputs": [
    {
     "data": {
      "text/html": [
       "<div>\n",
       "<style scoped>\n",
       "    .dataframe tbody tr th:only-of-type {\n",
       "        vertical-align: middle;\n",
       "    }\n",
       "\n",
       "    .dataframe tbody tr th {\n",
       "        vertical-align: top;\n",
       "    }\n",
       "\n",
       "    .dataframe thead th {\n",
       "        text-align: right;\n",
       "    }\n",
       "</style>\n",
       "<table border=\"1\" class=\"dataframe\">\n",
       "  <thead>\n",
       "    <tr style=\"text-align: right;\">\n",
       "      <th></th>\n",
       "      <th>satisfaction_level</th>\n",
       "      <th>last_evaluation</th>\n",
       "      <th>number_project</th>\n",
       "      <th>average_montly_hours</th>\n",
       "      <th>time_spend_company</th>\n",
       "      <th>Work_accident</th>\n",
       "      <th>left</th>\n",
       "      <th>promotion_last_5years</th>\n",
       "      <th>sales</th>\n",
       "      <th>salary</th>\n",
       "    </tr>\n",
       "  </thead>\n",
       "  <tbody>\n",
       "    <tr>\n",
       "      <th>0</th>\n",
       "      <td>0.38</td>\n",
       "      <td>0.53</td>\n",
       "      <td>2</td>\n",
       "      <td>157</td>\n",
       "      <td>3</td>\n",
       "      <td>0</td>\n",
       "      <td>1</td>\n",
       "      <td>0</td>\n",
       "      <td>sales</td>\n",
       "      <td>low</td>\n",
       "    </tr>\n",
       "    <tr>\n",
       "      <th>1</th>\n",
       "      <td>0.80</td>\n",
       "      <td>0.86</td>\n",
       "      <td>5</td>\n",
       "      <td>262</td>\n",
       "      <td>6</td>\n",
       "      <td>0</td>\n",
       "      <td>1</td>\n",
       "      <td>0</td>\n",
       "      <td>sales</td>\n",
       "      <td>medium</td>\n",
       "    </tr>\n",
       "    <tr>\n",
       "      <th>2</th>\n",
       "      <td>0.11</td>\n",
       "      <td>0.88</td>\n",
       "      <td>7</td>\n",
       "      <td>272</td>\n",
       "      <td>4</td>\n",
       "      <td>0</td>\n",
       "      <td>1</td>\n",
       "      <td>0</td>\n",
       "      <td>sales</td>\n",
       "      <td>medium</td>\n",
       "    </tr>\n",
       "    <tr>\n",
       "      <th>3</th>\n",
       "      <td>0.72</td>\n",
       "      <td>0.87</td>\n",
       "      <td>5</td>\n",
       "      <td>223</td>\n",
       "      <td>5</td>\n",
       "      <td>0</td>\n",
       "      <td>1</td>\n",
       "      <td>0</td>\n",
       "      <td>sales</td>\n",
       "      <td>low</td>\n",
       "    </tr>\n",
       "    <tr>\n",
       "      <th>4</th>\n",
       "      <td>0.37</td>\n",
       "      <td>0.52</td>\n",
       "      <td>2</td>\n",
       "      <td>159</td>\n",
       "      <td>3</td>\n",
       "      <td>0</td>\n",
       "      <td>1</td>\n",
       "      <td>0</td>\n",
       "      <td>sales</td>\n",
       "      <td>low</td>\n",
       "    </tr>\n",
       "  </tbody>\n",
       "</table>\n",
       "</div>"
      ],
      "text/plain": [
       "   satisfaction_level  last_evaluation  number_project  average_montly_hours  \\\n",
       "0                0.38             0.53               2                   157   \n",
       "1                0.80             0.86               5                   262   \n",
       "2                0.11             0.88               7                   272   \n",
       "3                0.72             0.87               5                   223   \n",
       "4                0.37             0.52               2                   159   \n",
       "\n",
       "   time_spend_company  Work_accident  left  promotion_last_5years  sales  \\\n",
       "0                   3              0     1                      0  sales   \n",
       "1                   6              0     1                      0  sales   \n",
       "2                   4              0     1                      0  sales   \n",
       "3                   5              0     1                      0  sales   \n",
       "4                   3              0     1                      0  sales   \n",
       "\n",
       "   salary  \n",
       "0     low  \n",
       "1  medium  \n",
       "2  medium  \n",
       "3     low  \n",
       "4     low  "
      ]
     },
     "execution_count": 4,
     "metadata": {},
     "output_type": "execute_result"
    }
   ],
   "source": [
    "df.head()"
   ]
  },
  {
   "cell_type": "code",
   "execution_count": 5,
   "metadata": {
    "slideshow": {
     "slide_type": "skip"
    }
   },
   "outputs": [],
   "source": [
    "df.salary.replace({'low':1,'medium':2,'high':3},inplace=True)"
   ]
  },
  {
   "cell_type": "code",
   "execution_count": 6,
   "metadata": {},
   "outputs": [
    {
     "data": {
      "text/html": [
       "<div>\n",
       "<style scoped>\n",
       "    .dataframe tbody tr th:only-of-type {\n",
       "        vertical-align: middle;\n",
       "    }\n",
       "\n",
       "    .dataframe tbody tr th {\n",
       "        vertical-align: top;\n",
       "    }\n",
       "\n",
       "    .dataframe thead th {\n",
       "        text-align: right;\n",
       "    }\n",
       "</style>\n",
       "<table border=\"1\" class=\"dataframe\">\n",
       "  <thead>\n",
       "    <tr style=\"text-align: right;\">\n",
       "      <th></th>\n",
       "      <th>satisfaction_level</th>\n",
       "      <th>last_evaluation</th>\n",
       "      <th>number_project</th>\n",
       "      <th>average_montly_hours</th>\n",
       "      <th>time_spend_company</th>\n",
       "      <th>Work_accident</th>\n",
       "      <th>left</th>\n",
       "      <th>promotion_last_5years</th>\n",
       "      <th>sales</th>\n",
       "      <th>salary</th>\n",
       "    </tr>\n",
       "  </thead>\n",
       "  <tbody>\n",
       "    <tr>\n",
       "      <th>0</th>\n",
       "      <td>0.38</td>\n",
       "      <td>0.53</td>\n",
       "      <td>2</td>\n",
       "      <td>157</td>\n",
       "      <td>3</td>\n",
       "      <td>0</td>\n",
       "      <td>1</td>\n",
       "      <td>0</td>\n",
       "      <td>sales</td>\n",
       "      <td>1</td>\n",
       "    </tr>\n",
       "    <tr>\n",
       "      <th>1</th>\n",
       "      <td>0.80</td>\n",
       "      <td>0.86</td>\n",
       "      <td>5</td>\n",
       "      <td>262</td>\n",
       "      <td>6</td>\n",
       "      <td>0</td>\n",
       "      <td>1</td>\n",
       "      <td>0</td>\n",
       "      <td>sales</td>\n",
       "      <td>2</td>\n",
       "    </tr>\n",
       "    <tr>\n",
       "      <th>2</th>\n",
       "      <td>0.11</td>\n",
       "      <td>0.88</td>\n",
       "      <td>7</td>\n",
       "      <td>272</td>\n",
       "      <td>4</td>\n",
       "      <td>0</td>\n",
       "      <td>1</td>\n",
       "      <td>0</td>\n",
       "      <td>sales</td>\n",
       "      <td>2</td>\n",
       "    </tr>\n",
       "    <tr>\n",
       "      <th>3</th>\n",
       "      <td>0.72</td>\n",
       "      <td>0.87</td>\n",
       "      <td>5</td>\n",
       "      <td>223</td>\n",
       "      <td>5</td>\n",
       "      <td>0</td>\n",
       "      <td>1</td>\n",
       "      <td>0</td>\n",
       "      <td>sales</td>\n",
       "      <td>1</td>\n",
       "    </tr>\n",
       "    <tr>\n",
       "      <th>4</th>\n",
       "      <td>0.37</td>\n",
       "      <td>0.52</td>\n",
       "      <td>2</td>\n",
       "      <td>159</td>\n",
       "      <td>3</td>\n",
       "      <td>0</td>\n",
       "      <td>1</td>\n",
       "      <td>0</td>\n",
       "      <td>sales</td>\n",
       "      <td>1</td>\n",
       "    </tr>\n",
       "  </tbody>\n",
       "</table>\n",
       "</div>"
      ],
      "text/plain": [
       "   satisfaction_level  last_evaluation  number_project  average_montly_hours  \\\n",
       "0                0.38             0.53               2                   157   \n",
       "1                0.80             0.86               5                   262   \n",
       "2                0.11             0.88               7                   272   \n",
       "3                0.72             0.87               5                   223   \n",
       "4                0.37             0.52               2                   159   \n",
       "\n",
       "   time_spend_company  Work_accident  left  promotion_last_5years  sales  \\\n",
       "0                   3              0     1                      0  sales   \n",
       "1                   6              0     1                      0  sales   \n",
       "2                   4              0     1                      0  sales   \n",
       "3                   5              0     1                      0  sales   \n",
       "4                   3              0     1                      0  sales   \n",
       "\n",
       "   salary  \n",
       "0       1  \n",
       "1       2  \n",
       "2       2  \n",
       "3       1  \n",
       "4       1  "
      ]
     },
     "execution_count": 6,
     "metadata": {},
     "output_type": "execute_result"
    }
   ],
   "source": [
    "df.head()"
   ]
  },
  {
   "cell_type": "code",
   "execution_count": 7,
   "metadata": {},
   "outputs": [
    {
     "data": {
      "text/plain": [
       "0    4000\n",
       "1    3571\n",
       "Name: left, dtype: int64"
      ]
     },
     "execution_count": 7,
     "metadata": {},
     "output_type": "execute_result"
    }
   ],
   "source": [
    "left = df[df['left'] == 1].sample(frac=1)\n",
    "stayed = df[df['left'] == 0].sample(frac=0.35)\n",
    "df = pd.concat([left,stayed])\n",
    "df['left'].value_counts()"
   ]
  },
  {
   "cell_type": "code",
   "execution_count": 8,
   "metadata": {
    "slideshow": {
     "slide_type": "slide"
    }
   },
   "outputs": [
    {
     "data": {
      "text/plain": [
       "<matplotlib.axes._subplots.AxesSubplot at 0x10e0b94a8>"
      ]
     },
     "execution_count": 8,
     "metadata": {},
     "output_type": "execute_result"
    },
    {
     "data": {
      "image/png": "[encoded data removed]",
      "text/plain": [
       "<Figure size 720x576 with 2 Axes>"
      ]
     },
     "metadata": {},
     "output_type": "display_data"
    }
   ],
   "source": [
    "plt.figure(figsize=(10,8))\n",
    "corr = df.corr()\n",
    "sns.heatmap(corr, cmap='coolwarm', annot=True)"
   ]
  },
  {
   "cell_type": "code",
   "execution_count": 9,
   "metadata": {},
   "outputs": [],
   "source": [
    "stayed = df[df['left'] == 0]\n",
    "left  = df[df['left'] == 1]"
   ]
  },
  {
   "cell_type": "code",
   "execution_count": 10,
   "metadata": {
    "slideshow": {
     "slide_type": "slide"
    }
   },
   "outputs": [
    {
     "data": {
      "text/plain": [
       "<matplotlib.axes._subplots.AxesSubplot at 0x1155c3f98>"
      ]
     },
     "execution_count": 10,
     "metadata": {},
     "output_type": "execute_result"
    },
    {
     "data": {
      "image/png": "[encoded data removed]",
      "text/plain": [
       "<Figure size 720x432 with 1 Axes>"
      ]
     },
     "metadata": {},
     "output_type": "display_data"
    }
   ],
   "source": [
    "plt.figure(figsize=(10,6))\n",
    "sns.kdeplot(stayed['satisfaction_level'], color='g',shade=True, label='Stayed')\n",
    "sns.kdeplot(left['satisfaction_level'], color='r',shade=True, label='Left')"
   ]
  },
  {
   "cell_type": "markdown",
   "metadata": {},
   "source": [
    "People who have left were in general less satisfied with their jobs (<0.5).  \n",
    "However there are also people who are quite satisfied with their jobs but still left.  \n",
    "This means that there are other factors contributing to an employee leaving their job other than them being satisfied with their job or not. "
   ]
  },
  {
   "cell_type": "code",
   "execution_count": null,
   "metadata": {},
   "outputs": [],
   "source": [
    "unhappy = df[df['satisfaction_level']<0.5]\n",
    "happy = df[0.5<df['satisfaction_level']]"
   ]
  },
  {
   "cell_type": "code",
   "execution_count": null,
   "metadata": {},
   "outputs": [],
   "source": [
    "plt.figure(figsize=(10,6))\n",
    "sns.kdeplot(happy['average_montly_hours'], color = 'b', shade=True)\n",
    "sns.kdeplot(unhappy['average_montly_hours'], color = 'r', shade=True)\n",
    "plt.legend(['Left','stayed'])"
   ]
  },
  {
   "cell_type": "markdown",
   "metadata": {},
   "source": [
    "Many more dataviz analysis could be done like so, but we only have one hour so let's keep going."
   ]
  },
  {
   "cell_type": "markdown",
   "metadata": {},
   "source": [
    "# Part 2 : Machine learning\n",
    "We will start with an easy to visualise algorithm : **the decision tree**.   \n",
    "Unlike many other machine learning algorithms, decision trees require very little data preparation (no feature scaling or centering).  \n",
    "Normally we should have done a Part 0 : Data cleaning & preparation"
   ]
  },
  {
   "cell_type": "markdown",
   "metadata": {},
   "source": [
    "### Split the data for training and testing"
   ]
  },
  {
   "cell_type": "code",
   "execution_count": 11,
   "metadata": {},
   "outputs": [
    {
     "name": "stdout",
     "output_type": "stream",
     "text": [
      "Training set volume: 5678\n",
      "Test set volume: 1893\n"
     ]
    }
   ],
   "source": [
    "X = df[['satisfaction_level','average_montly_hours','promotion_last_5years','salary','number_project']]\n",
    "y = df['left']\n",
    "X_train, X_test, y_train, y_test = train_test_split(X, y)\n",
    "print('Training set volume:', X_train.shape[0])\n",
    "print('Test set volume:', X_test.shape[0])"
   ]
  },
  {
   "cell_type": "markdown",
   "metadata": {},
   "source": [
    "### Train a simple decision tree"
   ]
  },
  {
   "cell_type": "code",
   "execution_count": 12,
   "metadata": {},
   "outputs": [
    {
     "data": {
      "text/plain": [
       "DecisionTreeClassifier(class_weight=None, criterion='gini', max_depth=3,\n",
       "            max_features=None, max_leaf_nodes=None,\n",
       "            min_impurity_decrease=0.0, min_impurity_split=None,\n",
       "            min_samples_leaf=1, min_samples_split=25,\n",
       "            min_weight_fraction_leaf=0.0, presort=False, random_state=None,\n",
       "            splitter='best')"
      ]
     },
     "execution_count": 12,
     "metadata": {},
     "output_type": "execute_result"
    }
   ],
   "source": [
    "from sklearn.tree import DecisionTreeClassifier\n",
    "\n",
    "tree_clf = DecisionTreeClassifier(min_samples_split=25,max_depth=3)\n",
    "tree_clf.fit(X_train, y_train)"
   ]
  },
  {
   "cell_type": "code",
   "execution_count": 13,
   "metadata": {},
   "outputs": [],
   "source": [
    "y_predict = tree_clf.predict(X_test)"
   ]
  },
  {
   "cell_type": "code",
   "execution_count": 14,
   "metadata": {},
   "outputs": [
    {
     "name": "stdout",
     "output_type": "stream",
     "text": [
      "Accuracy score : 0.861067\n"
     ]
    }
   ],
   "source": [
    "print(\"Accuracy score : %f\" % accuracy_score(y_test, y_predict))"
   ]
  },
  {
   "cell_type": "markdown",
   "metadata": {},
   "source": [
    "85 % of predictions on the test dataset were right."
   ]
  },
  {
   "cell_type": "markdown",
   "metadata": {},
   "source": [
    "!['HR tree'](./hr_tree3.png)"
   ]
  },
  {
   "cell_type": "markdown",
   "metadata": {},
   "source": [
    "A node’s **samples** attribute counts how many training instances it applies to.   \n",
    "A node’s **value** attribute tells you how many training instances of each class this node applies to.  \n",
    "A node’s **gini** attribute measures its impurity: a node is “pure” (gini=0) if all training instances it applies to belong to the same class.  \n",
    "For example for left leaf : \n",
    "$$1 − \\frac{25}{1162}^2 − \\frac{1137}{1162}^2 ≈ 0.0421$$"
   ]
  },
  {
   "cell_type": "markdown",
   "metadata": {},
   "source": [
    "### Train a bigger decision tree"
   ]
  },
  {
   "cell_type": "code",
   "execution_count": 15,
   "metadata": {},
   "outputs": [
    {
     "name": "stdout",
     "output_type": "stream",
     "text": [
      "Accuracy score for depth 1: 0.7876386687797148\n",
      "Accuracy score for depth 2: 0.7876386687797148\n",
      "Accuracy score for depth 3: 0.8610670892762811\n",
      "Accuracy score for depth 4: 0.9070258848388801\n",
      "Accuracy score for depth 5: 0.9181193872160591\n",
      "Accuracy score for depth 6: 0.9175911251980983\n",
      "Accuracy score for depth 7: 0.9228737453777074\n",
      "Accuracy score for depth 8: 0.9234020073956682\n",
      "Accuracy score for depth 9: 0.9218172213417856\n",
      "Accuracy score for depth 10: 0.9223454833597464\n",
      "Accuracy score for depth 11: 0.9260433174854728\n",
      "Accuracy score for depth 12: 0.9223454833597464\n",
      "Accuracy score for depth 13: 0.9218172213417856\n",
      "Accuracy score for depth 14: 0.9212889593238246\n",
      "Accuracy score for depth 15: 0.9207606973058637\n",
      "Accuracy score for depth 16: 0.9202324352879028\n",
      "Accuracy score for depth 17: 0.9197041732699419\n",
      "Accuracy score for depth 18: 0.919175911251981\n",
      "Accuracy score for depth 19: 0.9175911251980983\n",
      "Accuracy score for depth 20: 0.9170628631801373\n",
      "Accuracy score for depth 21: 0.9186476492340201\n",
      "Accuracy score for depth 22: 0.9181193872160591\n",
      "Accuracy score for depth 23: 0.9186476492340201\n",
      "Accuracy score for depth 24: 0.9181193872160591\n",
      "Accuracy score for depth 25: 0.9181193872160591\n",
      "Accuracy score for depth 26: 0.9181193872160591\n",
      "Accuracy score for depth 27: 0.9186476492340201\n",
      "Accuracy score for depth 28: 0.9186476492340201\n",
      "Accuracy score for depth 29: 0.9181193872160591\n",
      "Accuracy score for depth 30: 0.9186476492340201\n",
      "Accuracy score for depth 31: 0.9186476492340201\n",
      "Accuracy score for depth 32: 0.9186476492340201\n",
      "Accuracy score for depth 33: 0.9181193872160591\n",
      "Accuracy score for depth 34: 0.9186476492340201\n",
      "Accuracy score for depth 35: 0.9186476492340201\n",
      "Accuracy score for depth 36: 0.9186476492340201\n",
      "Accuracy score for depth 37: 0.9186476492340201\n",
      "Accuracy score for depth 38: 0.9181193872160591\n",
      "Accuracy score for depth 39: 0.9181193872160591\n",
      "Accuracy score for depth 40: 0.9186476492340201\n",
      "Accuracy score for depth 41: 0.9186476492340201\n",
      "Accuracy score for depth 42: 0.9181193872160591\n",
      "Accuracy score for depth 43: 0.9181193872160591\n",
      "Accuracy score for depth 44: 0.9181193872160591\n",
      "Accuracy score for depth 45: 0.9186476492340201\n",
      "Accuracy score for depth 46: 0.9186476492340201\n",
      "Accuracy score for depth 47: 0.9186476492340201\n",
      "Accuracy score for depth 48: 0.9181193872160591\n",
      "Accuracy score for depth 49: 0.9181193872160591\n",
      "Accuracy score for depth 50: 0.9181193872160591\n",
      "Accuracy score for depth 51: 0.9181193872160591\n",
      "Accuracy score for depth 52: 0.9181193872160591\n",
      "Accuracy score for depth 53: 0.9181193872160591\n",
      "Accuracy score for depth 54: 0.9186476492340201\n",
      "Accuracy score for depth 55: 0.9186476492340201\n",
      "Accuracy score for depth 56: 0.9181193872160591\n",
      "Accuracy score for depth 57: 0.9186476492340201\n",
      "Accuracy score for depth 58: 0.9186476492340201\n",
      "Accuracy score for depth 59: 0.9186476492340201\n",
      "Accuracy score for depth 60: 0.9181193872160591\n",
      "Accuracy score for depth 61: 0.9186476492340201\n",
      "Accuracy score for depth 62: 0.9181193872160591\n",
      "Accuracy score for depth 63: 0.9181193872160591\n",
      "Accuracy score for depth 64: 0.9186476492340201\n",
      "Accuracy score for depth 65: 0.9186476492340201\n",
      "Accuracy score for depth 66: 0.9186476492340201\n",
      "Accuracy score for depth 67: 0.9186476492340201\n",
      "Accuracy score for depth 68: 0.9181193872160591\n",
      "Accuracy score for depth 69: 0.9186476492340201\n",
      "Accuracy score for depth 70: 0.9181193872160591\n",
      "Accuracy score for depth 71: 0.9181193872160591\n",
      "Accuracy score for depth 72: 0.9181193872160591\n",
      "Accuracy score for depth 73: 0.9186476492340201\n",
      "Accuracy score for depth 74: 0.9186476492340201\n",
      "Accuracy score for depth 75: 0.9181193872160591\n",
      "Accuracy score for depth 76: 0.9181193872160591\n",
      "Accuracy score for depth 77: 0.9181193872160591\n",
      "Accuracy score for depth 78: 0.9181193872160591\n",
      "Accuracy score for depth 79: 0.9181193872160591\n",
      "Accuracy score for depth 80: 0.9186476492340201\n",
      "Accuracy score for depth 81: 0.9181193872160591\n",
      "Accuracy score for depth 82: 0.9186476492340201\n",
      "Accuracy score for depth 83: 0.9186476492340201\n",
      "Accuracy score for depth 84: 0.9181193872160591\n",
      "Accuracy score for depth 85: 0.9181193872160591\n",
      "Accuracy score for depth 86: 0.9181193872160591\n",
      "Accuracy score for depth 87: 0.9186476492340201\n",
      "Accuracy score for depth 88: 0.9181193872160591\n",
      "Accuracy score for depth 89: 0.9186476492340201\n",
      "Accuracy score for depth 90: 0.9186476492340201\n",
      "Accuracy score for depth 91: 0.9181193872160591\n",
      "Accuracy score for depth 92: 0.9181193872160591\n",
      "Accuracy score for depth 93: 0.9181193872160591\n",
      "Accuracy score for depth 94: 0.9181193872160591\n",
      "Accuracy score for depth 95: 0.9181193872160591\n",
      "Accuracy score for depth 96: 0.9186476492340201\n",
      "Accuracy score for depth 97: 0.9186476492340201\n",
      "Accuracy score for depth 98: 0.9181193872160591\n",
      "Accuracy score for depth 99: 0.9186476492340201\n"
     ]
    }
   ],
   "source": [
    "for depth in range(1,100):\n",
    "    big_tree_clf = DecisionTreeClassifier(min_samples_split=25,max_depth=depth)\n",
    "    big_tree_clf.fit(X_train, y_train)\n",
    "    predicts_dt = big_tree_clf.predict(X_test)\n",
    "    print(\"Accuracy score for depth {}: {}\".format(depth,accuracy_score(y_test, predicts_dt)))"
   ]
  },
  {
   "cell_type": "markdown",
   "metadata": {},
   "source": [
    "!['HR heavy tree'](./big_hr_tree3.png)"
   ]
  },
  {
   "cell_type": "markdown",
   "metadata": {},
   "source": [
    "### The CART training algorithm  \n",
    "\n",
    "Scikit-Learn uses the Classication And Regression Tree (CART) algorithm to train Decision Trees.  \n",
    "The idea is really quite simple: the algorithm first splits the training set in two subsets using a single feature k and a threshold tk (eg. “satisfaction level ≤ 0.4”). \n",
    "Then it searches for the pair k, tk that produces the purest subsets (weighted by their size).  \n",
    "The cost function that the algorithm tries to minimize is given by :\n",
    "$$ J(k,t_{k})   = \\frac{m_{left}*G_{left}}{m}  + \\frac{m_{right}*G_{right}}{m} $$\n",
    "Where $G_{left}$ measures the impurity of the left subset.  \n",
    "$m_{left}$ is the number of instances in the left subset.  \n",
    "Once it has successfully split the training set in two, it splits the subsets using the same logic, then the sub-subsets and so on, recursively. It stops recursing once it reaches the maximum depth (defined by the max_depth hyperparameter), or if it cannot find a split that will reduce impurity.\n",
    "\n"
   ]
  },
  {
   "cell_type": "markdown",
   "metadata": {},
   "source": [
    "# Random forest"
   ]
  },
  {
   "cell_type": "markdown",
   "metadata": {},
   "source": [
    "A random forest algorithm is an ensemble of Decision Tree classifiers, each trained on a random subset of the training dataset.   \n",
    "To make predictions, you just obtain the predictions of all individual trees, then predict the class that gets the most votes.   \n",
    "Despite its simplicity, this is one of the most powerful Machine Learning algorithms available today thanks to the law of large numbers."
   ]
  },
  {
   "cell_type": "code",
   "execution_count": 16,
   "metadata": {},
   "outputs": [
    {
     "name": "stdout",
     "output_type": "stream",
     "text": [
      "Accuracy score : 0.924459\n"
     ]
    }
   ],
   "source": [
    "from sklearn.ensemble import RandomForestClassifier\n",
    "\n",
    "#Random forest classifier\n",
    "clf_rf = RandomForestClassifier(n_estimators = 10,min_samples_split=25,max_depth=30)\n",
    "clf_rf.fit(X_train, y_train)\n",
    "\n",
    "accuracy_rf = clf_rf.score(X_test,y_test)\n",
    "print(\"Accuracy score : %f\" % accuracy_rf)"
   ]
  },
  {
   "cell_type": "code",
   "execution_count": 17,
   "metadata": {},
   "outputs": [
    {
     "data": {
      "text/html": [
       "<div>\n",
       "<style scoped>\n",
       "    .dataframe tbody tr th:only-of-type {\n",
       "        vertical-align: middle;\n",
       "    }\n",
       "\n",
       "    .dataframe tbody tr th {\n",
       "        vertical-align: top;\n",
       "    }\n",
       "\n",
       "    .dataframe thead th {\n",
       "        text-align: right;\n",
       "    }\n",
       "</style>\n",
       "<table border=\"1\" class=\"dataframe\">\n",
       "  <thead>\n",
       "    <tr style=\"text-align: right;\">\n",
       "      <th></th>\n",
       "      <th>satisfaction_level</th>\n",
       "      <th>average_montly_hours</th>\n",
       "      <th>promotion_last_5years</th>\n",
       "      <th>salary</th>\n",
       "      <th>number_project</th>\n",
       "    </tr>\n",
       "  </thead>\n",
       "  <tbody>\n",
       "    <tr>\n",
       "      <th>2766</th>\n",
       "      <td>0.80</td>\n",
       "      <td>269</td>\n",
       "      <td>0</td>\n",
       "      <td>2</td>\n",
       "      <td>4</td>\n",
       "    </tr>\n",
       "    <tr>\n",
       "      <th>5397</th>\n",
       "      <td>0.62</td>\n",
       "      <td>274</td>\n",
       "      <td>0</td>\n",
       "      <td>2</td>\n",
       "      <td>3</td>\n",
       "    </tr>\n",
       "    <tr>\n",
       "      <th>610</th>\n",
       "      <td>0.09</td>\n",
       "      <td>256</td>\n",
       "      <td>0</td>\n",
       "      <td>2</td>\n",
       "      <td>7</td>\n",
       "    </tr>\n",
       "    <tr>\n",
       "      <th>10933</th>\n",
       "      <td>0.58</td>\n",
       "      <td>274</td>\n",
       "      <td>1</td>\n",
       "      <td>2</td>\n",
       "      <td>3</td>\n",
       "    </tr>\n",
       "    <tr>\n",
       "      <th>14478</th>\n",
       "      <td>0.45</td>\n",
       "      <td>129</td>\n",
       "      <td>0</td>\n",
       "      <td>3</td>\n",
       "      <td>2</td>\n",
       "    </tr>\n",
       "  </tbody>\n",
       "</table>\n",
       "</div>"
      ],
      "text/plain": [
       "       satisfaction_level  average_montly_hours  promotion_last_5years  \\\n",
       "2766                 0.80                   269                      0   \n",
       "5397                 0.62                   274                      0   \n",
       "610                  0.09                   256                      0   \n",
       "10933                0.58                   274                      1   \n",
       "14478                0.45                   129                      0   \n",
       "\n",
       "       salary  number_project  \n",
       "2766        2               4  \n",
       "5397        2               3  \n",
       "610         2               7  \n",
       "10933       2               3  \n",
       "14478       3               2  "
      ]
     },
     "execution_count": 17,
     "metadata": {},
     "output_type": "execute_result"
    }
   ],
   "source": [
    "X_test.head(5)"
   ]
  },
  {
   "cell_type": "code",
   "execution_count": 18,
   "metadata": {},
   "outputs": [
    {
     "data": {
      "text/plain": [
       "array([0, 0, 1, 0, 1])"
      ]
     },
     "execution_count": 18,
     "metadata": {},
     "output_type": "execute_result"
    }
   ],
   "source": [
    "clf_rf.predict(X_test.head(5))"
   ]
  },
  {
   "cell_type": "markdown",
   "metadata": {},
   "source": [
    "# What are the most important features ?\n",
    "A score can be computed for each feature depending on the overall distance from the root of the tree. \n",
    "\n",
    "# http://datascience.fabdev.fr"
   ]
  },
  {
   "cell_type": "code",
   "execution_count": null,
   "metadata": {},
   "outputs": [],
   "source": [
    "for name, score in zip(X_test.columns, clf_rf.feature_importances_):\n",
    "    print(\"{} : {}\".format(name, score))"
   ]
  },
  {
   "cell_type": "markdown",
   "metadata": {},
   "source": [
    "## Training on all available data and exporting the model for later use"
   ]
  },
  {
   "cell_type": "code",
   "execution_count": 19,
   "metadata": {},
   "outputs": [
    {
     "data": {
      "text/plain": [
       "['rf_model.pkl']"
      ]
     },
     "execution_count": 19,
     "metadata": {},
     "output_type": "execute_result"
    }
   ],
   "source": [
    "clf_rf = RandomForestClassifier(n_estimators = 10,min_samples_split=25,max_depth=30)\n",
    "clf_rf.fit(X, y)\n",
    "from sklearn.externals import joblib\n",
    "joblib.dump(clf_rf, 'rf_model.pkl')"
   ]
  },
  {
   "cell_type": "code",
   "execution_count": null,
   "metadata": {},
   "outputs": [],
   "source": [
    "df.head()"
   ]
  },
  {
   "cell_type": "markdown",
   "metadata": {},
   "source": [
    "# http://datascience.fabdev.fr/"
   ]
  },
  {
   "cell_type": "code",
   "execution_count": null,
   "metadata": {},
   "outputs": [],
   "source": []
  }
 ],
 "metadata": {
  "celltoolbar": "Slideshow",
  "kernelspec": {
   "display_name": "Python 3",
   "language": "python",
   "name": "python3"
  },
  "language_info": {
   "codemirror_mode": {
    "name": "ipython",
    "version": 3
   },
   "file_extension": ".py",
   "mimetype": "text/x-python",
   "name": "python",
   "nbconvert_exporter": "python",
   "pygments_lexer": "ipython3",
   "version": "3.6.5"
  }
 },
 "nbformat": 4,
 "nbformat_minor": 2
}
