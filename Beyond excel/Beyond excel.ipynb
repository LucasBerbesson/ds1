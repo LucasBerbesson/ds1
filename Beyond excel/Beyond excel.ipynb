{
 "cells": [
  {
   "cell_type": "markdown",
   "metadata": {
    "slideshow": {
     "slide_type": "slide"
    }
   },
   "source": [
    "# Beyond Excel"
   ]
  },
  {
   "cell_type": "markdown",
   "metadata": {
    "slideshow": {
     "slide_type": "slide"
    }
   },
   "source": [
    "### Mathieu Soul\n",
    "\n",
    "### Fabdev\n",
    "We make algorithms, APIs, platforms, data analyses, automatisation tools.  \n",
    "Specialized in Python and open-source technologies. "
   ]
  },
  {
   "cell_type": "markdown",
   "metadata": {
    "slideshow": {
     "slide_type": "slide"
    }
   },
   "source": [
    "# Excel is good for :\n",
    "- Non programmers\n",
    "- Ready-to-use data\n",
    "- Quick and visual analysis\n",
    "- 1 user applications"
   ]
  },
  {
   "cell_type": "markdown",
   "metadata": {
    "slideshow": {
     "slide_type": "slide"
    }
   },
   "source": [
    "# Python is good for :\n",
    "EVERYTHING ELSE.  \n",
    "ex : easily expose what you want (simpler interfaces), easier to maintain, multiple simultaneous users.\n"
   ]
  },
  {
   "cell_type": "markdown",
   "metadata": {
    "slideshow": {
     "slide_type": "slide"
    }
   },
   "source": [
    "# But, what is Python ?"
   ]
  },
  {
   "cell_type": "markdown",
   "metadata": {
    "slideshow": {
     "slide_type": "subslide"
    }
   },
   "source": [
    "### Python is a programming language :\n",
    "\n",
    "   - One of the most popular programming languages: https://www.tiobe.com/tiobe-index/\n",
    "   - Has a large support community: https://insights.stackoverflow.com/trends?tags=java%2Cc%2Cc%2B%2B%2Cpython%2Cc%23%2Cvb.net%2Cjavascript%2Cassembly%2Cphp%2Cperl%2Cruby%2Cswift%2Cr%2Cobjective-c\n",
    "   - Is the most used language for Data Science : https://www.kaggle.com/surveys/2017?utm_content=buffer345c0&utm_medium=social&utm_source=linkedin.com&utm_campaign=buffer\n",
    "   - Is free and opensource!\n",
    "   \n",
    "   \n",
    "   \n"
   ]
  },
  {
   "cell_type": "markdown",
   "metadata": {
    "slideshow": {
     "slide_type": "skip"
    }
   },
   "source": [
    "# About this notebook\n",
    "This notebook is a useful way to run code during a presentation but there are multiple other ways to write and run some Python code.   \n",
    "For example you can open up a shell command and type \"python\".  \n",
    "Or write your code inside a ``.py`` file with a text editor and launch the script from the same shell.  \n"
   ]
  },
  {
   "cell_type": "code",
   "execution_count": 48,
   "metadata": {},
   "outputs": [
    {
     "name": "stdout",
     "output_type": "stream",
     "text": [
      "Hello\n"
     ]
    }
   ],
   "source": [
    "print('Hello')"
   ]
  },
  {
   "cell_type": "markdown",
   "metadata": {
    "slideshow": {
     "slide_type": "slide"
    }
   },
   "source": [
    "# A taste of Python data structures\n",
    "Python uses many different objects to store data.   \n",
    "They all have their specifications and their custom methods.  \n",
    "We are going to focus on the two main ones (lists and dicts) which are representative of the \"Python spirit\". "
   ]
  },
  {
   "cell_type": "markdown",
   "metadata": {
    "slideshow": {
     "slide_type": "slide"
    }
   },
   "source": [
    "## Lists\n",
    "Lists are ordered sequence of values.   \n",
    "You can create, update, concatenate, loop, search, index, add, slice, delete, analyse ..."
   ]
  },
  {
   "cell_type": "code",
   "execution_count": 49,
   "metadata": {
    "slideshow": {
     "slide_type": "subslide"
    }
   },
   "outputs": [
    {
     "name": "stdout",
     "output_type": "stream",
     "text": [
      "['cat', 'dog', 'rat', 'bat', 'snake', 'bird', 'spider', 'lion']\n"
     ]
    }
   ],
   "source": [
    "zoo = ['cat','dog', 'rat', 'bat','snake','bird','spider','lion']\n",
    "print(zoo)"
   ]
  },
  {
   "cell_type": "code",
   "execution_count": 50,
   "metadata": {
    "slideshow": {
     "slide_type": "fragment"
    }
   },
   "outputs": [
    {
     "data": {
      "text/plain": [
       "'bat'"
      ]
     },
     "execution_count": 50,
     "metadata": {},
     "output_type": "execute_result"
    }
   ],
   "source": [
    "# Access any element of the list by calling its index\n",
    "zoo[3]"
   ]
  },
  {
   "cell_type": "code",
   "execution_count": 51,
   "metadata": {
    "slideshow": {
     "slide_type": "slide"
    }
   },
   "outputs": [
    {
     "data": {
      "text/plain": [
       "3"
      ]
     },
     "execution_count": 51,
     "metadata": {},
     "output_type": "execute_result"
    }
   ],
   "source": [
    "# We can put all sorts of objects inside a list\n",
    "mylist = [\"b\", \"a\", 3, 3.14, 4]\n",
    "mylist[2]"
   ]
  },
  {
   "cell_type": "code",
   "execution_count": 52,
   "metadata": {
    "slideshow": {
     "slide_type": "slide"
    }
   },
   "outputs": [
    {
     "data": {
      "text/plain": [
       "'target'"
      ]
     },
     "execution_count": 52,
     "metadata": {},
     "output_type": "execute_result"
    }
   ],
   "source": [
    "# Even other lists (these are called nested lists)\n",
    "nest = [1, 2, 3, [4, 5, ['fake target', 'target']]]\n",
    "\n",
    "# Quizz : how do I get the 'target' element ?\n",
    "nest[3][2][1]"
   ]
  },
  {
   "cell_type": "code",
   "execution_count": 54,
   "metadata": {
    "slideshow": {
     "slide_type": "skip"
    }
   },
   "outputs": [
    {
     "data": {
      "text/plain": [
       "True"
      ]
     },
     "execution_count": 54,
     "metadata": {},
     "output_type": "execute_result"
    }
   ],
   "source": [
    "# We can check if an element is in a list with the keyword \"in\"\n",
    "'fish' not in zoo"
   ]
  },
  {
   "cell_type": "code",
   "execution_count": 60,
   "metadata": {
    "slideshow": {
     "slide_type": "subslide"
    }
   },
   "outputs": [
    {
     "name": "stdout",
     "output_type": "stream",
     "text": [
      "cat\n",
      "snake\n"
     ]
    }
   ],
   "source": [
    "# The power of the \"for\" loop\n",
    "\n",
    "zoo = [\"cat\", \"bird\", \"dog\", \"snake\", \"fish\"]\n",
    "\n",
    "for animal in zoo:\n",
    "    if 'a' in animal:\n",
    "        print(animal)\n",
    "\n",
    "    "
   ]
  },
  {
   "cell_type": "code",
   "execution_count": 77,
   "metadata": {
    "scrolled": true,
    "slideshow": {
     "slide_type": "subslide"
    }
   },
   "outputs": [
    {
     "ename": "ValueError",
     "evalue": "list.remove(x): x not in list",
     "output_type": "error",
     "traceback": [
      "\u001b[0;31m---------------------------------------------------------------------------\u001b[0m",
      "\u001b[0;31mValueError\u001b[0m                                Traceback (most recent call last)",
      "\u001b[0;32m<ipython-input-77-ab1d2aa13979>\u001b[0m in \u001b[0;36m<module>\u001b[0;34m\u001b[0m\n\u001b[1;32m      4\u001b[0m \u001b[0;34m\u001b[0m\u001b[0m\n\u001b[1;32m      5\u001b[0m \u001b[0;31m# Try to search on google \"remove an element from a python list\".\u001b[0m\u001b[0;34m\u001b[0m\u001b[0;34m\u001b[0m\u001b[0m\n\u001b[0;32m----> 6\u001b[0;31m \u001b[0mzoo\u001b[0m\u001b[0;34m.\u001b[0m\u001b[0mremove\u001b[0m\u001b[0;34m(\u001b[0m\u001b[0;34m'fish'\u001b[0m\u001b[0;34m)\u001b[0m\u001b[0;34m\u001b[0m\u001b[0m\n\u001b[0m\u001b[1;32m      7\u001b[0m \u001b[0mprint\u001b[0m\u001b[0;34m(\u001b[0m\u001b[0mzoo\u001b[0m\u001b[0;34m)\u001b[0m\u001b[0;34m\u001b[0m\u001b[0m\n",
      "\u001b[0;31mValueError\u001b[0m: list.remove(x): x not in list"
     ]
    }
   ],
   "source": [
    "# \"append\" is one of the many methods we can use on our list. It adds an element at the end of the list.\n",
    "\n",
    "\n",
    "\n",
    "# Try to search on google \"remove an element from a python list\".\n",
    "zoo.remove('fish')\n",
    "print(zoo)"
   ]
  },
  {
   "cell_type": "code",
   "execution_count": 64,
   "metadata": {
    "slideshow": {
     "slide_type": "fragment"
    }
   },
   "outputs": [
    {
     "name": "stdout",
     "output_type": "stream",
     "text": [
      "fish\n",
      "fish\n",
      "fish\n",
      "fish\n",
      "snake\n",
      "dog\n",
      "bird\n",
      "cat\n"
     ]
    }
   ],
   "source": [
    "# Another method example is \"reverse\"\n",
    "for animal in reversed(zoo):\n",
    "    print(animal)\n"
   ]
  },
  {
   "cell_type": "code",
   "execution_count": null,
   "metadata": {
    "slideshow": {
     "slide_type": "fragment"
    }
   },
   "outputs": [],
   "source": [
    "# Find the position of a specific element\n",
    "zoo.index('lion')"
   ]
  },
  {
   "cell_type": "code",
   "execution_count": null,
   "metadata": {
    "slideshow": {
     "slide_type": "skip"
    }
   },
   "outputs": [],
   "source": [
    "# Merge 2 lists\n",
    "a = [1, 2, 3]\n",
    "b = [4, 5, 6]\n",
    "c = a + b\n",
    "print(c)"
   ]
  },
  {
   "cell_type": "code",
   "execution_count": null,
   "metadata": {
    "slideshow": {
     "slide_type": "skip"
    }
   },
   "outputs": [],
   "source": [
    "# Remove duplicates\n",
    "a = [1, 2, 3, 4, 3, 5, 1, 6]\n",
    "list(set(a))"
   ]
  },
  {
   "cell_type": "code",
   "execution_count": null,
   "metadata": {
    "slideshow": {
     "slide_type": "skip"
    }
   },
   "outputs": [],
   "source": [
    "# Slice lists\n",
    "a = [0,1, 2, 3, 4, 5, 6,7,8,9,10]\n",
    "print(a[2:4])\n",
    "print(a[1:])\n",
    "print(a[:-1])\n",
    "print(a[::2])"
   ]
  },
  {
   "cell_type": "code",
   "execution_count": null,
   "metadata": {
    "slideshow": {
     "slide_type": "skip"
    }
   },
   "outputs": [],
   "source": [
    "# List comprehensions\n",
    "a = [i for i in range(100)] \n",
    "print(a)"
   ]
  },
  {
   "cell_type": "code",
   "execution_count": null,
   "metadata": {
    "slideshow": {
     "slide_type": "skip"
    }
   },
   "outputs": [],
   "source": [
    "a = [i for i in range(100) if i%2==0]\n",
    "print(a)"
   ]
  },
  {
   "cell_type": "code",
   "execution_count": null,
   "metadata": {
    "slideshow": {
     "slide_type": "skip"
    }
   },
   "outputs": [],
   "source": [
    "def square(x):\n",
    "    return x**2\n",
    "b = [square(x) for x in a]\n",
    "print(b)"
   ]
  },
  {
   "cell_type": "code",
   "execution_count": null,
   "metadata": {
    "slideshow": {
     "slide_type": "skip"
    }
   },
   "outputs": [],
   "source": [
    "a = [1, 2, 3, 4]\n",
    "b = [3, 4, 5, 6]\n",
    "\n",
    "c = [x for x in a if x not in b]\n",
    "c"
   ]
  },
  {
   "cell_type": "markdown",
   "metadata": {
    "slideshow": {
     "slide_type": "slide"
    }
   },
   "source": [
    "## Dicts\n",
    "Like a list, a dictionary is a collection of many values.  \n",
    "But unlike indexes for lists which are integers (zoo[4]), indexes for dicts can be strings or any other type. \n",
    "Indexes for dictionaries are called keys.  \n",
    "Also dicts are unordered. "
   ]
  },
  {
   "cell_type": "code",
   "execution_count": 87,
   "metadata": {
    "slideshow": {
     "slide_type": "subslide"
    }
   },
   "outputs": [],
   "source": [
    "# Creation of a dictionnary called \"populations\"\n",
    "populations = {\"italy\": 60000000, \"france\": 68000000, \"germany\": 82000000, 0: ['1','2']}"
   ]
  },
  {
   "cell_type": "code",
   "execution_count": 82,
   "metadata": {},
   "outputs": [
    {
     "data": {
      "text/plain": [
       "68000000"
      ]
     },
     "execution_count": 82,
     "metadata": {},
     "output_type": "execute_result"
    }
   ],
   "source": [
    "# Access any value by searching for the corresponding key\n",
    "populations['france']"
   ]
  },
  {
   "cell_type": "code",
   "execution_count": 84,
   "metadata": {},
   "outputs": [
    {
     "data": {
      "text/plain": [
       "True"
      ]
     },
     "execution_count": 84,
     "metadata": {},
     "output_type": "execute_result"
    }
   ],
   "source": [
    "# Check if a key is in the dictionnary.\n",
    "'germany' in populations"
   ]
  },
  {
   "cell_type": "code",
   "execution_count": 85,
   "metadata": {
    "slideshow": {
     "slide_type": "skip"
    }
   },
   "outputs": [
    {
     "data": {
      "text/plain": [
       "True"
      ]
     },
     "execution_count": 85,
     "metadata": {},
     "output_type": "execute_result"
    }
   ],
   "source": [
    "# Check if a value is in the dictionnary. \n",
    "60000000 in populations.values()"
   ]
  },
  {
   "cell_type": "code",
   "execution_count": 89,
   "metadata": {
    "slideshow": {
     "slide_type": "subslide"
    }
   },
   "outputs": [
    {
     "name": "stdout",
     "output_type": "stream",
     "text": [
      "60000000 inhabitants\n",
      "68000000 inhabitants\n",
      "82000000 inhabitants\n",
      "['1', '2'] inhabitants\n"
     ]
    }
   ],
   "source": [
    "# Loop on a dictionnary and print values.\n",
    "for key,value in populations.items():\n",
    "    print(value, \"inhabitants\")"
   ]
  },
  {
   "cell_type": "code",
   "execution_count": 90,
   "metadata": {
    "slideshow": {
     "slide_type": "skip"
    }
   },
   "outputs": [
    {
     "data": {
      "text/plain": [
       "4"
      ]
     },
     "execution_count": 90,
     "metadata": {},
     "output_type": "execute_result"
    }
   ],
   "source": [
    "# Check the length of a dictionnary. \n",
    "len(populations) "
   ]
  },
  {
   "cell_type": "code",
   "execution_count": 92,
   "metadata": {
    "slideshow": {
     "slide_type": "subslide"
    }
   },
   "outputs": [
    {
     "name": "stdout",
     "output_type": "stream",
     "text": [
      "{'italy': 60000000, 'france': 68000000, 'germany': 10, 0: ['1', '2'], 'irlande': 43000000}\n"
     ]
    }
   ],
   "source": [
    "# Create a new element\n",
    "populations['irlande'] = 43000000\n",
    "populations['germany'] = 10\n",
    "print(populations)"
   ]
  },
  {
   "cell_type": "markdown",
   "metadata": {
    "slideshow": {
     "slide_type": "slide"
    }
   },
   "source": [
    "# JSON\n",
    "When exchanging data between a browser and a server, the data can only be text.  \n",
    "JSON (JavaScript Object Notation) is a lightweight text format that is used for data interchanging.  \n",
    "JSON is useful to know, because many websites offer JSON content as a way for programs to interact with the website. This is known as providing an application programming interface (API)."
   ]
  },
  {
   "cell_type": "code",
   "execution_count": 93,
   "metadata": {},
   "outputs": [],
   "source": [
    "# The \"requests\" library is a useful tool to get information from urls with Python.\n",
    "import requests"
   ]
  },
  {
   "cell_type": "code",
   "execution_count": null,
   "metadata": {},
   "outputs": [],
   "source": [
    "# The astronaut API documentation: http://open-notify.org/Open-Notify-API/People-In-Space/"
   ]
  },
  {
   "cell_type": "code",
   "execution_count": 98,
   "metadata": {},
   "outputs": [
    {
     "name": "stdout",
     "output_type": "stream",
     "text": [
      "Sergey Prokopyev\n",
      "Alexander Gerst\n",
      "Serena Aunon-Chancellor\n"
     ]
    }
   ],
   "source": [
    "# Let's make a list of the names of people who are in space\n",
    "\n",
    "result = requests.get('http://api.open-notify.org/astros.json').json()\n",
    "astronaut_list = result['people']\n",
    "for astronaut_dict in astronaut_list:\n",
    "    name = astronaut_dict['name']\n",
    "    print(name)"
   ]
  },
  {
   "cell_type": "code",
   "execution_count": 104,
   "metadata": {
    "slideshow": {
     "slide_type": "subslide"
    }
   },
   "outputs": [
    {
     "name": "stdout",
     "output_type": "stream",
     "text": [
      "USD : 6509.7138\n",
      "GBP : 4933.4191\n",
      "EUR : 5617.7853\n",
      "{'bpi': {'EUR': {'code': 'EUR',\n",
      "                 'description': 'Euro',\n",
      "                 'rate': '5,617.7853',\n",
      "                 'rate_float': 5617.7853,\n",
      "                 'symbol': '&euro;'},\n",
      "         'GBP': {'code': 'GBP',\n",
      "                 'description': 'British Pound Sterling',\n",
      "                 'rate': '4,933.4191',\n",
      "                 'rate_float': 4933.4191,\n",
      "                 'symbol': '&pound;'},\n",
      "         'USD': {'code': 'USD',\n",
      "                 'description': 'United States Dollar',\n",
      "                 'rate': '6,509.7138',\n",
      "                 'rate_float': 6509.7138,\n",
      "                 'symbol': '&#36;'}},\n",
      " 'chartName': 'Bitcoin',\n",
      " 'disclaimer': 'This data was produced from the CoinDesk Bitcoin Price Index '\n",
      "               '(USD). Non-USD currency data converted using hourly conversion '\n",
      "               'rate from openexchangerates.org',\n",
      " 'time': {'updated': 'Oct 16, 2018 09:51:00 UTC',\n",
      "          'updatedISO': '2018-10-16T09:51:00+00:00',\n",
      "          'updateduk': 'Oct 16, 2018 at 10:51 BST'}}\n"
     ]
    }
   ],
   "source": [
    "# Here's a second example: https://www.coindesk.com/api/\n",
    "from pprint import pprint\n",
    "\n",
    "price = requests.get(\"https://api.coindesk.com/v1/bpi/currentprice.json\").json()\n",
    "\n",
    "\n",
    "\n",
    "rate = price['bpi']['EUR']['rate_float']\n",
    "\n",
    "for key, value in price['bpi'].items():\n",
    "    print(key, ':', value['rate_float'])\n",
    "pprint(price)\n"
   ]
  },
  {
   "cell_type": "code",
   "execution_count": 108,
   "metadata": {},
   "outputs": [
    {
     "name": "stdout",
     "output_type": "stream",
     "text": [
      "{'timestamp': 1539683585, 'iss_position': {'latitude': '-51.5658', 'longitude': '-132.0373'}, 'message': 'success'}\n"
     ]
    }
   ],
   "source": [
    "position = requests.get('http://api.open-notify.org/iss-now.json').json()\n",
    "print(position)"
   ]
  },
  {
   "cell_type": "code",
   "execution_count": 109,
   "metadata": {},
   "outputs": [
    {
     "name": "stdout",
     "output_type": "stream",
     "text": [
      "New position saved\n",
      "New position saved\n",
      "New position saved\n",
      "New position saved\n",
      "New position saved\n",
      "Done !\n"
     ]
    }
   ],
   "source": [
    "# This script asks somea information to an API every 2 seconds and saves it in a txt file (link: http://api.open-notify.org/iss-now.json)\n",
    "import time\n",
    "import requests\n",
    "\n",
    "with open('./data/iss-flight.txt', 'w') as f:\n",
    "    for i in range(5):\n",
    "        position = requests.get('http://api.open-notify.org/iss-now.json').json()\n",
    "        f.write(position['iss_position']['latitude'])\n",
    "        print(\"New position saved\")\n",
    "        time.sleep(2)\n",
    "print('Done !')"
   ]
  },
  {
   "cell_type": "code",
   "execution_count": null,
   "metadata": {
    "slideshow": {
     "slide_type": "subslide"
    }
   },
   "outputs": [],
   "source": [
    "# This script asks some information to an API every 2 seconds and saves it in a csv (link: http://api.open-notify.org/iss-now.json)\n",
    "import csv\n",
    "import time\n",
    "import requests\n",
    "\n",
    "with open('./data/iss-flight.csv', 'w') as csvfile:\n",
    "    filewriter = csv.writer(csvfile, delimiter=',')\n",
    "    for i in range(5):\n",
    "        position = requests.get('http://api.open-notify.org/iss-now.json').json()\n",
    "        filewriter.writerow([\n",
    "            position['timestamp'],\n",
    "            position['iss_position']['latitude'], \n",
    "            position['iss_position']['longitude']\n",
    "        ])\n",
    "        print(\"New position saved\")\n",
    "        time.sleep(2)\n",
    "print('Done !')"
   ]
  },
  {
   "cell_type": "code",
   "execution_count": 110,
   "metadata": {},
   "outputs": [
    {
     "name": "stdout",
     "output_type": "stream",
     "text": [
      "Position retrieved.\n",
      "Position retrieved.\n",
      "Position retrieved.\n",
      "Position retrieved.\n",
      "Position retrieved.\n",
      "Position retrieved.\n",
      "Position retrieved.\n",
      "Position retrieved.\n",
      "Position retrieved.\n",
      "Position retrieved.\n"
     ]
    },
    {
     "data": {
      "text/html": [
       "<div style=\"width:100%;\"><div style=\"position:relative;width:100%;height:0;padding-bottom:60%;\"><iframe src=\"data:text/html;charset=utf-8;base64,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\" style=\"position:absolute;width:100%;height:100%;left:0;top:0;border:none !important;\" allowfullscreen webkitallowfullscreen mozallowfullscreen></iframe></div></div>"
      ],
      "text/plain": [
       "<folium.folium.Map at 0x120ab3be0>"
      ]
     },
     "execution_count": 110,
     "metadata": {},
     "output_type": "execute_result"
    }
   ],
   "source": [
    "import folium\n",
    "import time\n",
    "\n",
    "points = []\n",
    "map = folium.Map(zoom_start=12)\n",
    "for i in range(10):\n",
    "    print('Position retrieved.')\n",
    "    position = requests.get('http://api.open-notify.org/iss-now.json').json()\n",
    "    latitude = position['iss_position']['latitude']\n",
    "    longitude = position['iss_position']['longitude']\n",
    "    points.append([float(latitude), float(longitude)])\n",
    "    time.sleep(1)\n",
    "\n",
    "map = folium.Map(points[4], zoom_start=5)\n",
    "folium.PolyLine(points).add_to(map)\n",
    "map\n"
   ]
  },
  {
   "cell_type": "markdown",
   "metadata": {
    "slideshow": {
     "slide_type": "slide"
    }
   },
   "source": [
    "# Pandas\n",
    "Pandas helps us manipulate all of this data structures efficiently.   \n",
    "You can think of pandas as an extremely powerful version of Excel, with a lot more features."
   ]
  },
  {
   "cell_type": "code",
   "execution_count": 111,
   "metadata": {
    "slideshow": {
     "slide_type": "subslide"
    }
   },
   "outputs": [],
   "source": [
    "import pandas"
   ]
  },
  {
   "cell_type": "markdown",
   "metadata": {
    "slideshow": {
     "slide_type": "subslide"
    }
   },
   "source": [
    "### Import data"
   ]
  },
  {
   "cell_type": "code",
   "execution_count": 1,
   "metadata": {
    "slideshow": {
     "slide_type": "fragment"
    }
   },
   "outputs": [],
   "source": [
    "import pandas \n",
    "# data link: https://www.kaggle.com/unsdsn/world-happiness\n",
    "\n",
    "df = pandas.read_csv('./data/2015.csv')"
   ]
  },
  {
   "cell_type": "markdown",
   "metadata": {
    "slideshow": {
     "slide_type": "subslide"
    }
   },
   "source": [
    "### Get information about the data"
   ]
  },
  {
   "cell_type": "code",
   "execution_count": 114,
   "metadata": {},
   "outputs": [
    {
     "data": {
      "text/html": [
       "<div>\n",
       "<style scoped>\n",
       "    .dataframe tbody tr th:only-of-type {\n",
       "        vertical-align: middle;\n",
       "    }\n",
       "\n",
       "    .dataframe tbody tr th {\n",
       "        vertical-align: top;\n",
       "    }\n",
       "\n",
       "    .dataframe thead th {\n",
       "        text-align: right;\n",
       "    }\n",
       "</style>\n",
       "<table border=\"1\" class=\"dataframe\">\n",
       "  <thead>\n",
       "    <tr style=\"text-align: right;\">\n",
       "      <th></th>\n",
       "      <th>Country</th>\n",
       "      <th>Region</th>\n",
       "      <th>Happiness Rank</th>\n",
       "      <th>Happiness Score</th>\n",
       "      <th>Standard Error</th>\n",
       "      <th>Economy (GDP per Capita)</th>\n",
       "      <th>Family</th>\n",
       "      <th>Health (Life Expectancy)</th>\n",
       "      <th>Freedom</th>\n",
       "      <th>Trust (Government Corruption)</th>\n",
       "      <th>Generosity</th>\n",
       "      <th>Dystopia Residual</th>\n",
       "    </tr>\n",
       "  </thead>\n",
       "  <tbody>\n",
       "    <tr>\n",
       "      <th>0</th>\n",
       "      <td>Switzerland</td>\n",
       "      <td>Western Europe</td>\n",
       "      <td>1</td>\n",
       "      <td>7.587</td>\n",
       "      <td>0.03411</td>\n",
       "      <td>1.39651</td>\n",
       "      <td>1.34951</td>\n",
       "      <td>0.94143</td>\n",
       "      <td>0.66557</td>\n",
       "      <td>0.41978</td>\n",
       "      <td>0.29678</td>\n",
       "      <td>2.51738</td>\n",
       "    </tr>\n",
       "    <tr>\n",
       "      <th>1</th>\n",
       "      <td>Iceland</td>\n",
       "      <td>Western Europe</td>\n",
       "      <td>2</td>\n",
       "      <td>7.561</td>\n",
       "      <td>0.04884</td>\n",
       "      <td>1.30232</td>\n",
       "      <td>1.40223</td>\n",
       "      <td>0.94784</td>\n",
       "      <td>0.62877</td>\n",
       "      <td>0.14145</td>\n",
       "      <td>0.43630</td>\n",
       "      <td>2.70201</td>\n",
       "    </tr>\n",
       "    <tr>\n",
       "      <th>2</th>\n",
       "      <td>Denmark</td>\n",
       "      <td>Western Europe</td>\n",
       "      <td>3</td>\n",
       "      <td>7.527</td>\n",
       "      <td>0.03328</td>\n",
       "      <td>1.32548</td>\n",
       "      <td>1.36058</td>\n",
       "      <td>0.87464</td>\n",
       "      <td>0.64938</td>\n",
       "      <td>0.48357</td>\n",
       "      <td>0.34139</td>\n",
       "      <td>2.49204</td>\n",
       "    </tr>\n",
       "    <tr>\n",
       "      <th>3</th>\n",
       "      <td>Norway</td>\n",
       "      <td>Western Europe</td>\n",
       "      <td>4</td>\n",
       "      <td>7.522</td>\n",
       "      <td>0.03880</td>\n",
       "      <td>1.45900</td>\n",
       "      <td>1.33095</td>\n",
       "      <td>0.88521</td>\n",
       "      <td>0.66973</td>\n",
       "      <td>0.36503</td>\n",
       "      <td>0.34699</td>\n",
       "      <td>2.46531</td>\n",
       "    </tr>\n",
       "    <tr>\n",
       "      <th>4</th>\n",
       "      <td>Canada</td>\n",
       "      <td>North America</td>\n",
       "      <td>5</td>\n",
       "      <td>7.427</td>\n",
       "      <td>0.03553</td>\n",
       "      <td>1.32629</td>\n",
       "      <td>1.32261</td>\n",
       "      <td>0.90563</td>\n",
       "      <td>0.63297</td>\n",
       "      <td>0.32957</td>\n",
       "      <td>0.45811</td>\n",
       "      <td>2.45176</td>\n",
       "    </tr>\n",
       "    <tr>\n",
       "      <th>5</th>\n",
       "      <td>Finland</td>\n",
       "      <td>Western Europe</td>\n",
       "      <td>6</td>\n",
       "      <td>7.406</td>\n",
       "      <td>0.03140</td>\n",
       "      <td>1.29025</td>\n",
       "      <td>1.31826</td>\n",
       "      <td>0.88911</td>\n",
       "      <td>0.64169</td>\n",
       "      <td>0.41372</td>\n",
       "      <td>0.23351</td>\n",
       "      <td>2.61955</td>\n",
       "    </tr>\n",
       "    <tr>\n",
       "      <th>6</th>\n",
       "      <td>Netherlands</td>\n",
       "      <td>Western Europe</td>\n",
       "      <td>7</td>\n",
       "      <td>7.378</td>\n",
       "      <td>0.02799</td>\n",
       "      <td>1.32944</td>\n",
       "      <td>1.28017</td>\n",
       "      <td>0.89284</td>\n",
       "      <td>0.61576</td>\n",
       "      <td>0.31814</td>\n",
       "      <td>0.47610</td>\n",
       "      <td>2.46570</td>\n",
       "    </tr>\n",
       "    <tr>\n",
       "      <th>7</th>\n",
       "      <td>Sweden</td>\n",
       "      <td>Western Europe</td>\n",
       "      <td>8</td>\n",
       "      <td>7.364</td>\n",
       "      <td>0.03157</td>\n",
       "      <td>1.33171</td>\n",
       "      <td>1.28907</td>\n",
       "      <td>0.91087</td>\n",
       "      <td>0.65980</td>\n",
       "      <td>0.43844</td>\n",
       "      <td>0.36262</td>\n",
       "      <td>2.37119</td>\n",
       "    </tr>\n",
       "    <tr>\n",
       "      <th>8</th>\n",
       "      <td>New Zealand</td>\n",
       "      <td>Australia and New Zealand</td>\n",
       "      <td>9</td>\n",
       "      <td>7.286</td>\n",
       "      <td>0.03371</td>\n",
       "      <td>1.25018</td>\n",
       "      <td>1.31967</td>\n",
       "      <td>0.90837</td>\n",
       "      <td>0.63938</td>\n",
       "      <td>0.42922</td>\n",
       "      <td>0.47501</td>\n",
       "      <td>2.26425</td>\n",
       "    </tr>\n",
       "    <tr>\n",
       "      <th>9</th>\n",
       "      <td>Australia</td>\n",
       "      <td>Australia and New Zealand</td>\n",
       "      <td>10</td>\n",
       "      <td>7.284</td>\n",
       "      <td>0.04083</td>\n",
       "      <td>1.33358</td>\n",
       "      <td>1.30923</td>\n",
       "      <td>0.93156</td>\n",
       "      <td>0.65124</td>\n",
       "      <td>0.35637</td>\n",
       "      <td>0.43562</td>\n",
       "      <td>2.26646</td>\n",
       "    </tr>\n",
       "  </tbody>\n",
       "</table>\n",
       "</div>"
      ],
      "text/plain": [
       "       Country                     Region  Happiness Rank  Happiness Score  \\\n",
       "0  Switzerland             Western Europe               1            7.587   \n",
       "1      Iceland             Western Europe               2            7.561   \n",
       "2      Denmark             Western Europe               3            7.527   \n",
       "3       Norway             Western Europe               4            7.522   \n",
       "4       Canada              North America               5            7.427   \n",
       "5      Finland             Western Europe               6            7.406   \n",
       "6  Netherlands             Western Europe               7            7.378   \n",
       "7       Sweden             Western Europe               8            7.364   \n",
       "8  New Zealand  Australia and New Zealand               9            7.286   \n",
       "9    Australia  Australia and New Zealand              10            7.284   \n",
       "\n",
       "   Standard Error  Economy (GDP per Capita)   Family  \\\n",
       "0         0.03411                   1.39651  1.34951   \n",
       "1         0.04884                   1.30232  1.40223   \n",
       "2         0.03328                   1.32548  1.36058   \n",
       "3         0.03880                   1.45900  1.33095   \n",
       "4         0.03553                   1.32629  1.32261   \n",
       "5         0.03140                   1.29025  1.31826   \n",
       "6         0.02799                   1.32944  1.28017   \n",
       "7         0.03157                   1.33171  1.28907   \n",
       "8         0.03371                   1.25018  1.31967   \n",
       "9         0.04083                   1.33358  1.30923   \n",
       "\n",
       "   Health (Life Expectancy)  Freedom  Trust (Government Corruption)  \\\n",
       "0                   0.94143  0.66557                        0.41978   \n",
       "1                   0.94784  0.62877                        0.14145   \n",
       "2                   0.87464  0.64938                        0.48357   \n",
       "3                   0.88521  0.66973                        0.36503   \n",
       "4                   0.90563  0.63297                        0.32957   \n",
       "5                   0.88911  0.64169                        0.41372   \n",
       "6                   0.89284  0.61576                        0.31814   \n",
       "7                   0.91087  0.65980                        0.43844   \n",
       "8                   0.90837  0.63938                        0.42922   \n",
       "9                   0.93156  0.65124                        0.35637   \n",
       "\n",
       "   Generosity  Dystopia Residual  \n",
       "0     0.29678            2.51738  \n",
       "1     0.43630            2.70201  \n",
       "2     0.34139            2.49204  \n",
       "3     0.34699            2.46531  \n",
       "4     0.45811            2.45176  \n",
       "5     0.23351            2.61955  \n",
       "6     0.47610            2.46570  \n",
       "7     0.36262            2.37119  \n",
       "8     0.47501            2.26425  \n",
       "9     0.43562            2.26646  "
      ]
     },
     "execution_count": 114,
     "metadata": {},
     "output_type": "execute_result"
    }
   ],
   "source": [
    "# Get the first five rows\n",
    "df.head(10)"
   ]
  },
  {
   "cell_type": "code",
   "execution_count": 115,
   "metadata": {
    "slideshow": {
     "slide_type": "fragment"
    }
   },
   "outputs": [
    {
     "data": {
      "text/html": [
       "<div>\n",
       "<style scoped>\n",
       "    .dataframe tbody tr th:only-of-type {\n",
       "        vertical-align: middle;\n",
       "    }\n",
       "\n",
       "    .dataframe tbody tr th {\n",
       "        vertical-align: top;\n",
       "    }\n",
       "\n",
       "    .dataframe thead th {\n",
       "        text-align: right;\n",
       "    }\n",
       "</style>\n",
       "<table border=\"1\" class=\"dataframe\">\n",
       "  <thead>\n",
       "    <tr style=\"text-align: right;\">\n",
       "      <th></th>\n",
       "      <th>Happiness Rank</th>\n",
       "      <th>Happiness Score</th>\n",
       "      <th>Standard Error</th>\n",
       "      <th>Economy (GDP per Capita)</th>\n",
       "      <th>Family</th>\n",
       "      <th>Health (Life Expectancy)</th>\n",
       "      <th>Freedom</th>\n",
       "      <th>Trust (Government Corruption)</th>\n",
       "      <th>Generosity</th>\n",
       "      <th>Dystopia Residual</th>\n",
       "    </tr>\n",
       "  </thead>\n",
       "  <tbody>\n",
       "    <tr>\n",
       "      <th>count</th>\n",
       "      <td>158.000000</td>\n",
       "      <td>158.000000</td>\n",
       "      <td>158.000000</td>\n",
       "      <td>158.000000</td>\n",
       "      <td>158.000000</td>\n",
       "      <td>158.000000</td>\n",
       "      <td>158.000000</td>\n",
       "      <td>158.000000</td>\n",
       "      <td>158.000000</td>\n",
       "      <td>158.000000</td>\n",
       "    </tr>\n",
       "    <tr>\n",
       "      <th>mean</th>\n",
       "      <td>79.493671</td>\n",
       "      <td>5.375734</td>\n",
       "      <td>0.047885</td>\n",
       "      <td>0.846137</td>\n",
       "      <td>0.991046</td>\n",
       "      <td>0.630259</td>\n",
       "      <td>0.428615</td>\n",
       "      <td>0.143422</td>\n",
       "      <td>0.237296</td>\n",
       "      <td>2.098977</td>\n",
       "    </tr>\n",
       "    <tr>\n",
       "      <th>std</th>\n",
       "      <td>45.754363</td>\n",
       "      <td>1.145010</td>\n",
       "      <td>0.017146</td>\n",
       "      <td>0.403121</td>\n",
       "      <td>0.272369</td>\n",
       "      <td>0.247078</td>\n",
       "      <td>0.150693</td>\n",
       "      <td>0.120034</td>\n",
       "      <td>0.126685</td>\n",
       "      <td>0.553550</td>\n",
       "    </tr>\n",
       "    <tr>\n",
       "      <th>min</th>\n",
       "      <td>1.000000</td>\n",
       "      <td>2.839000</td>\n",
       "      <td>0.018480</td>\n",
       "      <td>0.000000</td>\n",
       "      <td>0.000000</td>\n",
       "      <td>0.000000</td>\n",
       "      <td>0.000000</td>\n",
       "      <td>0.000000</td>\n",
       "      <td>0.000000</td>\n",
       "      <td>0.328580</td>\n",
       "    </tr>\n",
       "    <tr>\n",
       "      <th>25%</th>\n",
       "      <td>40.250000</td>\n",
       "      <td>4.526000</td>\n",
       "      <td>0.037268</td>\n",
       "      <td>0.545808</td>\n",
       "      <td>0.856823</td>\n",
       "      <td>0.439185</td>\n",
       "      <td>0.328330</td>\n",
       "      <td>0.061675</td>\n",
       "      <td>0.150553</td>\n",
       "      <td>1.759410</td>\n",
       "    </tr>\n",
       "    <tr>\n",
       "      <th>50%</th>\n",
       "      <td>79.500000</td>\n",
       "      <td>5.232500</td>\n",
       "      <td>0.043940</td>\n",
       "      <td>0.910245</td>\n",
       "      <td>1.029510</td>\n",
       "      <td>0.696705</td>\n",
       "      <td>0.435515</td>\n",
       "      <td>0.107220</td>\n",
       "      <td>0.216130</td>\n",
       "      <td>2.095415</td>\n",
       "    </tr>\n",
       "    <tr>\n",
       "      <th>75%</th>\n",
       "      <td>118.750000</td>\n",
       "      <td>6.243750</td>\n",
       "      <td>0.052300</td>\n",
       "      <td>1.158448</td>\n",
       "      <td>1.214405</td>\n",
       "      <td>0.811013</td>\n",
       "      <td>0.549092</td>\n",
       "      <td>0.180255</td>\n",
       "      <td>0.309883</td>\n",
       "      <td>2.462415</td>\n",
       "    </tr>\n",
       "    <tr>\n",
       "      <th>max</th>\n",
       "      <td>158.000000</td>\n",
       "      <td>7.587000</td>\n",
       "      <td>0.136930</td>\n",
       "      <td>1.690420</td>\n",
       "      <td>1.402230</td>\n",
       "      <td>1.025250</td>\n",
       "      <td>0.669730</td>\n",
       "      <td>0.551910</td>\n",
       "      <td>0.795880</td>\n",
       "      <td>3.602140</td>\n",
       "    </tr>\n",
       "  </tbody>\n",
       "</table>\n",
       "</div>"
      ],
      "text/plain": [
       "       Happiness Rank  Happiness Score  Standard Error  \\\n",
       "count      158.000000       158.000000      158.000000   \n",
       "mean        79.493671         5.375734        0.047885   \n",
       "std         45.754363         1.145010        0.017146   \n",
       "min          1.000000         2.839000        0.018480   \n",
       "25%         40.250000         4.526000        0.037268   \n",
       "50%         79.500000         5.232500        0.043940   \n",
       "75%        118.750000         6.243750        0.052300   \n",
       "max        158.000000         7.587000        0.136930   \n",
       "\n",
       "       Economy (GDP per Capita)      Family  Health (Life Expectancy)  \\\n",
       "count                158.000000  158.000000                158.000000   \n",
       "mean                   0.846137    0.991046                  0.630259   \n",
       "std                    0.403121    0.272369                  0.247078   \n",
       "min                    0.000000    0.000000                  0.000000   \n",
       "25%                    0.545808    0.856823                  0.439185   \n",
       "50%                    0.910245    1.029510                  0.696705   \n",
       "75%                    1.158448    1.214405                  0.811013   \n",
       "max                    1.690420    1.402230                  1.025250   \n",
       "\n",
       "          Freedom  Trust (Government Corruption)  Generosity  \\\n",
       "count  158.000000                     158.000000  158.000000   \n",
       "mean     0.428615                       0.143422    0.237296   \n",
       "std      0.150693                       0.120034    0.126685   \n",
       "min      0.000000                       0.000000    0.000000   \n",
       "25%      0.328330                       0.061675    0.150553   \n",
       "50%      0.435515                       0.107220    0.216130   \n",
       "75%      0.549092                       0.180255    0.309883   \n",
       "max      0.669730                       0.551910    0.795880   \n",
       "\n",
       "       Dystopia Residual  \n",
       "count         158.000000  \n",
       "mean            2.098977  \n",
       "std             0.553550  \n",
       "min             0.328580  \n",
       "25%             1.759410  \n",
       "50%             2.095415  \n",
       "75%             2.462415  \n",
       "max             3.602140  "
      ]
     },
     "execution_count": 115,
     "metadata": {},
     "output_type": "execute_result"
    }
   ],
   "source": [
    "# Get quick statistical description of dataframe\n",
    "df.describe()"
   ]
  },
  {
   "cell_type": "code",
   "execution_count": 116,
   "metadata": {
    "slideshow": {
     "slide_type": "subslide"
    }
   },
   "outputs": [
    {
     "data": {
      "text/plain": [
       "0                       Western Europe\n",
       "1                       Western Europe\n",
       "2                       Western Europe\n",
       "3                       Western Europe\n",
       "4                        North America\n",
       "5                       Western Europe\n",
       "6                       Western Europe\n",
       "7                       Western Europe\n",
       "8            Australia and New Zealand\n",
       "9            Australia and New Zealand\n",
       "10     Middle East and Northern Africa\n",
       "11         Latin America and Caribbean\n",
       "12                      Western Europe\n",
       "13         Latin America and Caribbean\n",
       "14                       North America\n",
       "15         Latin America and Caribbean\n",
       "16                      Western Europe\n",
       "17                      Western Europe\n",
       "18                      Western Europe\n",
       "19     Middle East and Northern Africa\n",
       "20                      Western Europe\n",
       "21     Middle East and Northern Africa\n",
       "22         Latin America and Caribbean\n",
       "23                   Southeastern Asia\n",
       "24         Latin America and Caribbean\n",
       "25                      Western Europe\n",
       "26         Latin America and Caribbean\n",
       "27     Middle East and Northern Africa\n",
       "28                      Western Europe\n",
       "29         Latin America and Caribbean\n",
       "                    ...               \n",
       "128                  Southeastern Asia\n",
       "129         Central and Eastern Europe\n",
       "130                 Sub-Saharan Africa\n",
       "131                      Southern Asia\n",
       "132                 Sub-Saharan Africa\n",
       "133         Central and Eastern Europe\n",
       "134    Middle East and Northern Africa\n",
       "135    Middle East and Northern Africa\n",
       "136                 Sub-Saharan Africa\n",
       "137                 Sub-Saharan Africa\n",
       "138                 Sub-Saharan Africa\n",
       "139                 Sub-Saharan Africa\n",
       "140                 Sub-Saharan Africa\n",
       "141                 Sub-Saharan Africa\n",
       "142                 Sub-Saharan Africa\n",
       "143                 Sub-Saharan Africa\n",
       "144                  Southeastern Asia\n",
       "145                 Sub-Saharan Africa\n",
       "146                 Sub-Saharan Africa\n",
       "147                 Sub-Saharan Africa\n",
       "148                 Sub-Saharan Africa\n",
       "149                 Sub-Saharan Africa\n",
       "150                 Sub-Saharan Africa\n",
       "151                 Sub-Saharan Africa\n",
       "152                      Southern Asia\n",
       "153                 Sub-Saharan Africa\n",
       "154                 Sub-Saharan Africa\n",
       "155    Middle East and Northern Africa\n",
       "156                 Sub-Saharan Africa\n",
       "157                 Sub-Saharan Africa\n",
       "Name: Region, Length: 158, dtype: object"
      ]
     },
     "execution_count": 116,
     "metadata": {},
     "output_type": "execute_result"
    }
   ],
   "source": [
    "# Get list of values in a column\n",
    "df['Region']"
   ]
  },
  {
   "cell_type": "code",
   "execution_count": 119,
   "metadata": {
    "slideshow": {
     "slide_type": "subslide"
    }
   },
   "outputs": [
    {
     "data": {
      "text/plain": [
       "7.587000000000001"
      ]
     },
     "execution_count": 119,
     "metadata": {},
     "output_type": "execute_result"
    }
   ],
   "source": [
    "# Get the mean, max... of a numerical column\n",
    "df['Happiness Score'].max()"
   ]
  },
  {
   "cell_type": "markdown",
   "metadata": {
    "slideshow": {
     "slide_type": "subslide"
    }
   },
   "source": [
    "### Filter and select data"
   ]
  },
  {
   "cell_type": "code",
   "execution_count": 124,
   "metadata": {
    "slideshow": {
     "slide_type": "fragment"
    }
   },
   "outputs": [
    {
     "data": {
      "text/html": [
       "<div>\n",
       "<style scoped>\n",
       "    .dataframe tbody tr th:only-of-type {\n",
       "        vertical-align: middle;\n",
       "    }\n",
       "\n",
       "    .dataframe tbody tr th {\n",
       "        vertical-align: top;\n",
       "    }\n",
       "\n",
       "    .dataframe thead th {\n",
       "        text-align: right;\n",
       "    }\n",
       "</style>\n",
       "<table border=\"1\" class=\"dataframe\">\n",
       "  <thead>\n",
       "    <tr style=\"text-align: right;\">\n",
       "      <th></th>\n",
       "      <th>Country</th>\n",
       "      <th>Region</th>\n",
       "      <th>Happiness Rank</th>\n",
       "      <th>Happiness Score</th>\n",
       "      <th>Standard Error</th>\n",
       "      <th>Economy (GDP per Capita)</th>\n",
       "      <th>Family</th>\n",
       "      <th>Health (Life Expectancy)</th>\n",
       "      <th>Freedom</th>\n",
       "      <th>Trust (Government Corruption)</th>\n",
       "      <th>Generosity</th>\n",
       "      <th>Dystopia Residual</th>\n",
       "    </tr>\n",
       "  </thead>\n",
       "  <tbody>\n",
       "    <tr>\n",
       "      <th>0</th>\n",
       "      <td>Switzerland</td>\n",
       "      <td>Western Europe</td>\n",
       "      <td>1</td>\n",
       "      <td>7.587</td>\n",
       "      <td>0.03411</td>\n",
       "      <td>1.39651</td>\n",
       "      <td>1.34951</td>\n",
       "      <td>0.94143</td>\n",
       "      <td>0.66557</td>\n",
       "      <td>0.41978</td>\n",
       "      <td>0.29678</td>\n",
       "      <td>2.51738</td>\n",
       "    </tr>\n",
       "    <tr>\n",
       "      <th>1</th>\n",
       "      <td>Iceland</td>\n",
       "      <td>Western Europe</td>\n",
       "      <td>2</td>\n",
       "      <td>7.561</td>\n",
       "      <td>0.04884</td>\n",
       "      <td>1.30232</td>\n",
       "      <td>1.40223</td>\n",
       "      <td>0.94784</td>\n",
       "      <td>0.62877</td>\n",
       "      <td>0.14145</td>\n",
       "      <td>0.43630</td>\n",
       "      <td>2.70201</td>\n",
       "    </tr>\n",
       "    <tr>\n",
       "      <th>2</th>\n",
       "      <td>Denmark</td>\n",
       "      <td>Western Europe</td>\n",
       "      <td>3</td>\n",
       "      <td>7.527</td>\n",
       "      <td>0.03328</td>\n",
       "      <td>1.32548</td>\n",
       "      <td>1.36058</td>\n",
       "      <td>0.87464</td>\n",
       "      <td>0.64938</td>\n",
       "      <td>0.48357</td>\n",
       "      <td>0.34139</td>\n",
       "      <td>2.49204</td>\n",
       "    </tr>\n",
       "    <tr>\n",
       "      <th>3</th>\n",
       "      <td>Norway</td>\n",
       "      <td>Western Europe</td>\n",
       "      <td>4</td>\n",
       "      <td>7.522</td>\n",
       "      <td>0.03880</td>\n",
       "      <td>1.45900</td>\n",
       "      <td>1.33095</td>\n",
       "      <td>0.88521</td>\n",
       "      <td>0.66973</td>\n",
       "      <td>0.36503</td>\n",
       "      <td>0.34699</td>\n",
       "      <td>2.46531</td>\n",
       "    </tr>\n",
       "    <tr>\n",
       "      <th>4</th>\n",
       "      <td>Canada</td>\n",
       "      <td>North America</td>\n",
       "      <td>5</td>\n",
       "      <td>7.427</td>\n",
       "      <td>0.03553</td>\n",
       "      <td>1.32629</td>\n",
       "      <td>1.32261</td>\n",
       "      <td>0.90563</td>\n",
       "      <td>0.63297</td>\n",
       "      <td>0.32957</td>\n",
       "      <td>0.45811</td>\n",
       "      <td>2.45176</td>\n",
       "    </tr>\n",
       "    <tr>\n",
       "      <th>5</th>\n",
       "      <td>Finland</td>\n",
       "      <td>Western Europe</td>\n",
       "      <td>6</td>\n",
       "      <td>7.406</td>\n",
       "      <td>0.03140</td>\n",
       "      <td>1.29025</td>\n",
       "      <td>1.31826</td>\n",
       "      <td>0.88911</td>\n",
       "      <td>0.64169</td>\n",
       "      <td>0.41372</td>\n",
       "      <td>0.23351</td>\n",
       "      <td>2.61955</td>\n",
       "    </tr>\n",
       "    <tr>\n",
       "      <th>6</th>\n",
       "      <td>Netherlands</td>\n",
       "      <td>Western Europe</td>\n",
       "      <td>7</td>\n",
       "      <td>7.378</td>\n",
       "      <td>0.02799</td>\n",
       "      <td>1.32944</td>\n",
       "      <td>1.28017</td>\n",
       "      <td>0.89284</td>\n",
       "      <td>0.61576</td>\n",
       "      <td>0.31814</td>\n",
       "      <td>0.47610</td>\n",
       "      <td>2.46570</td>\n",
       "    </tr>\n",
       "    <tr>\n",
       "      <th>7</th>\n",
       "      <td>Sweden</td>\n",
       "      <td>Western Europe</td>\n",
       "      <td>8</td>\n",
       "      <td>7.364</td>\n",
       "      <td>0.03157</td>\n",
       "      <td>1.33171</td>\n",
       "      <td>1.28907</td>\n",
       "      <td>0.91087</td>\n",
       "      <td>0.65980</td>\n",
       "      <td>0.43844</td>\n",
       "      <td>0.36262</td>\n",
       "      <td>2.37119</td>\n",
       "    </tr>\n",
       "    <tr>\n",
       "      <th>8</th>\n",
       "      <td>New Zealand</td>\n",
       "      <td>Australia and New Zealand</td>\n",
       "      <td>9</td>\n",
       "      <td>7.286</td>\n",
       "      <td>0.03371</td>\n",
       "      <td>1.25018</td>\n",
       "      <td>1.31967</td>\n",
       "      <td>0.90837</td>\n",
       "      <td>0.63938</td>\n",
       "      <td>0.42922</td>\n",
       "      <td>0.47501</td>\n",
       "      <td>2.26425</td>\n",
       "    </tr>\n",
       "    <tr>\n",
       "      <th>9</th>\n",
       "      <td>Australia</td>\n",
       "      <td>Australia and New Zealand</td>\n",
       "      <td>10</td>\n",
       "      <td>7.284</td>\n",
       "      <td>0.04083</td>\n",
       "      <td>1.33358</td>\n",
       "      <td>1.30923</td>\n",
       "      <td>0.93156</td>\n",
       "      <td>0.65124</td>\n",
       "      <td>0.35637</td>\n",
       "      <td>0.43562</td>\n",
       "      <td>2.26646</td>\n",
       "    </tr>\n",
       "    <tr>\n",
       "      <th>10</th>\n",
       "      <td>Israel</td>\n",
       "      <td>Middle East and Northern Africa</td>\n",
       "      <td>11</td>\n",
       "      <td>7.278</td>\n",
       "      <td>0.03470</td>\n",
       "      <td>1.22857</td>\n",
       "      <td>1.22393</td>\n",
       "      <td>0.91387</td>\n",
       "      <td>0.41319</td>\n",
       "      <td>0.07785</td>\n",
       "      <td>0.33172</td>\n",
       "      <td>3.08854</td>\n",
       "    </tr>\n",
       "    <tr>\n",
       "      <th>11</th>\n",
       "      <td>Costa Rica</td>\n",
       "      <td>Latin America and Caribbean</td>\n",
       "      <td>12</td>\n",
       "      <td>7.226</td>\n",
       "      <td>0.04454</td>\n",
       "      <td>0.95578</td>\n",
       "      <td>1.23788</td>\n",
       "      <td>0.86027</td>\n",
       "      <td>0.63376</td>\n",
       "      <td>0.10583</td>\n",
       "      <td>0.25497</td>\n",
       "      <td>3.17728</td>\n",
       "    </tr>\n",
       "    <tr>\n",
       "      <th>12</th>\n",
       "      <td>Austria</td>\n",
       "      <td>Western Europe</td>\n",
       "      <td>13</td>\n",
       "      <td>7.200</td>\n",
       "      <td>0.03751</td>\n",
       "      <td>1.33723</td>\n",
       "      <td>1.29704</td>\n",
       "      <td>0.89042</td>\n",
       "      <td>0.62433</td>\n",
       "      <td>0.18676</td>\n",
       "      <td>0.33088</td>\n",
       "      <td>2.53320</td>\n",
       "    </tr>\n",
       "    <tr>\n",
       "      <th>13</th>\n",
       "      <td>Mexico</td>\n",
       "      <td>Latin America and Caribbean</td>\n",
       "      <td>14</td>\n",
       "      <td>7.187</td>\n",
       "      <td>0.04176</td>\n",
       "      <td>1.02054</td>\n",
       "      <td>0.91451</td>\n",
       "      <td>0.81444</td>\n",
       "      <td>0.48181</td>\n",
       "      <td>0.21312</td>\n",
       "      <td>0.14074</td>\n",
       "      <td>3.60214</td>\n",
       "    </tr>\n",
       "    <tr>\n",
       "      <th>14</th>\n",
       "      <td>United States</td>\n",
       "      <td>North America</td>\n",
       "      <td>15</td>\n",
       "      <td>7.119</td>\n",
       "      <td>0.03839</td>\n",
       "      <td>1.39451</td>\n",
       "      <td>1.24711</td>\n",
       "      <td>0.86179</td>\n",
       "      <td>0.54604</td>\n",
       "      <td>0.15890</td>\n",
       "      <td>0.40105</td>\n",
       "      <td>2.51011</td>\n",
       "    </tr>\n",
       "    <tr>\n",
       "      <th>15</th>\n",
       "      <td>Brazil</td>\n",
       "      <td>Latin America and Caribbean</td>\n",
       "      <td>16</td>\n",
       "      <td>6.983</td>\n",
       "      <td>0.04076</td>\n",
       "      <td>0.98124</td>\n",
       "      <td>1.23287</td>\n",
       "      <td>0.69702</td>\n",
       "      <td>0.49049</td>\n",
       "      <td>0.17521</td>\n",
       "      <td>0.14574</td>\n",
       "      <td>3.26001</td>\n",
       "    </tr>\n",
       "    <tr>\n",
       "      <th>16</th>\n",
       "      <td>Luxembourg</td>\n",
       "      <td>Western Europe</td>\n",
       "      <td>17</td>\n",
       "      <td>6.946</td>\n",
       "      <td>0.03499</td>\n",
       "      <td>1.56391</td>\n",
       "      <td>1.21963</td>\n",
       "      <td>0.91894</td>\n",
       "      <td>0.61583</td>\n",
       "      <td>0.37798</td>\n",
       "      <td>0.28034</td>\n",
       "      <td>1.96961</td>\n",
       "    </tr>\n",
       "    <tr>\n",
       "      <th>17</th>\n",
       "      <td>Ireland</td>\n",
       "      <td>Western Europe</td>\n",
       "      <td>18</td>\n",
       "      <td>6.940</td>\n",
       "      <td>0.03676</td>\n",
       "      <td>1.33596</td>\n",
       "      <td>1.36948</td>\n",
       "      <td>0.89533</td>\n",
       "      <td>0.61777</td>\n",
       "      <td>0.28703</td>\n",
       "      <td>0.45901</td>\n",
       "      <td>1.97570</td>\n",
       "    </tr>\n",
       "    <tr>\n",
       "      <th>18</th>\n",
       "      <td>Belgium</td>\n",
       "      <td>Western Europe</td>\n",
       "      <td>19</td>\n",
       "      <td>6.937</td>\n",
       "      <td>0.03595</td>\n",
       "      <td>1.30782</td>\n",
       "      <td>1.28566</td>\n",
       "      <td>0.89667</td>\n",
       "      <td>0.58450</td>\n",
       "      <td>0.22540</td>\n",
       "      <td>0.22250</td>\n",
       "      <td>2.41484</td>\n",
       "    </tr>\n",
       "    <tr>\n",
       "      <th>19</th>\n",
       "      <td>United Arab Emirates</td>\n",
       "      <td>Middle East and Northern Africa</td>\n",
       "      <td>20</td>\n",
       "      <td>6.901</td>\n",
       "      <td>0.03729</td>\n",
       "      <td>1.42727</td>\n",
       "      <td>1.12575</td>\n",
       "      <td>0.80925</td>\n",
       "      <td>0.64157</td>\n",
       "      <td>0.38583</td>\n",
       "      <td>0.26428</td>\n",
       "      <td>2.24743</td>\n",
       "    </tr>\n",
       "    <tr>\n",
       "      <th>20</th>\n",
       "      <td>United Kingdom</td>\n",
       "      <td>Western Europe</td>\n",
       "      <td>21</td>\n",
       "      <td>6.867</td>\n",
       "      <td>0.01866</td>\n",
       "      <td>1.26637</td>\n",
       "      <td>1.28548</td>\n",
       "      <td>0.90943</td>\n",
       "      <td>0.59625</td>\n",
       "      <td>0.32067</td>\n",
       "      <td>0.51912</td>\n",
       "      <td>1.96994</td>\n",
       "    </tr>\n",
       "    <tr>\n",
       "      <th>21</th>\n",
       "      <td>Oman</td>\n",
       "      <td>Middle East and Northern Africa</td>\n",
       "      <td>22</td>\n",
       "      <td>6.853</td>\n",
       "      <td>0.05335</td>\n",
       "      <td>1.36011</td>\n",
       "      <td>1.08182</td>\n",
       "      <td>0.76276</td>\n",
       "      <td>0.63274</td>\n",
       "      <td>0.32524</td>\n",
       "      <td>0.21542</td>\n",
       "      <td>2.47489</td>\n",
       "    </tr>\n",
       "    <tr>\n",
       "      <th>22</th>\n",
       "      <td>Venezuela</td>\n",
       "      <td>Latin America and Caribbean</td>\n",
       "      <td>23</td>\n",
       "      <td>6.810</td>\n",
       "      <td>0.06476</td>\n",
       "      <td>1.04424</td>\n",
       "      <td>1.25596</td>\n",
       "      <td>0.72052</td>\n",
       "      <td>0.42908</td>\n",
       "      <td>0.11069</td>\n",
       "      <td>0.05841</td>\n",
       "      <td>3.19131</td>\n",
       "    </tr>\n",
       "    <tr>\n",
       "      <th>23</th>\n",
       "      <td>Singapore</td>\n",
       "      <td>Southeastern Asia</td>\n",
       "      <td>24</td>\n",
       "      <td>6.798</td>\n",
       "      <td>0.03780</td>\n",
       "      <td>1.52186</td>\n",
       "      <td>1.02000</td>\n",
       "      <td>1.02525</td>\n",
       "      <td>0.54252</td>\n",
       "      <td>0.49210</td>\n",
       "      <td>0.31105</td>\n",
       "      <td>1.88501</td>\n",
       "    </tr>\n",
       "    <tr>\n",
       "      <th>24</th>\n",
       "      <td>Panama</td>\n",
       "      <td>Latin America and Caribbean</td>\n",
       "      <td>25</td>\n",
       "      <td>6.786</td>\n",
       "      <td>0.04910</td>\n",
       "      <td>1.06353</td>\n",
       "      <td>1.19850</td>\n",
       "      <td>0.79661</td>\n",
       "      <td>0.54210</td>\n",
       "      <td>0.09270</td>\n",
       "      <td>0.24434</td>\n",
       "      <td>2.84848</td>\n",
       "    </tr>\n",
       "    <tr>\n",
       "      <th>25</th>\n",
       "      <td>Germany</td>\n",
       "      <td>Western Europe</td>\n",
       "      <td>26</td>\n",
       "      <td>6.750</td>\n",
       "      <td>0.01848</td>\n",
       "      <td>1.32792</td>\n",
       "      <td>1.29937</td>\n",
       "      <td>0.89186</td>\n",
       "      <td>0.61477</td>\n",
       "      <td>0.21843</td>\n",
       "      <td>0.28214</td>\n",
       "      <td>2.11569</td>\n",
       "    </tr>\n",
       "    <tr>\n",
       "      <th>26</th>\n",
       "      <td>Chile</td>\n",
       "      <td>Latin America and Caribbean</td>\n",
       "      <td>27</td>\n",
       "      <td>6.670</td>\n",
       "      <td>0.05800</td>\n",
       "      <td>1.10715</td>\n",
       "      <td>1.12447</td>\n",
       "      <td>0.85857</td>\n",
       "      <td>0.44132</td>\n",
       "      <td>0.12869</td>\n",
       "      <td>0.33363</td>\n",
       "      <td>2.67585</td>\n",
       "    </tr>\n",
       "    <tr>\n",
       "      <th>27</th>\n",
       "      <td>Qatar</td>\n",
       "      <td>Middle East and Northern Africa</td>\n",
       "      <td>28</td>\n",
       "      <td>6.611</td>\n",
       "      <td>0.06257</td>\n",
       "      <td>1.69042</td>\n",
       "      <td>1.07860</td>\n",
       "      <td>0.79733</td>\n",
       "      <td>0.64040</td>\n",
       "      <td>0.52208</td>\n",
       "      <td>0.32573</td>\n",
       "      <td>1.55674</td>\n",
       "    </tr>\n",
       "    <tr>\n",
       "      <th>28</th>\n",
       "      <td>France</td>\n",
       "      <td>Western Europe</td>\n",
       "      <td>29</td>\n",
       "      <td>6.575</td>\n",
       "      <td>0.03512</td>\n",
       "      <td>1.27778</td>\n",
       "      <td>1.26038</td>\n",
       "      <td>0.94579</td>\n",
       "      <td>0.55011</td>\n",
       "      <td>0.20646</td>\n",
       "      <td>0.12332</td>\n",
       "      <td>2.21126</td>\n",
       "    </tr>\n",
       "    <tr>\n",
       "      <th>29</th>\n",
       "      <td>Argentina</td>\n",
       "      <td>Latin America and Caribbean</td>\n",
       "      <td>30</td>\n",
       "      <td>6.574</td>\n",
       "      <td>0.04612</td>\n",
       "      <td>1.05351</td>\n",
       "      <td>1.24823</td>\n",
       "      <td>0.78723</td>\n",
       "      <td>0.44974</td>\n",
       "      <td>0.08484</td>\n",
       "      <td>0.11451</td>\n",
       "      <td>2.83600</td>\n",
       "    </tr>\n",
       "    <tr>\n",
       "      <th>30</th>\n",
       "      <td>Czech Republic</td>\n",
       "      <td>Central and Eastern Europe</td>\n",
       "      <td>31</td>\n",
       "      <td>6.505</td>\n",
       "      <td>0.04168</td>\n",
       "      <td>1.17898</td>\n",
       "      <td>1.20643</td>\n",
       "      <td>0.84483</td>\n",
       "      <td>0.46364</td>\n",
       "      <td>0.02652</td>\n",
       "      <td>0.10686</td>\n",
       "      <td>2.67782</td>\n",
       "    </tr>\n",
       "    <tr>\n",
       "      <th>31</th>\n",
       "      <td>Uruguay</td>\n",
       "      <td>Latin America and Caribbean</td>\n",
       "      <td>32</td>\n",
       "      <td>6.485</td>\n",
       "      <td>0.04539</td>\n",
       "      <td>1.06166</td>\n",
       "      <td>1.20890</td>\n",
       "      <td>0.81160</td>\n",
       "      <td>0.60362</td>\n",
       "      <td>0.24558</td>\n",
       "      <td>0.23240</td>\n",
       "      <td>2.32142</td>\n",
       "    </tr>\n",
       "    <tr>\n",
       "      <th>32</th>\n",
       "      <td>Colombia</td>\n",
       "      <td>Latin America and Caribbean</td>\n",
       "      <td>33</td>\n",
       "      <td>6.477</td>\n",
       "      <td>0.05051</td>\n",
       "      <td>0.91861</td>\n",
       "      <td>1.24018</td>\n",
       "      <td>0.69077</td>\n",
       "      <td>0.53466</td>\n",
       "      <td>0.05120</td>\n",
       "      <td>0.18401</td>\n",
       "      <td>2.85737</td>\n",
       "    </tr>\n",
       "    <tr>\n",
       "      <th>33</th>\n",
       "      <td>Thailand</td>\n",
       "      <td>Southeastern Asia</td>\n",
       "      <td>34</td>\n",
       "      <td>6.455</td>\n",
       "      <td>0.03557</td>\n",
       "      <td>0.96690</td>\n",
       "      <td>1.26504</td>\n",
       "      <td>0.73850</td>\n",
       "      <td>0.55664</td>\n",
       "      <td>0.03187</td>\n",
       "      <td>0.57630</td>\n",
       "      <td>2.31945</td>\n",
       "    </tr>\n",
       "    <tr>\n",
       "      <th>34</th>\n",
       "      <td>Saudi Arabia</td>\n",
       "      <td>Middle East and Northern Africa</td>\n",
       "      <td>35</td>\n",
       "      <td>6.411</td>\n",
       "      <td>0.04633</td>\n",
       "      <td>1.39541</td>\n",
       "      <td>1.08393</td>\n",
       "      <td>0.72025</td>\n",
       "      <td>0.31048</td>\n",
       "      <td>0.32524</td>\n",
       "      <td>0.13706</td>\n",
       "      <td>2.43872</td>\n",
       "    </tr>\n",
       "    <tr>\n",
       "      <th>35</th>\n",
       "      <td>Spain</td>\n",
       "      <td>Western Europe</td>\n",
       "      <td>36</td>\n",
       "      <td>6.329</td>\n",
       "      <td>0.03468</td>\n",
       "      <td>1.23011</td>\n",
       "      <td>1.31379</td>\n",
       "      <td>0.95562</td>\n",
       "      <td>0.45951</td>\n",
       "      <td>0.06398</td>\n",
       "      <td>0.18227</td>\n",
       "      <td>2.12367</td>\n",
       "    </tr>\n",
       "    <tr>\n",
       "      <th>36</th>\n",
       "      <td>Malta</td>\n",
       "      <td>Western Europe</td>\n",
       "      <td>37</td>\n",
       "      <td>6.302</td>\n",
       "      <td>0.04206</td>\n",
       "      <td>1.20740</td>\n",
       "      <td>1.30203</td>\n",
       "      <td>0.88721</td>\n",
       "      <td>0.60365</td>\n",
       "      <td>0.13586</td>\n",
       "      <td>0.51752</td>\n",
       "      <td>1.64880</td>\n",
       "    </tr>\n",
       "    <tr>\n",
       "      <th>37</th>\n",
       "      <td>Taiwan</td>\n",
       "      <td>Eastern Asia</td>\n",
       "      <td>38</td>\n",
       "      <td>6.298</td>\n",
       "      <td>0.03868</td>\n",
       "      <td>1.29098</td>\n",
       "      <td>1.07617</td>\n",
       "      <td>0.87530</td>\n",
       "      <td>0.39740</td>\n",
       "      <td>0.08129</td>\n",
       "      <td>0.25376</td>\n",
       "      <td>2.32323</td>\n",
       "    </tr>\n",
       "    <tr>\n",
       "      <th>38</th>\n",
       "      <td>Kuwait</td>\n",
       "      <td>Middle East and Northern Africa</td>\n",
       "      <td>39</td>\n",
       "      <td>6.295</td>\n",
       "      <td>0.04456</td>\n",
       "      <td>1.55422</td>\n",
       "      <td>1.16594</td>\n",
       "      <td>0.72492</td>\n",
       "      <td>0.55499</td>\n",
       "      <td>0.25609</td>\n",
       "      <td>0.16228</td>\n",
       "      <td>1.87634</td>\n",
       "    </tr>\n",
       "    <tr>\n",
       "      <th>39</th>\n",
       "      <td>Suriname</td>\n",
       "      <td>Latin America and Caribbean</td>\n",
       "      <td>40</td>\n",
       "      <td>6.269</td>\n",
       "      <td>0.09811</td>\n",
       "      <td>0.99534</td>\n",
       "      <td>0.97200</td>\n",
       "      <td>0.60820</td>\n",
       "      <td>0.59657</td>\n",
       "      <td>0.13633</td>\n",
       "      <td>0.16991</td>\n",
       "      <td>2.79094</td>\n",
       "    </tr>\n",
       "    <tr>\n",
       "      <th>40</th>\n",
       "      <td>Trinidad and Tobago</td>\n",
       "      <td>Latin America and Caribbean</td>\n",
       "      <td>41</td>\n",
       "      <td>6.168</td>\n",
       "      <td>0.10895</td>\n",
       "      <td>1.21183</td>\n",
       "      <td>1.18354</td>\n",
       "      <td>0.61483</td>\n",
       "      <td>0.55884</td>\n",
       "      <td>0.01140</td>\n",
       "      <td>0.31844</td>\n",
       "      <td>2.26882</td>\n",
       "    </tr>\n",
       "    <tr>\n",
       "      <th>41</th>\n",
       "      <td>El Salvador</td>\n",
       "      <td>Latin America and Caribbean</td>\n",
       "      <td>42</td>\n",
       "      <td>6.130</td>\n",
       "      <td>0.05618</td>\n",
       "      <td>0.76454</td>\n",
       "      <td>1.02507</td>\n",
       "      <td>0.67737</td>\n",
       "      <td>0.40350</td>\n",
       "      <td>0.11776</td>\n",
       "      <td>0.10692</td>\n",
       "      <td>3.03500</td>\n",
       "    </tr>\n",
       "    <tr>\n",
       "      <th>42</th>\n",
       "      <td>Guatemala</td>\n",
       "      <td>Latin America and Caribbean</td>\n",
       "      <td>43</td>\n",
       "      <td>6.123</td>\n",
       "      <td>0.05224</td>\n",
       "      <td>0.74553</td>\n",
       "      <td>1.04356</td>\n",
       "      <td>0.64425</td>\n",
       "      <td>0.57733</td>\n",
       "      <td>0.09472</td>\n",
       "      <td>0.27489</td>\n",
       "      <td>2.74255</td>\n",
       "    </tr>\n",
       "    <tr>\n",
       "      <th>43</th>\n",
       "      <td>Uzbekistan</td>\n",
       "      <td>Central and Eastern Europe</td>\n",
       "      <td>44</td>\n",
       "      <td>6.003</td>\n",
       "      <td>0.04361</td>\n",
       "      <td>0.63244</td>\n",
       "      <td>1.34043</td>\n",
       "      <td>0.59772</td>\n",
       "      <td>0.65821</td>\n",
       "      <td>0.30826</td>\n",
       "      <td>0.22837</td>\n",
       "      <td>2.23741</td>\n",
       "    </tr>\n",
       "  </tbody>\n",
       "</table>\n",
       "</div>"
      ],
      "text/plain": [
       "                 Country                           Region  Happiness Rank  \\\n",
       "0            Switzerland                   Western Europe               1   \n",
       "1                Iceland                   Western Europe               2   \n",
       "2                Denmark                   Western Europe               3   \n",
       "3                 Norway                   Western Europe               4   \n",
       "4                 Canada                    North America               5   \n",
       "5                Finland                   Western Europe               6   \n",
       "6            Netherlands                   Western Europe               7   \n",
       "7                 Sweden                   Western Europe               8   \n",
       "8            New Zealand        Australia and New Zealand               9   \n",
       "9              Australia        Australia and New Zealand              10   \n",
       "10                Israel  Middle East and Northern Africa              11   \n",
       "11            Costa Rica      Latin America and Caribbean              12   \n",
       "12               Austria                   Western Europe              13   \n",
       "13                Mexico      Latin America and Caribbean              14   \n",
       "14         United States                    North America              15   \n",
       "15                Brazil      Latin America and Caribbean              16   \n",
       "16            Luxembourg                   Western Europe              17   \n",
       "17               Ireland                   Western Europe              18   \n",
       "18               Belgium                   Western Europe              19   \n",
       "19  United Arab Emirates  Middle East and Northern Africa              20   \n",
       "20        United Kingdom                   Western Europe              21   \n",
       "21                  Oman  Middle East and Northern Africa              22   \n",
       "22             Venezuela      Latin America and Caribbean              23   \n",
       "23             Singapore                Southeastern Asia              24   \n",
       "24                Panama      Latin America and Caribbean              25   \n",
       "25               Germany                   Western Europe              26   \n",
       "26                 Chile      Latin America and Caribbean              27   \n",
       "27                 Qatar  Middle East and Northern Africa              28   \n",
       "28                France                   Western Europe              29   \n",
       "29             Argentina      Latin America and Caribbean              30   \n",
       "30        Czech Republic       Central and Eastern Europe              31   \n",
       "31               Uruguay      Latin America and Caribbean              32   \n",
       "32              Colombia      Latin America and Caribbean              33   \n",
       "33              Thailand                Southeastern Asia              34   \n",
       "34          Saudi Arabia  Middle East and Northern Africa              35   \n",
       "35                 Spain                   Western Europe              36   \n",
       "36                 Malta                   Western Europe              37   \n",
       "37                Taiwan                     Eastern Asia              38   \n",
       "38                Kuwait  Middle East and Northern Africa              39   \n",
       "39              Suriname      Latin America and Caribbean              40   \n",
       "40   Trinidad and Tobago      Latin America and Caribbean              41   \n",
       "41           El Salvador      Latin America and Caribbean              42   \n",
       "42             Guatemala      Latin America and Caribbean              43   \n",
       "43            Uzbekistan       Central and Eastern Europe              44   \n",
       "\n",
       "    Happiness Score  Standard Error  Economy (GDP per Capita)   Family  \\\n",
       "0             7.587         0.03411                   1.39651  1.34951   \n",
       "1             7.561         0.04884                   1.30232  1.40223   \n",
       "2             7.527         0.03328                   1.32548  1.36058   \n",
       "3             7.522         0.03880                   1.45900  1.33095   \n",
       "4             7.427         0.03553                   1.32629  1.32261   \n",
       "5             7.406         0.03140                   1.29025  1.31826   \n",
       "6             7.378         0.02799                   1.32944  1.28017   \n",
       "7             7.364         0.03157                   1.33171  1.28907   \n",
       "8             7.286         0.03371                   1.25018  1.31967   \n",
       "9             7.284         0.04083                   1.33358  1.30923   \n",
       "10            7.278         0.03470                   1.22857  1.22393   \n",
       "11            7.226         0.04454                   0.95578  1.23788   \n",
       "12            7.200         0.03751                   1.33723  1.29704   \n",
       "13            7.187         0.04176                   1.02054  0.91451   \n",
       "14            7.119         0.03839                   1.39451  1.24711   \n",
       "15            6.983         0.04076                   0.98124  1.23287   \n",
       "16            6.946         0.03499                   1.56391  1.21963   \n",
       "17            6.940         0.03676                   1.33596  1.36948   \n",
       "18            6.937         0.03595                   1.30782  1.28566   \n",
       "19            6.901         0.03729                   1.42727  1.12575   \n",
       "20            6.867         0.01866                   1.26637  1.28548   \n",
       "21            6.853         0.05335                   1.36011  1.08182   \n",
       "22            6.810         0.06476                   1.04424  1.25596   \n",
       "23            6.798         0.03780                   1.52186  1.02000   \n",
       "24            6.786         0.04910                   1.06353  1.19850   \n",
       "25            6.750         0.01848                   1.32792  1.29937   \n",
       "26            6.670         0.05800                   1.10715  1.12447   \n",
       "27            6.611         0.06257                   1.69042  1.07860   \n",
       "28            6.575         0.03512                   1.27778  1.26038   \n",
       "29            6.574         0.04612                   1.05351  1.24823   \n",
       "30            6.505         0.04168                   1.17898  1.20643   \n",
       "31            6.485         0.04539                   1.06166  1.20890   \n",
       "32            6.477         0.05051                   0.91861  1.24018   \n",
       "33            6.455         0.03557                   0.96690  1.26504   \n",
       "34            6.411         0.04633                   1.39541  1.08393   \n",
       "35            6.329         0.03468                   1.23011  1.31379   \n",
       "36            6.302         0.04206                   1.20740  1.30203   \n",
       "37            6.298         0.03868                   1.29098  1.07617   \n",
       "38            6.295         0.04456                   1.55422  1.16594   \n",
       "39            6.269         0.09811                   0.99534  0.97200   \n",
       "40            6.168         0.10895                   1.21183  1.18354   \n",
       "41            6.130         0.05618                   0.76454  1.02507   \n",
       "42            6.123         0.05224                   0.74553  1.04356   \n",
       "43            6.003         0.04361                   0.63244  1.34043   \n",
       "\n",
       "    Health (Life Expectancy)  Freedom  Trust (Government Corruption)  \\\n",
       "0                    0.94143  0.66557                        0.41978   \n",
       "1                    0.94784  0.62877                        0.14145   \n",
       "2                    0.87464  0.64938                        0.48357   \n",
       "3                    0.88521  0.66973                        0.36503   \n",
       "4                    0.90563  0.63297                        0.32957   \n",
       "5                    0.88911  0.64169                        0.41372   \n",
       "6                    0.89284  0.61576                        0.31814   \n",
       "7                    0.91087  0.65980                        0.43844   \n",
       "8                    0.90837  0.63938                        0.42922   \n",
       "9                    0.93156  0.65124                        0.35637   \n",
       "10                   0.91387  0.41319                        0.07785   \n",
       "11                   0.86027  0.63376                        0.10583   \n",
       "12                   0.89042  0.62433                        0.18676   \n",
       "13                   0.81444  0.48181                        0.21312   \n",
       "14                   0.86179  0.54604                        0.15890   \n",
       "15                   0.69702  0.49049                        0.17521   \n",
       "16                   0.91894  0.61583                        0.37798   \n",
       "17                   0.89533  0.61777                        0.28703   \n",
       "18                   0.89667  0.58450                        0.22540   \n",
       "19                   0.80925  0.64157                        0.38583   \n",
       "20                   0.90943  0.59625                        0.32067   \n",
       "21                   0.76276  0.63274                        0.32524   \n",
       "22                   0.72052  0.42908                        0.11069   \n",
       "23                   1.02525  0.54252                        0.49210   \n",
       "24                   0.79661  0.54210                        0.09270   \n",
       "25                   0.89186  0.61477                        0.21843   \n",
       "26                   0.85857  0.44132                        0.12869   \n",
       "27                   0.79733  0.64040                        0.52208   \n",
       "28                   0.94579  0.55011                        0.20646   \n",
       "29                   0.78723  0.44974                        0.08484   \n",
       "30                   0.84483  0.46364                        0.02652   \n",
       "31                   0.81160  0.60362                        0.24558   \n",
       "32                   0.69077  0.53466                        0.05120   \n",
       "33                   0.73850  0.55664                        0.03187   \n",
       "34                   0.72025  0.31048                        0.32524   \n",
       "35                   0.95562  0.45951                        0.06398   \n",
       "36                   0.88721  0.60365                        0.13586   \n",
       "37                   0.87530  0.39740                        0.08129   \n",
       "38                   0.72492  0.55499                        0.25609   \n",
       "39                   0.60820  0.59657                        0.13633   \n",
       "40                   0.61483  0.55884                        0.01140   \n",
       "41                   0.67737  0.40350                        0.11776   \n",
       "42                   0.64425  0.57733                        0.09472   \n",
       "43                   0.59772  0.65821                        0.30826   \n",
       "\n",
       "    Generosity  Dystopia Residual  \n",
       "0      0.29678            2.51738  \n",
       "1      0.43630            2.70201  \n",
       "2      0.34139            2.49204  \n",
       "3      0.34699            2.46531  \n",
       "4      0.45811            2.45176  \n",
       "5      0.23351            2.61955  \n",
       "6      0.47610            2.46570  \n",
       "7      0.36262            2.37119  \n",
       "8      0.47501            2.26425  \n",
       "9      0.43562            2.26646  \n",
       "10     0.33172            3.08854  \n",
       "11     0.25497            3.17728  \n",
       "12     0.33088            2.53320  \n",
       "13     0.14074            3.60214  \n",
       "14     0.40105            2.51011  \n",
       "15     0.14574            3.26001  \n",
       "16     0.28034            1.96961  \n",
       "17     0.45901            1.97570  \n",
       "18     0.22250            2.41484  \n",
       "19     0.26428            2.24743  \n",
       "20     0.51912            1.96994  \n",
       "21     0.21542            2.47489  \n",
       "22     0.05841            3.19131  \n",
       "23     0.31105            1.88501  \n",
       "24     0.24434            2.84848  \n",
       "25     0.28214            2.11569  \n",
       "26     0.33363            2.67585  \n",
       "27     0.32573            1.55674  \n",
       "28     0.12332            2.21126  \n",
       "29     0.11451            2.83600  \n",
       "30     0.10686            2.67782  \n",
       "31     0.23240            2.32142  \n",
       "32     0.18401            2.85737  \n",
       "33     0.57630            2.31945  \n",
       "34     0.13706            2.43872  \n",
       "35     0.18227            2.12367  \n",
       "36     0.51752            1.64880  \n",
       "37     0.25376            2.32323  \n",
       "38     0.16228            1.87634  \n",
       "39     0.16991            2.79094  \n",
       "40     0.31844            2.26882  \n",
       "41     0.10692            3.03500  \n",
       "42     0.27489            2.74255  \n",
       "43     0.22837            2.23741  "
      ]
     },
     "execution_count": 124,
     "metadata": {},
     "output_type": "execute_result"
    }
   ],
   "source": [
    "# Select row by number\n",
    "df[df['Happiness Score']>6]"
   ]
  },
  {
   "cell_type": "code",
   "execution_count": 122,
   "metadata": {
    "slideshow": {
     "slide_type": "subslide"
    }
   },
   "outputs": [
    {
     "data": {
      "text/html": [
       "<div>\n",
       "<style scoped>\n",
       "    .dataframe tbody tr th:only-of-type {\n",
       "        vertical-align: middle;\n",
       "    }\n",
       "\n",
       "    .dataframe tbody tr th {\n",
       "        vertical-align: top;\n",
       "    }\n",
       "\n",
       "    .dataframe thead th {\n",
       "        text-align: right;\n",
       "    }\n",
       "</style>\n",
       "<table border=\"1\" class=\"dataframe\">\n",
       "  <thead>\n",
       "    <tr style=\"text-align: right;\">\n",
       "      <th></th>\n",
       "      <th>Country</th>\n",
       "      <th>Region</th>\n",
       "      <th>Happiness Rank</th>\n",
       "      <th>Happiness Score</th>\n",
       "      <th>Standard Error</th>\n",
       "      <th>Economy (GDP per Capita)</th>\n",
       "      <th>Family</th>\n",
       "      <th>Health (Life Expectancy)</th>\n",
       "      <th>Freedom</th>\n",
       "      <th>Trust (Government Corruption)</th>\n",
       "      <th>Generosity</th>\n",
       "      <th>Dystopia Residual</th>\n",
       "    </tr>\n",
       "  </thead>\n",
       "  <tbody>\n",
       "    <tr>\n",
       "      <th>4</th>\n",
       "      <td>Canada</td>\n",
       "      <td>North America</td>\n",
       "      <td>5</td>\n",
       "      <td>7.427</td>\n",
       "      <td>0.03553</td>\n",
       "      <td>1.32629</td>\n",
       "      <td>1.32261</td>\n",
       "      <td>0.90563</td>\n",
       "      <td>0.63297</td>\n",
       "      <td>0.32957</td>\n",
       "      <td>0.45811</td>\n",
       "      <td>2.45176</td>\n",
       "    </tr>\n",
       "    <tr>\n",
       "      <th>5</th>\n",
       "      <td>Finland</td>\n",
       "      <td>Western Europe</td>\n",
       "      <td>6</td>\n",
       "      <td>7.406</td>\n",
       "      <td>0.03140</td>\n",
       "      <td>1.29025</td>\n",
       "      <td>1.31826</td>\n",
       "      <td>0.88911</td>\n",
       "      <td>0.64169</td>\n",
       "      <td>0.41372</td>\n",
       "      <td>0.23351</td>\n",
       "      <td>2.61955</td>\n",
       "    </tr>\n",
       "    <tr>\n",
       "      <th>6</th>\n",
       "      <td>Netherlands</td>\n",
       "      <td>Western Europe</td>\n",
       "      <td>7</td>\n",
       "      <td>7.378</td>\n",
       "      <td>0.02799</td>\n",
       "      <td>1.32944</td>\n",
       "      <td>1.28017</td>\n",
       "      <td>0.89284</td>\n",
       "      <td>0.61576</td>\n",
       "      <td>0.31814</td>\n",
       "      <td>0.47610</td>\n",
       "      <td>2.46570</td>\n",
       "    </tr>\n",
       "    <tr>\n",
       "      <th>7</th>\n",
       "      <td>Sweden</td>\n",
       "      <td>Western Europe</td>\n",
       "      <td>8</td>\n",
       "      <td>7.364</td>\n",
       "      <td>0.03157</td>\n",
       "      <td>1.33171</td>\n",
       "      <td>1.28907</td>\n",
       "      <td>0.91087</td>\n",
       "      <td>0.65980</td>\n",
       "      <td>0.43844</td>\n",
       "      <td>0.36262</td>\n",
       "      <td>2.37119</td>\n",
       "    </tr>\n",
       "    <tr>\n",
       "      <th>8</th>\n",
       "      <td>New Zealand</td>\n",
       "      <td>Australia and New Zealand</td>\n",
       "      <td>9</td>\n",
       "      <td>7.286</td>\n",
       "      <td>0.03371</td>\n",
       "      <td>1.25018</td>\n",
       "      <td>1.31967</td>\n",
       "      <td>0.90837</td>\n",
       "      <td>0.63938</td>\n",
       "      <td>0.42922</td>\n",
       "      <td>0.47501</td>\n",
       "      <td>2.26425</td>\n",
       "    </tr>\n",
       "    <tr>\n",
       "      <th>9</th>\n",
       "      <td>Australia</td>\n",
       "      <td>Australia and New Zealand</td>\n",
       "      <td>10</td>\n",
       "      <td>7.284</td>\n",
       "      <td>0.04083</td>\n",
       "      <td>1.33358</td>\n",
       "      <td>1.30923</td>\n",
       "      <td>0.93156</td>\n",
       "      <td>0.65124</td>\n",
       "      <td>0.35637</td>\n",
       "      <td>0.43562</td>\n",
       "      <td>2.26646</td>\n",
       "    </tr>\n",
       "  </tbody>\n",
       "</table>\n",
       "</div>"
      ],
      "text/plain": [
       "       Country                     Region  Happiness Rank  Happiness Score  \\\n",
       "4       Canada              North America               5            7.427   \n",
       "5      Finland             Western Europe               6            7.406   \n",
       "6  Netherlands             Western Europe               7            7.378   \n",
       "7       Sweden             Western Europe               8            7.364   \n",
       "8  New Zealand  Australia and New Zealand               9            7.286   \n",
       "9    Australia  Australia and New Zealand              10            7.284   \n",
       "\n",
       "   Standard Error  Economy (GDP per Capita)   Family  \\\n",
       "4         0.03553                   1.32629  1.32261   \n",
       "5         0.03140                   1.29025  1.31826   \n",
       "6         0.02799                   1.32944  1.28017   \n",
       "7         0.03157                   1.33171  1.28907   \n",
       "8         0.03371                   1.25018  1.31967   \n",
       "9         0.04083                   1.33358  1.30923   \n",
       "\n",
       "   Health (Life Expectancy)  Freedom  Trust (Government Corruption)  \\\n",
       "4                   0.90563  0.63297                        0.32957   \n",
       "5                   0.88911  0.64169                        0.41372   \n",
       "6                   0.89284  0.61576                        0.31814   \n",
       "7                   0.91087  0.65980                        0.43844   \n",
       "8                   0.90837  0.63938                        0.42922   \n",
       "9                   0.93156  0.65124                        0.35637   \n",
       "\n",
       "   Generosity  Dystopia Residual  \n",
       "4     0.45811            2.45176  \n",
       "5     0.23351            2.61955  \n",
       "6     0.47610            2.46570  \n",
       "7     0.36262            2.37119  \n",
       "8     0.47501            2.26425  \n",
       "9     0.43562            2.26646  "
      ]
     },
     "execution_count": 122,
     "metadata": {},
     "output_type": "execute_result"
    }
   ],
   "source": [
    "# Select a slice of rows\n",
    "df[4:10]"
   ]
  },
  {
   "cell_type": "code",
   "execution_count": 129,
   "metadata": {
    "scrolled": true,
    "slideshow": {
     "slide_type": "subslide"
    }
   },
   "outputs": [
    {
     "data": {
      "text/html": [
       "<div>\n",
       "<style scoped>\n",
       "    .dataframe tbody tr th:only-of-type {\n",
       "        vertical-align: middle;\n",
       "    }\n",
       "\n",
       "    .dataframe tbody tr th {\n",
       "        vertical-align: top;\n",
       "    }\n",
       "\n",
       "    .dataframe thead th {\n",
       "        text-align: right;\n",
       "    }\n",
       "</style>\n",
       "<table border=\"1\" class=\"dataframe\">\n",
       "  <thead>\n",
       "    <tr style=\"text-align: right;\">\n",
       "      <th></th>\n",
       "      <th>Country</th>\n",
       "      <th>Region</th>\n",
       "      <th>Happiness Rank</th>\n",
       "      <th>Happiness Score</th>\n",
       "      <th>Standard Error</th>\n",
       "      <th>Economy (GDP per Capita)</th>\n",
       "      <th>Family</th>\n",
       "      <th>Health (Life Expectancy)</th>\n",
       "      <th>Freedom</th>\n",
       "      <th>Trust (Government Corruption)</th>\n",
       "      <th>Generosity</th>\n",
       "      <th>Dystopia Residual</th>\n",
       "    </tr>\n",
       "  </thead>\n",
       "  <tbody>\n",
       "    <tr>\n",
       "      <th>157</th>\n",
       "      <td>Togo</td>\n",
       "      <td>Sub-Saharan Africa</td>\n",
       "      <td>158</td>\n",
       "      <td>2.839</td>\n",
       "      <td>0.06727</td>\n",
       "      <td>0.20868</td>\n",
       "      <td>0.13995</td>\n",
       "      <td>0.28443</td>\n",
       "      <td>0.36453</td>\n",
       "      <td>0.10731</td>\n",
       "      <td>0.16681</td>\n",
       "      <td>1.56726</td>\n",
       "    </tr>\n",
       "    <tr>\n",
       "      <th>156</th>\n",
       "      <td>Burundi</td>\n",
       "      <td>Sub-Saharan Africa</td>\n",
       "      <td>157</td>\n",
       "      <td>2.905</td>\n",
       "      <td>0.08658</td>\n",
       "      <td>0.01530</td>\n",
       "      <td>0.41587</td>\n",
       "      <td>0.22396</td>\n",
       "      <td>0.11850</td>\n",
       "      <td>0.10062</td>\n",
       "      <td>0.19727</td>\n",
       "      <td>1.83302</td>\n",
       "    </tr>\n",
       "    <tr>\n",
       "      <th>155</th>\n",
       "      <td>Syria</td>\n",
       "      <td>Middle East and Northern Africa</td>\n",
       "      <td>156</td>\n",
       "      <td>3.006</td>\n",
       "      <td>0.05015</td>\n",
       "      <td>0.66320</td>\n",
       "      <td>0.47489</td>\n",
       "      <td>0.72193</td>\n",
       "      <td>0.15684</td>\n",
       "      <td>0.18906</td>\n",
       "      <td>0.47179</td>\n",
       "      <td>0.32858</td>\n",
       "    </tr>\n",
       "    <tr>\n",
       "      <th>154</th>\n",
       "      <td>Benin</td>\n",
       "      <td>Sub-Saharan Africa</td>\n",
       "      <td>155</td>\n",
       "      <td>3.340</td>\n",
       "      <td>0.03656</td>\n",
       "      <td>0.28665</td>\n",
       "      <td>0.35386</td>\n",
       "      <td>0.31910</td>\n",
       "      <td>0.48450</td>\n",
       "      <td>0.08010</td>\n",
       "      <td>0.18260</td>\n",
       "      <td>1.63328</td>\n",
       "    </tr>\n",
       "    <tr>\n",
       "      <th>153</th>\n",
       "      <td>Rwanda</td>\n",
       "      <td>Sub-Saharan Africa</td>\n",
       "      <td>154</td>\n",
       "      <td>3.465</td>\n",
       "      <td>0.03464</td>\n",
       "      <td>0.22208</td>\n",
       "      <td>0.77370</td>\n",
       "      <td>0.42864</td>\n",
       "      <td>0.59201</td>\n",
       "      <td>0.55191</td>\n",
       "      <td>0.22628</td>\n",
       "      <td>0.67042</td>\n",
       "    </tr>\n",
       "  </tbody>\n",
       "</table>\n",
       "</div>"
      ],
      "text/plain": [
       "     Country                           Region  Happiness Rank  \\\n",
       "157     Togo               Sub-Saharan Africa             158   \n",
       "156  Burundi               Sub-Saharan Africa             157   \n",
       "155    Syria  Middle East and Northern Africa             156   \n",
       "154    Benin               Sub-Saharan Africa             155   \n",
       "153   Rwanda               Sub-Saharan Africa             154   \n",
       "\n",
       "     Happiness Score  Standard Error  Economy (GDP per Capita)   Family  \\\n",
       "157            2.839         0.06727                   0.20868  0.13995   \n",
       "156            2.905         0.08658                   0.01530  0.41587   \n",
       "155            3.006         0.05015                   0.66320  0.47489   \n",
       "154            3.340         0.03656                   0.28665  0.35386   \n",
       "153            3.465         0.03464                   0.22208  0.77370   \n",
       "\n",
       "     Health (Life Expectancy)  Freedom  Trust (Government Corruption)  \\\n",
       "157                   0.28443  0.36453                        0.10731   \n",
       "156                   0.22396  0.11850                        0.10062   \n",
       "155                   0.72193  0.15684                        0.18906   \n",
       "154                   0.31910  0.48450                        0.08010   \n",
       "153                   0.42864  0.59201                        0.55191   \n",
       "\n",
       "     Generosity  Dystopia Residual  \n",
       "157     0.16681            1.56726  \n",
       "156     0.19727            1.83302  \n",
       "155     0.47179            0.32858  \n",
       "154     0.18260            1.63328  \n",
       "153     0.22628            0.67042  "
      ]
     },
     "execution_count": 129,
     "metadata": {},
     "output_type": "execute_result"
    }
   ],
   "source": [
    "# Sort the dataframe by a column\n",
    "df.sort_values(by='Happiness Rank', inplace=True, ascending=False)\n",
    "df.head(5)"
   ]
  },
  {
   "cell_type": "code",
   "execution_count": null,
   "metadata": {
    "slideshow": {
     "slide_type": "subslide"
    }
   },
   "outputs": [],
   "source": [
    "# Filter the dataframe with a constraint on a column\n",
    "df[df['Economy (GDP per Capita)']>1.3]\n",
    "df.head()"
   ]
  },
  {
   "cell_type": "code",
   "execution_count": 132,
   "metadata": {},
   "outputs": [
    {
     "data": {
      "text/html": [
       "<div>\n",
       "<style scoped>\n",
       "    .dataframe tbody tr th:only-of-type {\n",
       "        vertical-align: middle;\n",
       "    }\n",
       "\n",
       "    .dataframe tbody tr th {\n",
       "        vertical-align: top;\n",
       "    }\n",
       "\n",
       "    .dataframe thead th {\n",
       "        text-align: right;\n",
       "    }\n",
       "</style>\n",
       "<table border=\"1\" class=\"dataframe\">\n",
       "  <thead>\n",
       "    <tr style=\"text-align: right;\">\n",
       "      <th></th>\n",
       "      <th>Dystopia Residual</th>\n",
       "      <th>Economy (GDP per Capita)</th>\n",
       "      <th>Family</th>\n",
       "      <th>Freedom</th>\n",
       "      <th>Generosity</th>\n",
       "      <th>Happiness Rank</th>\n",
       "      <th>Happiness Score</th>\n",
       "      <th>Health (Life Expectancy)</th>\n",
       "      <th>Standard Error</th>\n",
       "      <th>Trust (Government Corruption)</th>\n",
       "    </tr>\n",
       "    <tr>\n",
       "      <th>Region</th>\n",
       "      <th></th>\n",
       "      <th></th>\n",
       "      <th></th>\n",
       "      <th></th>\n",
       "      <th></th>\n",
       "      <th></th>\n",
       "      <th></th>\n",
       "      <th></th>\n",
       "      <th></th>\n",
       "      <th></th>\n",
       "    </tr>\n",
       "  </thead>\n",
       "  <tbody>\n",
       "    <tr>\n",
       "      <th>Australia and New Zealand</th>\n",
       "      <td>4.53071</td>\n",
       "      <td>2.58376</td>\n",
       "      <td>2.62890</td>\n",
       "      <td>1.29062</td>\n",
       "      <td>0.91063</td>\n",
       "      <td>19</td>\n",
       "      <td>14.570</td>\n",
       "      <td>1.83993</td>\n",
       "      <td>0.07454</td>\n",
       "      <td>0.78559</td>\n",
       "    </tr>\n",
       "    <tr>\n",
       "      <th>Central and Eastern Europe</th>\n",
       "      <td>58.62059</td>\n",
       "      <td>27.33071</td>\n",
       "      <td>30.53823</td>\n",
       "      <td>10.38979</td>\n",
       "      <td>4.41565</td>\n",
       "      <td>2291</td>\n",
       "      <td>154.655</td>\n",
       "      <td>20.84444</td>\n",
       "      <td>1.31102</td>\n",
       "      <td>2.51354</td>\n",
       "    </tr>\n",
       "    <tr>\n",
       "      <th>Eastern Asia</th>\n",
       "      <td>10.08964</td>\n",
       "      <td>6.91068</td>\n",
       "      <td>6.59656</td>\n",
       "      <td>2.77494</td>\n",
       "      <td>1.35531</td>\n",
       "      <td>387</td>\n",
       "      <td>33.757</td>\n",
       "      <td>5.26433</td>\n",
       "      <td>0.22335</td>\n",
       "      <td>0.76617</td>\n",
       "    </tr>\n",
       "    <tr>\n",
       "      <th>Latin America and Caribbean</th>\n",
       "      <td>57.69670</td>\n",
       "      <td>19.28994</td>\n",
       "      <td>24.30385</td>\n",
       "      <td>11.03827</td>\n",
       "      <td>4.79133</td>\n",
       "      <td>1032</td>\n",
       "      <td>135.183</td>\n",
       "      <td>15.48515</td>\n",
       "      <td>1.34479</td>\n",
       "      <td>2.57778</td>\n",
       "    </tr>\n",
       "    <tr>\n",
       "      <th>Middle East and Northern Africa</th>\n",
       "      <td>39.60017</td>\n",
       "      <td>21.33947</td>\n",
       "      <td>18.40980</td>\n",
       "      <td>7.23502</td>\n",
       "      <td>3.80751</td>\n",
       "      <td>1552</td>\n",
       "      <td>108.138</td>\n",
       "      <td>14.11231</td>\n",
       "      <td>0.92674</td>\n",
       "      <td>3.63404</td>\n",
       "    </tr>\n",
       "    <tr>\n",
       "      <th>North America</th>\n",
       "      <td>4.96187</td>\n",
       "      <td>2.72080</td>\n",
       "      <td>2.56972</td>\n",
       "      <td>1.17901</td>\n",
       "      <td>0.85916</td>\n",
       "      <td>20</td>\n",
       "      <td>14.546</td>\n",
       "      <td>1.76742</td>\n",
       "      <td>0.07392</td>\n",
       "      <td>0.48847</td>\n",
       "    </tr>\n",
       "    <tr>\n",
       "      <th>Southeastern Asia</th>\n",
       "      <td>16.04718</td>\n",
       "      <td>7.10149</td>\n",
       "      <td>8.46421</td>\n",
       "      <td>5.01394</td>\n",
       "      <td>3.77335</td>\n",
       "      <td>731</td>\n",
       "      <td>47.857</td>\n",
       "      <td>6.09621</td>\n",
       "      <td>0.38422</td>\n",
       "      <td>1.36148</td>\n",
       "    </tr>\n",
       "    <tr>\n",
       "      <th>Southern Asia</th>\n",
       "      <td>14.11738</td>\n",
       "      <td>3.92340</td>\n",
       "      <td>4.51725</td>\n",
       "      <td>2.61336</td>\n",
       "      <td>2.39000</td>\n",
       "      <td>792</td>\n",
       "      <td>32.066</td>\n",
       "      <td>3.78581</td>\n",
       "      <td>0.22513</td>\n",
       "      <td>0.71775</td>\n",
       "    </tr>\n",
       "    <tr>\n",
       "      <th>Sub-Saharan Africa</th>\n",
       "      <td>80.79920</td>\n",
       "      <td>15.21892</td>\n",
       "      <td>32.36340</td>\n",
       "      <td>14.63776</td>\n",
       "      <td>8.84547</td>\n",
       "      <td>5116</td>\n",
       "      <td>168.112</td>\n",
       "      <td>11.29327</td>\n",
       "      <td>2.21195</td>\n",
       "      <td>4.95511</td>\n",
       "    </tr>\n",
       "    <tr>\n",
       "      <th>Western Europe</th>\n",
       "      <td>45.17489</td>\n",
       "      <td>27.27051</td>\n",
       "      <td>26.19334</td>\n",
       "      <td>11.54845</td>\n",
       "      <td>6.34428</td>\n",
       "      <td>620</td>\n",
       "      <td>140.482</td>\n",
       "      <td>19.09211</td>\n",
       "      <td>0.79013</td>\n",
       "      <td>4.86072</td>\n",
       "    </tr>\n",
       "  </tbody>\n",
       "</table>\n",
       "</div>"
      ],
      "text/plain": [
       "                                 Dystopia Residual  Economy (GDP per Capita)  \\\n",
       "Region                                                                         \n",
       "Australia and New Zealand                  4.53071                   2.58376   \n",
       "Central and Eastern Europe                58.62059                  27.33071   \n",
       "Eastern Asia                              10.08964                   6.91068   \n",
       "Latin America and Caribbean               57.69670                  19.28994   \n",
       "Middle East and Northern Africa           39.60017                  21.33947   \n",
       "North America                              4.96187                   2.72080   \n",
       "Southeastern Asia                         16.04718                   7.10149   \n",
       "Southern Asia                             14.11738                   3.92340   \n",
       "Sub-Saharan Africa                        80.79920                  15.21892   \n",
       "Western Europe                            45.17489                  27.27051   \n",
       "\n",
       "                                   Family   Freedom  Generosity  \\\n",
       "Region                                                            \n",
       "Australia and New Zealand         2.62890   1.29062     0.91063   \n",
       "Central and Eastern Europe       30.53823  10.38979     4.41565   \n",
       "Eastern Asia                      6.59656   2.77494     1.35531   \n",
       "Latin America and Caribbean      24.30385  11.03827     4.79133   \n",
       "Middle East and Northern Africa  18.40980   7.23502     3.80751   \n",
       "North America                     2.56972   1.17901     0.85916   \n",
       "Southeastern Asia                 8.46421   5.01394     3.77335   \n",
       "Southern Asia                     4.51725   2.61336     2.39000   \n",
       "Sub-Saharan Africa               32.36340  14.63776     8.84547   \n",
       "Western Europe                   26.19334  11.54845     6.34428   \n",
       "\n",
       "                                 Happiness Rank  Happiness Score  \\\n",
       "Region                                                             \n",
       "Australia and New Zealand                    19           14.570   \n",
       "Central and Eastern Europe                 2291          154.655   \n",
       "Eastern Asia                                387           33.757   \n",
       "Latin America and Caribbean                1032          135.183   \n",
       "Middle East and Northern Africa            1552          108.138   \n",
       "North America                                20           14.546   \n",
       "Southeastern Asia                           731           47.857   \n",
       "Southern Asia                               792           32.066   \n",
       "Sub-Saharan Africa                         5116          168.112   \n",
       "Western Europe                              620          140.482   \n",
       "\n",
       "                                 Health (Life Expectancy)  Standard Error  \\\n",
       "Region                                                                      \n",
       "Australia and New Zealand                         1.83993         0.07454   \n",
       "Central and Eastern Europe                       20.84444         1.31102   \n",
       "Eastern Asia                                      5.26433         0.22335   \n",
       "Latin America and Caribbean                      15.48515         1.34479   \n",
       "Middle East and Northern Africa                  14.11231         0.92674   \n",
       "North America                                     1.76742         0.07392   \n",
       "Southeastern Asia                                 6.09621         0.38422   \n",
       "Southern Asia                                     3.78581         0.22513   \n",
       "Sub-Saharan Africa                               11.29327         2.21195   \n",
       "Western Europe                                   19.09211         0.79013   \n",
       "\n",
       "                                 Trust (Government Corruption)  \n",
       "Region                                                          \n",
       "Australia and New Zealand                              0.78559  \n",
       "Central and Eastern Europe                             2.51354  \n",
       "Eastern Asia                                           0.76617  \n",
       "Latin America and Caribbean                            2.57778  \n",
       "Middle East and Northern Africa                        3.63404  \n",
       "North America                                          0.48847  \n",
       "Southeastern Asia                                      1.36148  \n",
       "Southern Asia                                          0.71775  \n",
       "Sub-Saharan Africa                                     4.95511  \n",
       "Western Europe                                         4.86072  "
      ]
     },
     "execution_count": 132,
     "metadata": {},
     "output_type": "execute_result"
    }
   ],
   "source": [
    "df.pivot_table(index=[\"Region\"], aggfunc=sum)"
   ]
  },
  {
   "cell_type": "markdown",
   "metadata": {
    "slideshow": {
     "slide_type": "subslide"
    }
   },
   "source": [
    "### Export the data"
   ]
  },
  {
   "cell_type": "code",
   "execution_count": 133,
   "metadata": {
    "slideshow": {
     "slide_type": "fragment"
    }
   },
   "outputs": [],
   "source": [
    "happiness_rank = df[['Country', 'Happiness Rank']]\n",
    "happiness_rank.to_html('./data/ranks.html')\n",
    "happiness_rank.to_json('./data/ranks.json', orient='records')\n",
    "happiness_rank.to_csv('./data/ranks.csv')"
   ]
  },
  {
   "cell_type": "markdown",
   "metadata": {
    "slideshow": {
     "slide_type": "slide"
    }
   },
   "source": [
    "# Seaborn\n",
    "Seaborn is a Visualization library that goes along with pandas"
   ]
  },
  {
   "cell_type": "code",
   "execution_count": null,
   "metadata": {
    "slideshow": {
     "slide_type": "subslide"
    }
   },
   "outputs": [],
   "source": [
    "import seaborn as sns\n",
    "from matplotlib import style\n",
    "import matplotlib.pyplot as plt\n",
    "%matplotlib inline"
   ]
  },
  {
   "cell_type": "code",
   "execution_count": 134,
   "metadata": {},
   "outputs": [
    {
     "data": {
      "text/html": [
       "<div>\n",
       "<style scoped>\n",
       "    .dataframe tbody tr th:only-of-type {\n",
       "        vertical-align: middle;\n",
       "    }\n",
       "\n",
       "    .dataframe tbody tr th {\n",
       "        vertical-align: top;\n",
       "    }\n",
       "\n",
       "    .dataframe thead th {\n",
       "        text-align: right;\n",
       "    }\n",
       "</style>\n",
       "<table border=\"1\" class=\"dataframe\">\n",
       "  <thead>\n",
       "    <tr style=\"text-align: right;\">\n",
       "      <th></th>\n",
       "      <th>Country</th>\n",
       "      <th>Region</th>\n",
       "      <th>Happiness Rank</th>\n",
       "      <th>Happiness Score</th>\n",
       "      <th>Standard Error</th>\n",
       "      <th>Economy (GDP per Capita)</th>\n",
       "      <th>Family</th>\n",
       "      <th>Health (Life Expectancy)</th>\n",
       "      <th>Freedom</th>\n",
       "      <th>Trust (Government Corruption)</th>\n",
       "      <th>Generosity</th>\n",
       "      <th>Dystopia Residual</th>\n",
       "    </tr>\n",
       "  </thead>\n",
       "  <tbody>\n",
       "    <tr>\n",
       "      <th>157</th>\n",
       "      <td>Togo</td>\n",
       "      <td>Sub-Saharan Africa</td>\n",
       "      <td>158</td>\n",
       "      <td>2.839</td>\n",
       "      <td>0.06727</td>\n",
       "      <td>0.20868</td>\n",
       "      <td>0.13995</td>\n",
       "      <td>0.28443</td>\n",
       "      <td>0.36453</td>\n",
       "      <td>0.10731</td>\n",
       "      <td>0.16681</td>\n",
       "      <td>1.56726</td>\n",
       "    </tr>\n",
       "    <tr>\n",
       "      <th>156</th>\n",
       "      <td>Burundi</td>\n",
       "      <td>Sub-Saharan Africa</td>\n",
       "      <td>157</td>\n",
       "      <td>2.905</td>\n",
       "      <td>0.08658</td>\n",
       "      <td>0.01530</td>\n",
       "      <td>0.41587</td>\n",
       "      <td>0.22396</td>\n",
       "      <td>0.11850</td>\n",
       "      <td>0.10062</td>\n",
       "      <td>0.19727</td>\n",
       "      <td>1.83302</td>\n",
       "    </tr>\n",
       "    <tr>\n",
       "      <th>155</th>\n",
       "      <td>Syria</td>\n",
       "      <td>Middle East and Northern Africa</td>\n",
       "      <td>156</td>\n",
       "      <td>3.006</td>\n",
       "      <td>0.05015</td>\n",
       "      <td>0.66320</td>\n",
       "      <td>0.47489</td>\n",
       "      <td>0.72193</td>\n",
       "      <td>0.15684</td>\n",
       "      <td>0.18906</td>\n",
       "      <td>0.47179</td>\n",
       "      <td>0.32858</td>\n",
       "    </tr>\n",
       "    <tr>\n",
       "      <th>154</th>\n",
       "      <td>Benin</td>\n",
       "      <td>Sub-Saharan Africa</td>\n",
       "      <td>155</td>\n",
       "      <td>3.340</td>\n",
       "      <td>0.03656</td>\n",
       "      <td>0.28665</td>\n",
       "      <td>0.35386</td>\n",
       "      <td>0.31910</td>\n",
       "      <td>0.48450</td>\n",
       "      <td>0.08010</td>\n",
       "      <td>0.18260</td>\n",
       "      <td>1.63328</td>\n",
       "    </tr>\n",
       "    <tr>\n",
       "      <th>153</th>\n",
       "      <td>Rwanda</td>\n",
       "      <td>Sub-Saharan Africa</td>\n",
       "      <td>154</td>\n",
       "      <td>3.465</td>\n",
       "      <td>0.03464</td>\n",
       "      <td>0.22208</td>\n",
       "      <td>0.77370</td>\n",
       "      <td>0.42864</td>\n",
       "      <td>0.59201</td>\n",
       "      <td>0.55191</td>\n",
       "      <td>0.22628</td>\n",
       "      <td>0.67042</td>\n",
       "    </tr>\n",
       "  </tbody>\n",
       "</table>\n",
       "</div>"
      ],
      "text/plain": [
       "     Country                           Region  Happiness Rank  \\\n",
       "157     Togo               Sub-Saharan Africa             158   \n",
       "156  Burundi               Sub-Saharan Africa             157   \n",
       "155    Syria  Middle East and Northern Africa             156   \n",
       "154    Benin               Sub-Saharan Africa             155   \n",
       "153   Rwanda               Sub-Saharan Africa             154   \n",
       "\n",
       "     Happiness Score  Standard Error  Economy (GDP per Capita)   Family  \\\n",
       "157            2.839         0.06727                   0.20868  0.13995   \n",
       "156            2.905         0.08658                   0.01530  0.41587   \n",
       "155            3.006         0.05015                   0.66320  0.47489   \n",
       "154            3.340         0.03656                   0.28665  0.35386   \n",
       "153            3.465         0.03464                   0.22208  0.77370   \n",
       "\n",
       "     Health (Life Expectancy)  Freedom  Trust (Government Corruption)  \\\n",
       "157                   0.28443  0.36453                        0.10731   \n",
       "156                   0.22396  0.11850                        0.10062   \n",
       "155                   0.72193  0.15684                        0.18906   \n",
       "154                   0.31910  0.48450                        0.08010   \n",
       "153                   0.42864  0.59201                        0.55191   \n",
       "\n",
       "     Generosity  Dystopia Residual  \n",
       "157     0.16681            1.56726  \n",
       "156     0.19727            1.83302  \n",
       "155     0.47179            0.32858  \n",
       "154     0.18260            1.63328  \n",
       "153     0.22628            0.67042  "
      ]
     },
     "execution_count": 134,
     "metadata": {},
     "output_type": "execute_result"
    }
   ],
   "source": [
    "df.head()"
   ]
  },
  {
   "cell_type": "code",
   "execution_count": 135,
   "metadata": {},
   "outputs": [
    {
     "data": {
      "text/plain": [
       "array([0.13995, 0.41587, 0.47489, 0.35386, 0.7737 , 0.30285, 0.85188,\n",
       "       0.77115, 0.46475, 0.76062, 0.     , 0.66801, 1.00268, 0.62736,\n",
       "       0.77265, 0.90528, 0.97619, 1.13299, 0.79273, 0.6629 , 1.03526,\n",
       "       0.8604 , 0.68093, 0.747  , 1.10614, 0.88767, 1.01905, 0.41134,\n",
       "       0.38562, 0.70905, 1.10464, 0.77711, 0.59207, 0.99876, 0.86908,\n",
       "       0.95571, 0.60406, 0.86449, 1.0012 , 0.74302, 1.01404, 0.38174,\n",
       "       0.78968, 1.03276, 0.67954, 1.18468, 0.81889, 1.20278, 0.54447,\n",
       "       0.43106, 0.92558, 0.60429, 0.85563, 0.95348, 1.20215, 0.80001,\n",
       "       0.92933, 1.07284, 1.3006 , 0.73803, 1.17202, 1.04103, 0.91916,\n",
       "       0.80434, 1.02626, 1.00232, 0.64095, 0.95152, 1.03516, 1.09562,\n",
       "       1.13935, 1.00964, 0.88588, 0.91612, 0.94675, 1.05392, 0.90557,\n",
       "       0.41411, 0.93793, 1.10395, 0.90432, 1.15115, 0.94632, 0.91226,\n",
       "       1.08708, 1.22791, 1.05818, 0.98521, 1.22668, 0.81198, 1.07772,\n",
       "       0.89318, 1.07008, 1.15102, 1.23617, 1.11862, 0.79624, 1.07023,\n",
       "       1.27948, 1.23289, 0.97459, 1.14184, 1.25745, 1.27385, 1.12241,\n",
       "       1.30477, 1.01528, 0.97841, 1.19777, 1.21624, 0.99903, 0.95774,\n",
       "       1.25712, 1.26999, 1.34043, 1.04356, 1.02507, 1.18354, 0.972  ,\n",
       "       1.16594, 1.07617, 1.30203, 1.31379, 1.08393, 1.26504, 1.24018,\n",
       "       1.2089 , 1.20643, 1.24823, 1.26038, 1.0786 , 1.12447, 1.29937,\n",
       "       1.1985 , 1.02   , 1.25596, 1.08182, 1.28548, 1.12575, 1.28566,\n",
       "       1.36948, 1.21963, 1.23287, 1.24711, 0.91451, 1.29704, 1.23788,\n",
       "       1.22393, 1.30923, 1.31967, 1.28907, 1.28017, 1.31826, 1.32261,\n",
       "       1.33095, 1.36058, 1.40223, 1.34951])"
      ]
     },
     "execution_count": 135,
     "metadata": {},
     "output_type": "execute_result"
    }
   ],
   "source": [
    "df['Family'].values"
   ]
  },
  {
   "cell_type": "code",
   "execution_count": 136,
   "metadata": {
    "slideshow": {
     "slide_type": "subslide"
    }
   },
   "outputs": [
    {
     "data": {
      "text/plain": [
       "<matplotlib.axes._subplots.AxesSubplot at 0x12234a6d8>"
      ]
     },
     "execution_count": 136,
     "metadata": {},
     "output_type": "execute_result"
    },
    {
     "data": {
      "image/png": "[encoded data removed]",
      "text/plain": [
       "<Figure size 1152x720 with 1 Axes>"
      ]
     },
     "metadata": {
      "needs_background": "light"
     },
     "output_type": "display_data"
    }
   ],
   "source": [
    "plt.figure(figsize = (16,10))\n",
    "sns.distplot(df['Family'], color='red')"
   ]
  },
  {
   "cell_type": "code",
   "execution_count": 137,
   "metadata": {
    "slideshow": {
     "slide_type": "subslide"
    }
   },
   "outputs": [
    {
     "data": {
      "text/plain": [
       "<seaborn.axisgrid.JointGrid at 0x1223cbb00>"
      ]
     },
     "execution_count": 137,
     "metadata": {},
     "output_type": "execute_result"
    },
    {
     "data": {
      "text/plain": [
       "<Figure size 1152x720 with 0 Axes>"
      ]
     },
     "metadata": {},
     "output_type": "display_data"
    },
    {
     "data": {
      "image/png": "[encoded data removed]",
      "text/plain": [
       "<Figure size 432x432 with 3 Axes>"
      ]
     },
     "metadata": {
      "needs_background": "light"
     },
     "output_type": "display_data"
    }
   ],
   "source": [
    "plt.figure(figsize = (16,10))\n",
    "sns.jointplot(x='Happiness Score',y='Generosity',data=df)"
   ]
  },
  {
   "cell_type": "code",
   "execution_count": 138,
   "metadata": {
    "slideshow": {
     "slide_type": "subslide"
    }
   },
   "outputs": [
    {
     "data": {
      "text/plain": [
       "<matplotlib.axes._subplots.AxesSubplot at 0x1223cb588>"
      ]
     },
     "execution_count": 138,
     "metadata": {},
     "output_type": "execute_result"
    },
    {
     "data": {
      "image/png": "[encoded data removed]",
      "text/plain": [
       "<Figure size 2160x1440 with 1 Axes>"
      ]
     },
     "metadata": {
      "needs_background": "light"
     },
     "output_type": "display_data"
    }
   ],
   "source": [
    "plt.figure(figsize = (30,20))\n",
    "sns.boxplot(x=\"Region\", y='Happiness Score',data=df,palette='rainbow')"
   ]
  },
  {
   "cell_type": "code",
   "execution_count": 139,
   "metadata": {
    "slideshow": {
     "slide_type": "subslide"
    }
   },
   "outputs": [
    {
     "data": {
      "text/plain": [
       "<matplotlib.axes._subplots.AxesSubplot at 0x122a252e8>"
      ]
     },
     "execution_count": 139,
     "metadata": {},
     "output_type": "execute_result"
    },
    {
     "data": {
      "image/png": "[encoded data removed]",
      "text/plain": [
       "<Figure size 2160x1152 with 1 Axes>"
      ]
     },
     "metadata": {
      "needs_background": "light"
     },
     "output_type": "display_data"
    }
   ],
   "source": [
    "plt.figure(figsize = (30,16))\n",
    "sns.swarmplot(x='Region',y='Freedom',data=df,palette='Set2')"
   ]
  },
  {
   "cell_type": "code",
   "execution_count": 140,
   "metadata": {
    "slideshow": {
     "slide_type": "subslide"
    }
   },
   "outputs": [
    {
     "data": {
      "text/plain": [
       "<matplotlib.axes._subplots.AxesSubplot at 0x122a257f0>"
      ]
     },
     "execution_count": 140,
     "metadata": {},
     "output_type": "execute_result"
    },
    {
     "data": {
      "image/png": "[encoded data removed]",
      "text/plain": [
       "<Figure size 2160x1152 with 1 Axes>"
      ]
     },
     "metadata": {
      "needs_background": "light"
     },
     "output_type": "display_data"
    }
   ],
   "source": [
    "plt.figure(figsize = (30,16))\n",
    "sns.countplot(x='Region',data=df)"
   ]
  },
  {
   "cell_type": "code",
   "execution_count": 141,
   "metadata": {},
   "outputs": [
    {
     "data": {
      "text/plain": [
       "<matplotlib.axes._subplots.AxesSubplot at 0x1223bde10>"
      ]
     },
     "execution_count": 141,
     "metadata": {},
     "output_type": "execute_result"
    },
    {
     "data": {
      "image/png": "[encoded data removed]",
      "text/plain": [
       "<Figure size 2160x1152 with 2 Axes>"
      ]
     },
     "metadata": {
      "needs_background": "light"
     },
     "output_type": "display_data"
    }
   ],
   "source": [
    "plt.figure(figsize = (30,16))\n",
    "sns.heatmap(df.corr(), cmap=\"coolwarm\", annot=True)"
   ]
  },
  {
   "cell_type": "code",
   "execution_count": 45,
   "metadata": {},
   "outputs": [],
   "source": [
    "import warnings\n",
    "warnings.filterwarnings('ignore')"
   ]
  },
  {
   "cell_type": "code",
   "execution_count": null,
   "metadata": {},
   "outputs": [],
   "source": [
    "import matplotlib.pyplot as plt\n",
    "plt.matshow(df.corr())\n"
   ]
  }
 ],
 "metadata": {
  "celltoolbar": "Slideshow",
  "kernelspec": {
   "display_name": "Python 3",
   "language": "python",
   "name": "python3"
  },
  "language_info": {
   "codemirror_mode": {
    "name": "ipython",
    "version": 3
   },
   "file_extension": ".py",
   "mimetype": "text/x-python",
   "name": "python",
   "nbconvert_exporter": "python",
   "pygments_lexer": "ipython3",
   "version": "3.7.0"
  }
 },
 "nbformat": 4,
 "nbformat_minor": 2
}
