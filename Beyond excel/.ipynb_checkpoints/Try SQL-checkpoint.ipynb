{
 "cells": [
  {
   "cell_type": "markdown",
   "metadata": {},
   "source": [
    "# Get data\n",
    "\n",
    "```SQL\n",
    "\n",
    "SELECT title FROM movies;\n",
    "\n",
    "SELECT title,genre FROM movies;\n",
    "\n",
    "SELECT * FROM movies;\n",
    "\n",
    "SELECT title FROM movies WHERE  id = 2;\n",
    "\n",
    "SELECT * FROM movies WHERE title = 'Kill Bill';\n",
    "\n",
    "SELECT title FROM movies ORDER BY duration DESC;\n",
    "\n",
    "SELECT * FROM movies WHERE duration > 100;\n",
    "\n",
    "SELECT title FROM movies WHERE id = 1 AND genre = 'Comedy';\n",
    "\n",
    "SELECT title FROM movies WHERE id = 1 OR genre = 'Comedy';\n",
    "\n",
    "```\n",
    "\n"
   ]
  },
  {
   "cell_type": "markdown",
   "metadata": {},
   "source": [
    "# Add data\n",
    "\n",
    "```SQL\n",
    "INSERT INTO movies (id, title, genre, duration) VALUES (5,'The Circus', 'Comedy', 71);\n",
    "\n",
    "INSERT INTO movies VALUES (5,'The Circus', 'Comedy', 71);\n",
    "\n",
    "INSERT INTO movies (title, duration) VALUES ('The Fly', 80);\n",
    "```\n"
   ]
  },
  {
   "cell_type": "markdown",
   "metadata": {},
   "source": [
    "# Update data\n",
    "\n",
    "```SQL\n",
    "UPDATE movies SET genre = 'Romance' WHERE id = 2;\n",
    "\n",
    "UPDATE movies SET genre = 'Romance', duration = 70 WHERE id = 2;\n",
    "\n",
    "UPDATE movies SET genre = 'Romance', duration = 70 WHERE id = 2 OR id = 4;\n",
    "```\n"
   ]
  },
  {
   "cell_type": "markdown",
   "metadata": {},
   "source": [
    "# Remove data\n",
    "\n",
    "```SQL\n",
    "DELETE FROM movies WHERE id = 2;\n",
    "\n",
    "DELETE FROM movies WHERE duration > 200;\n",
    "\n",
    "```\n",
    "\n",
    "\n",
    "# Drop a database\n",
    "\n",
    "```SQL\n",
    "DROP DATABASE movies;\n",
    "DROP TABLE movies;\n",
    "```\n"
   ]
  },
  {
   "cell_type": "markdown",
   "metadata": {},
   "source": [
    "# Create a database\n",
    "\n",
    "```SQL\n",
    "CREATE DATABASE lucas_movies;\n",
    "\n",
    "CREATE TABLE movies\n",
    "(id int,\n",
    " title varchar(50),\n",
    " genre varchar(15),\n",
    " duration int\n",
    " )\n",
    "```\n"
   ]
  },
  {
   "cell_type": "markdown",
   "metadata": {},
   "source": [
    "# Add/remove a column\n",
    "\n",
    "```SQL\n",
    "ALTER TABLE movies\n",
    "ADD COLUMN ratings int;\n",
    "\n",
    "\n",
    "\n",
    "ALTER TABLE movies\n",
    "DROP COLUMN ratings;\n",
    "```\n"
   ]
  },
  {
   "cell_type": "code",
   "execution_count": null,
   "metadata": {},
   "outputs": [],
   "source": []
  }
 ],
 "metadata": {
  "kernelspec": {
   "display_name": "Python 3",
   "language": "python",
   "name": "python3"
  },
  "language_info": {
   "codemirror_mode": {
    "name": "ipython",
    "version": 3
   },
   "file_extension": ".py",
   "mimetype": "text/x-python",
   "name": "python",
   "nbconvert_exporter": "python",
   "pygments_lexer": "ipython3",
   "version": "3.5.1"
  }
 },
 "nbformat": 4,
 "nbformat_minor": 2
}
