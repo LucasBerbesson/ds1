{
 "cells": [
  {
   "cell_type": "markdown",
   "metadata": {
    "slideshow": {
     "slide_type": "slide"
    }
   },
   "source": [
    "# Beyond Excel"
   ]
  },
  {
   "cell_type": "markdown",
   "metadata": {
    "slideshow": {
     "slide_type": "slide"
    }
   },
   "source": [
    "### Mathieu Soul\n",
    "\n",
    "### Fabdev\n",
    "We make algorithms, APIs, platforms, data analyses, automatisation tools.  \n",
    "Specialized in Python and open-source technologies. "
   ]
  },
  {
   "cell_type": "markdown",
   "metadata": {
    "slideshow": {
     "slide_type": "slide"
    }
   },
   "source": [
    "# Excel is good for :\n",
    "- Non programmers\n",
    "- Ready-to-use data\n",
    "- Quick and visual analysis\n",
    "- 1 user applications"
   ]
  },
  {
   "cell_type": "markdown",
   "metadata": {
    "slideshow": {
     "slide_type": "slide"
    }
   },
   "source": [
    "# Python is good for :\n",
    "EVERYTHING ELSE.  \n",
    "ex : easily expose what you want (simpler interfaces), easier to maintain, multiple simultaneous users\n"
   ]
  },
  {
   "cell_type": "markdown",
   "metadata": {
    "slideshow": {
     "slide_type": "slide"
    }
   },
   "source": [
    "# But, what is Python ?"
   ]
  },
  {
   "cell_type": "markdown",
   "metadata": {
    "slideshow": {
     "slide_type": "subslide"
    }
   },
   "source": [
    "### Python is a programming language :\n",
    "\n",
    "   - One of the most popular programming languages: https://www.tiobe.com/tiobe-index/\n",
    "   - Has a large support community: https://insights.stackoverflow.com/trends?tags=java%2Cc%2Cc%2B%2B%2Cpython%2Cc%23%2Cvb.net%2Cjavascript%2Cassembly%2Cphp%2Cperl%2Cruby%2Cswift%2Cr%2Cobjective-c\n",
    "   - Is the most used language for Data Science : https://www.kaggle.com/surveys/2017?utm_content=buffer345c0&utm_medium=social&utm_source=linkedin.com&utm_campaign=buffer\n",
    "   - Is free and opensource!\n",
    "   \n",
    "   \n",
    "   \n"
   ]
  },
  {
   "cell_type": "markdown",
   "metadata": {
    "slideshow": {
     "slide_type": "skip"
    }
   },
   "source": [
    "# About this notebook\n",
    "This notebook is a useful way to run code during a presentation but there are multiple other ways to write and run some Python code.   \n",
    "For example you can open up a shell command and type \"python\".  \n",
    "Or write your code inside a ``.py`` file with a text editor and launch the script from the same shell.  \n"
   ]
  },
  {
   "cell_type": "code",
   "execution_count": 131,
   "metadata": {},
   "outputs": [
    {
     "name": "stdout",
     "output_type": "stream",
     "text": [
      "Hello\n"
     ]
    }
   ],
   "source": [
    "print('Hello')"
   ]
  },
  {
   "cell_type": "markdown",
   "metadata": {
    "slideshow": {
     "slide_type": "slide"
    }
   },
   "source": [
    "# A taste of Python data structures\n",
    "Python uses many different objects to store data.   \n",
    "They all have their specifications and their custom methods.  \n",
    "We are going to focus on the two main ones (lists and dicts) which are representative of the \"Python spirit\". "
   ]
  },
  {
   "cell_type": "markdown",
   "metadata": {
    "slideshow": {
     "slide_type": "slide"
    }
   },
   "source": [
    "## Lists\n",
    "Lists are ordered sequence of values.   \n",
    "You can create, update, concatenate, loop, search, index, add, slice, delete, analyse ..."
   ]
  },
  {
   "cell_type": "code",
   "execution_count": 132,
   "metadata": {
    "slideshow": {
     "slide_type": "subslide"
    }
   },
   "outputs": [
    {
     "name": "stdout",
     "output_type": "stream",
     "text": [
      "['cat', 'dog', 'rat', 'bat', 'snake', 'bird', 'spider', 'lion']\n"
     ]
    }
   ],
   "source": [
    "zoo = ['cat','dog', 'rat', 'bat','snake','bird','spider','lion']\n",
    "print(zoo)"
   ]
  },
  {
   "cell_type": "code",
   "execution_count": 133,
   "metadata": {
    "slideshow": {
     "slide_type": "fragment"
    }
   },
   "outputs": [
    {
     "data": {
      "text/plain": [
       "'cat'"
      ]
     },
     "execution_count": 133,
     "metadata": {},
     "output_type": "execute_result"
    }
   ],
   "source": [
    "# Access any element of the list by calling its index\n",
    "zoo[0]"
   ]
  },
  {
   "cell_type": "code",
   "execution_count": 9,
   "metadata": {
    "slideshow": {
     "slide_type": "slide"
    }
   },
   "outputs": [
    {
     "data": {
      "text/plain": [
       "3"
      ]
     },
     "execution_count": 9,
     "metadata": {},
     "output_type": "execute_result"
    }
   ],
   "source": [
    "# We can put all sorts of objects inside a list\n",
    "mylist = [\"b\", \"a\", 3, 3.14, 4]\n",
    "mylist[2]"
   ]
  },
  {
   "cell_type": "code",
   "execution_count": 136,
   "metadata": {
    "slideshow": {
     "slide_type": "slide"
    }
   },
   "outputs": [
    {
     "data": {
      "text/plain": [
       "'target'"
      ]
     },
     "execution_count": 136,
     "metadata": {},
     "output_type": "execute_result"
    }
   ],
   "source": [
    "# Even other lists (these are called nested lists)\n",
    "nest = [1, 2, 3, [4, 5, ['fake target', 'target']]]\n",
    "\n",
    "# Quizz : how do I get the 'target' element ?\n",
    "nest[3][2][1]"
   ]
  },
  {
   "cell_type": "code",
   "execution_count": 139,
   "metadata": {
    "slideshow": {
     "slide_type": "skip"
    }
   },
   "outputs": [
    {
     "data": {
      "text/plain": [
       "True"
      ]
     },
     "execution_count": 139,
     "metadata": {},
     "output_type": "execute_result"
    }
   ],
   "source": [
    "# We can check if an element is in a list with the keyword \"in\"\n",
    "'fish' not in zoo"
   ]
  },
  {
   "cell_type": "code",
   "execution_count": 147,
   "metadata": {
    "slideshow": {
     "slide_type": "subslide"
    }
   },
   "outputs": [
    {
     "name": "stdout",
     "output_type": "stream",
     "text": [
      "cat\n",
      "snake\n"
     ]
    }
   ],
   "source": [
    "# The power of the \"for\" loop\n",
    "\n",
    "zoo = [\"cat\", \"bird\", \"dog\", \"snake\", \"fish\"]\n",
    "\n",
    "for element in zoo:\n",
    "    if 'a' in element:\n",
    "        print(element)\n"
   ]
  },
  {
   "cell_type": "code",
   "execution_count": 150,
   "metadata": {
    "scrolled": true,
    "slideshow": {
     "slide_type": "subslide"
    }
   },
   "outputs": [
    {
     "name": "stdout",
     "output_type": "stream",
     "text": [
      "['cat', 'bird', 'dog', 'snake', 'fish', 'fish', 'fish', 'lion', 'fish', 'lion']\n",
      "['cat', 'bird', 'lion', 'dog', 'snake', 'fish']\n"
     ]
    }
   ],
   "source": [
    "# \"append\" is one of the many methods we can use on our list. It adds an element at the end of the list.\n",
    "zoo.append('fish')\n",
    "zoo.append('lion')\n",
    "\n",
    "# Try to search on google \"remove an element from a python list\".\n",
    "print(zoo)\n"
   ]
  },
  {
   "cell_type": "code",
   "execution_count": null,
   "metadata": {
    "slideshow": {
     "slide_type": "fragment"
    }
   },
   "outputs": [],
   "source": [
    "# Another method example is \"reverse\"\n",
    "for animal in reversed(zoo):\n",
    "    print(animal)\n"
   ]
  },
  {
   "cell_type": "code",
   "execution_count": 152,
   "metadata": {
    "slideshow": {
     "slide_type": "fragment"
    }
   },
   "outputs": [
    {
     "data": {
      "text/plain": [
       "2"
      ]
     },
     "execution_count": 152,
     "metadata": {},
     "output_type": "execute_result"
    }
   ],
   "source": [
    "# Find the position of a specific element\n",
    "zoo.index('lion')"
   ]
  },
  {
   "cell_type": "code",
   "execution_count": 153,
   "metadata": {
    "slideshow": {
     "slide_type": "skip"
    }
   },
   "outputs": [
    {
     "name": "stdout",
     "output_type": "stream",
     "text": [
      "[1, 2, 3, 4, 5, 6]\n"
     ]
    }
   ],
   "source": [
    "# Merge 2 lists\n",
    "a = [1, 2, 3]\n",
    "b = [4, 5, 6]\n",
    "c = a + b\n",
    "print(c)"
   ]
  },
  {
   "cell_type": "code",
   "execution_count": 15,
   "metadata": {
    "slideshow": {
     "slide_type": "skip"
    }
   },
   "outputs": [
    {
     "data": {
      "text/plain": [
       "[1, 2, 3, 4, 5, 6]"
      ]
     },
     "execution_count": 15,
     "metadata": {},
     "output_type": "execute_result"
    }
   ],
   "source": [
    "# Remove duplicates\n",
    "a = [1, 2, 3, 4, 3, 5, 1, 6]\n",
    "list(set(a))"
   ]
  },
  {
   "cell_type": "code",
   "execution_count": 16,
   "metadata": {
    "slideshow": {
     "slide_type": "skip"
    }
   },
   "outputs": [
    {
     "name": "stdout",
     "output_type": "stream",
     "text": [
      "[2, 3]\n",
      "[1, 2, 3, 4, 5, 6, 7, 8, 9, 10]\n",
      "[0, 1, 2, 3, 4, 5, 6, 7, 8, 9]\n",
      "[0, 2, 4, 6, 8, 10]\n"
     ]
    }
   ],
   "source": [
    "# Slice lists\n",
    "a = [0,1, 2, 3, 4, 5, 6,7,8,9,10]\n",
    "print(a[2:4])\n",
    "print(a[1:])\n",
    "print(a[:-1])\n",
    "print(a[::2])"
   ]
  },
  {
   "cell_type": "code",
   "execution_count": 18,
   "metadata": {
    "slideshow": {
     "slide_type": "skip"
    }
   },
   "outputs": [
    {
     "name": "stdout",
     "output_type": "stream",
     "text": [
      "[0, 1, 2, 3, 4, 5, 6, 7, 8, 9, 10, 11, 12, 13, 14, 15, 16, 17, 18, 19, 20, 21, 22, 23, 24, 25, 26, 27, 28, 29, 30, 31, 32, 33, 34, 35, 36, 37, 38, 39, 40, 41, 42, 43, 44, 45, 46, 47, 48, 49, 50, 51, 52, 53, 54, 55, 56, 57, 58, 59, 60, 61, 62, 63, 64, 65, 66, 67, 68, 69, 70, 71, 72, 73, 74, 75, 76, 77, 78, 79, 80, 81, 82, 83, 84, 85, 86, 87, 88, 89, 90, 91, 92, 93, 94, 95, 96, 97, 98, 99]\n"
     ]
    }
   ],
   "source": [
    "# List comprehensions\n",
    "a = [i for i in range(100)] \n",
    "print(a)"
   ]
  },
  {
   "cell_type": "code",
   "execution_count": 19,
   "metadata": {
    "slideshow": {
     "slide_type": "skip"
    }
   },
   "outputs": [
    {
     "name": "stdout",
     "output_type": "stream",
     "text": [
      "[0, 2, 4, 6, 8, 10, 12, 14, 16, 18, 20, 22, 24, 26, 28, 30, 32, 34, 36, 38, 40, 42, 44, 46, 48, 50, 52, 54, 56, 58, 60, 62, 64, 66, 68, 70, 72, 74, 76, 78, 80, 82, 84, 86, 88, 90, 92, 94, 96, 98]\n"
     ]
    }
   ],
   "source": [
    "a = [i for i in range(100) if i%2==0]\n",
    "print(a)"
   ]
  },
  {
   "cell_type": "code",
   "execution_count": null,
   "metadata": {
    "slideshow": {
     "slide_type": "skip"
    }
   },
   "outputs": [],
   "source": [
    "def square(x):\n",
    "    return x**2\n",
    "b = [square(x) for x in a]\n",
    "print(b)"
   ]
  },
  {
   "cell_type": "code",
   "execution_count": null,
   "metadata": {
    "slideshow": {
     "slide_type": "skip"
    }
   },
   "outputs": [],
   "source": [
    "a = [1, 2, 3, 4]\n",
    "b = [3, 4, 5, 6]\n",
    "\n",
    "c = [x for x in a if x not in b]\n",
    "c"
   ]
  },
  {
   "cell_type": "markdown",
   "metadata": {
    "slideshow": {
     "slide_type": "slide"
    }
   },
   "source": [
    "## Dicts\n",
    "Like a list, a dictionary is a collection of many values.  \n",
    "But unlike indexes for lists which are integers (zoo[4]), indexes for dicts can be strings or any other type. \n",
    "Indexes for dictionaries are called keys.  \n",
    "Also dicts are unordered. "
   ]
  },
  {
   "cell_type": "code",
   "execution_count": 162,
   "metadata": {
    "slideshow": {
     "slide_type": "subslide"
    }
   },
   "outputs": [
    {
     "name": "stdout",
     "output_type": "stream",
     "text": [
      "{'italy': 9874, 'france': 68000000, 'germany': 82000000}\n"
     ]
    }
   ],
   "source": [
    "# Creation of a dictionnary called \"populations\"\n",
    "populations = {\"italy\": 60000000, \"france\": 68000000, \"germany\": 82000000}"
   ]
  },
  {
   "cell_type": "code",
   "execution_count": 155,
   "metadata": {},
   "outputs": [
    {
     "data": {
      "text/plain": [
       "68000000"
      ]
     },
     "execution_count": 155,
     "metadata": {},
     "output_type": "execute_result"
    }
   ],
   "source": [
    "# Access any value by searching for the corresponding key\n",
    "populations[\"france\"]"
   ]
  },
  {
   "cell_type": "code",
   "execution_count": 22,
   "metadata": {},
   "outputs": [
    {
     "data": {
      "text/plain": [
       "True"
      ]
     },
     "execution_count": 22,
     "metadata": {},
     "output_type": "execute_result"
    }
   ],
   "source": [
    "# Check if a key is in the dictionnary.\n",
    "'germany' in populations"
   ]
  },
  {
   "cell_type": "code",
   "execution_count": 156,
   "metadata": {
    "slideshow": {
     "slide_type": "skip"
    }
   },
   "outputs": [
    {
     "data": {
      "text/plain": [
       "False"
      ]
     },
     "execution_count": 156,
     "metadata": {},
     "output_type": "execute_result"
    }
   ],
   "source": [
    "# Check if a value is in the dictionnary. \n",
    "63000000 in populations.values()"
   ]
  },
  {
   "cell_type": "code",
   "execution_count": 157,
   "metadata": {
    "slideshow": {
     "slide_type": "subslide"
    }
   },
   "outputs": [
    {
     "name": "stdout",
     "output_type": "stream",
     "text": [
      "italy : 60000000 inhabitants\n",
      "france : 68000000 inhabitants\n",
      "germany : 82000000 inhabitants\n",
      "0 : lion inhabitants\n"
     ]
    }
   ],
   "source": [
    "# Loop on a dictionnary and print values.\n",
    "for key,value in populations.items():\n",
    "    print(key,\":\",value, \"inhabitants\")"
   ]
  },
  {
   "cell_type": "code",
   "execution_count": 63,
   "metadata": {
    "slideshow": {
     "slide_type": "skip"
    }
   },
   "outputs": [
    {
     "data": {
      "text/plain": [
       "5"
      ]
     },
     "execution_count": 63,
     "metadata": {},
     "output_type": "execute_result"
    }
   ],
   "source": [
    "# Check the length of a dictionnary. \n",
    "len(populations) "
   ]
  },
  {
   "cell_type": "code",
   "execution_count": 165,
   "metadata": {
    "slideshow": {
     "slide_type": "subslide"
    }
   },
   "outputs": [
    {
     "name": "stdout",
     "output_type": "stream",
     "text": [
      "{'italy': 9874, 'france': 68000001, 'germany': 82000000, 'irlande': 4000000}\n"
     ]
    }
   ],
   "source": [
    "# Create a new element\n",
    "populations['irlande'] = 4000000\n",
    "populations['france'] = 68000001\n",
    "print(populations)"
   ]
  },
  {
   "cell_type": "markdown",
   "metadata": {
    "slideshow": {
     "slide_type": "slide"
    }
   },
   "source": [
    "# JSON\n",
    "When exchanging data between a browser and a server, the data can only be text.  \n",
    "JSON (JavaScript Object Notation) is a lightweight text format that is used for data interchanging.  \n",
    "JSON is useful to know, because many websites offer JSON content as a way for programs to interact with the website. This is known as providing an application programming interface (API)."
   ]
  },
  {
   "cell_type": "code",
   "execution_count": 25,
   "metadata": {},
   "outputs": [],
   "source": [
    "# The \"requests\" library is a useful tool to get information from urls with Python.\n",
    "import requests"
   ]
  },
  {
   "cell_type": "code",
   "execution_count": null,
   "metadata": {},
   "outputs": [],
   "source": [
    "# The astronaut API documentation: http://open-notify.org/Open-Notify-API/People-In-Space/"
   ]
  },
  {
   "cell_type": "code",
   "execution_count": 170,
   "metadata": {},
   "outputs": [
    {
     "name": "stdout",
     "output_type": "stream",
     "text": [
      "Oleg Artemyev\n",
      "Andrew Feustel\n",
      "Richard Arnold\n",
      "Sergey Prokopyev\n",
      "Alexander Gerst\n",
      "Serena Aunon-Chancellor\n"
     ]
    }
   ],
   "source": [
    "# Let's make a list of the names of people who are in space\n",
    "result = requests.get('http://api.open-notify.org/astros.json').json()\n",
    "list_dict = result['people']\n",
    "for element in list_dict:\n",
    "    print(element['name'])\n",
    "\n"
   ]
  },
  {
   "cell_type": "code",
   "execution_count": 180,
   "metadata": {
    "slideshow": {
     "slide_type": "subslide"
    }
   },
   "outputs": [
    {
     "name": "stdout",
     "output_type": "stream",
     "text": [
      "{'bpi': {'EUR': {'code': 'EUR',\n",
      "                 'description': 'Euro',\n",
      "                 'rate': '5,448.1214',\n",
      "                 'rate_float': 5448.1214,\n",
      "                 'symbol': '&euro;'},\n",
      "         'GBP': {'code': 'GBP',\n",
      "                 'description': 'British Pound Sterling',\n",
      "                 'rate': '4,872.4085',\n",
      "                 'rate_float': 4872.4085,\n",
      "                 'symbol': '&pound;'},\n",
      "         'USD': {'code': 'USD',\n",
      "                 'description': 'United States Dollar',\n",
      "                 'rate': '6,412.4138',\n",
      "                 'rate_float': 6412.4138,\n",
      "                 'symbol': '&#36;'}},\n",
      " 'chartName': 'Bitcoin',\n",
      " 'disclaimer': 'This data was produced from the CoinDesk Bitcoin Price Index '\n",
      "               '(USD). Non-USD currency data converted using hourly conversion '\n",
      "               'rate from openexchangerates.org',\n",
      " 'time': {'updated': 'Sep 25, 2018 16:18:00 UTC',\n",
      "          'updatedISO': '2018-09-25T16:18:00+00:00',\n",
      "          'updateduk': 'Sep 25, 2018 at 17:18 BST'}}\n"
     ]
    }
   ],
   "source": [
    "# Here's a second example: https://www.coindesk.com/api/\n",
    "from pprint import pprint\n",
    "\n",
    "price = requests.get(\"https://api.coindesk.com/v1/bpi/currentprice.json\").json()\n",
    "pprint(price)\n",
    "\n",
    "\n"
   ]
  },
  {
   "cell_type": "code",
   "execution_count": 182,
   "metadata": {},
   "outputs": [
    {
     "name": "stdout",
     "output_type": "stream",
     "text": [
      "New position saved\n",
      "New position saved\n",
      "New position saved\n",
      "New position saved\n",
      "New position saved\n",
      "Done !\n"
     ]
    }
   ],
   "source": [
    "# This script asks some information to an API every 2 seconds and saves it in a csv (link: http://api.open-notify.org/iss-now.json)\n",
    "import time\n",
    "import requests\n",
    "\n",
    "with open('./data/iss-flight.txt', 'w') as f:\n",
    "    for i in range(5):\n",
    "        position = requests.get('http://api.open-notify.org/iss-now.json').json()\n",
    "        f.write(position['iss_position']['latitude'])\n",
    "        print(\"New position saved\")\n",
    "        time.sleep(2)\n",
    "print('Done !')"
   ]
  },
  {
   "cell_type": "code",
   "execution_count": 50,
   "metadata": {
    "slideshow": {
     "slide_type": "subslide"
    }
   },
   "outputs": [
    {
     "name": "stdout",
     "output_type": "stream",
     "text": [
      "0\n",
      "1\n",
      "2\n",
      "3\n",
      "4\n",
      "5\n",
      "6\n",
      "7\n",
      "8\n",
      "9\n"
     ]
    }
   ],
   "source": [
    "# This script asks some information to an API every 2 seconds and saves it in a csv (link: http://api.open-notify.org/iss-now.json)\n",
    "import csv\n",
    "import time\n",
    "import requests\n",
    "\n",
    "with open('./data/iss-flight.csv', 'w') as csvfile:\n",
    "    filewriter = csv.writer(csvfile, delimiter=',')\n",
    "    for i in range(5):\n",
    "        position = requests.get('http://api.open-notify.org/iss-now.json').json()\n",
    "        filewriter.writerow([\n",
    "            position['timestamp'],\n",
    "            position['iss_position']['latitude'], \n",
    "            position['iss_position']['longitude']\n",
    "        ])\n",
    "        print(\"New position saved\")\n",
    "        time.sleep(2)\n",
    "print('Done !')"
   ]
  },
  {
   "cell_type": "markdown",
   "metadata": {
    "slideshow": {
     "slide_type": "slide"
    }
   },
   "source": [
    "# Pandas\n",
    "Pandas helps us manipulate all of this data structures efficiently.   \n",
    "You can think of pandas as an extremely powerful version of Excel, with a lot more features."
   ]
  },
  {
   "cell_type": "code",
   "execution_count": 102,
   "metadata": {
    "slideshow": {
     "slide_type": "subslide"
    }
   },
   "outputs": [],
   "source": [
    "import pandas"
   ]
  },
  {
   "cell_type": "markdown",
   "metadata": {
    "slideshow": {
     "slide_type": "subslide"
    }
   },
   "source": [
    "### Import data"
   ]
  },
  {
   "cell_type": "code",
   "execution_count": 184,
   "metadata": {
    "slideshow": {
     "slide_type": "fragment"
    }
   },
   "outputs": [],
   "source": [
    "import pandas \n",
    "# data link: https://www.kaggle.com/unsdsn/world-happiness\n",
    "\n",
    "df = pandas.read_csv('./data/2015.csv')"
   ]
  },
  {
   "cell_type": "markdown",
   "metadata": {
    "slideshow": {
     "slide_type": "subslide"
    }
   },
   "source": [
    "### Get information about the data"
   ]
  },
  {
   "cell_type": "code",
   "execution_count": 185,
   "metadata": {},
   "outputs": [
    {
     "data": {
      "text/html": [
       "<div>\n",
       "<style scoped>\n",
       "    .dataframe tbody tr th:only-of-type {\n",
       "        vertical-align: middle;\n",
       "    }\n",
       "\n",
       "    .dataframe tbody tr th {\n",
       "        vertical-align: top;\n",
       "    }\n",
       "\n",
       "    .dataframe thead th {\n",
       "        text-align: right;\n",
       "    }\n",
       "</style>\n",
       "<table border=\"1\" class=\"dataframe\">\n",
       "  <thead>\n",
       "    <tr style=\"text-align: right;\">\n",
       "      <th></th>\n",
       "      <th>Country</th>\n",
       "      <th>Region</th>\n",
       "      <th>Happiness Rank</th>\n",
       "      <th>Happiness Score</th>\n",
       "      <th>Standard Error</th>\n",
       "      <th>Economy (GDP per Capita)</th>\n",
       "      <th>Family</th>\n",
       "      <th>Health (Life Expectancy)</th>\n",
       "      <th>Freedom</th>\n",
       "      <th>Trust (Government Corruption)</th>\n",
       "      <th>Generosity</th>\n",
       "      <th>Dystopia Residual</th>\n",
       "    </tr>\n",
       "  </thead>\n",
       "  <tbody>\n",
       "    <tr>\n",
       "      <th>0</th>\n",
       "      <td>Switzerland</td>\n",
       "      <td>Western Europe</td>\n",
       "      <td>1</td>\n",
       "      <td>7.587</td>\n",
       "      <td>0.03411</td>\n",
       "      <td>1.39651</td>\n",
       "      <td>1.34951</td>\n",
       "      <td>0.94143</td>\n",
       "      <td>0.66557</td>\n",
       "      <td>0.41978</td>\n",
       "      <td>0.29678</td>\n",
       "      <td>2.51738</td>\n",
       "    </tr>\n",
       "    <tr>\n",
       "      <th>1</th>\n",
       "      <td>Iceland</td>\n",
       "      <td>Western Europe</td>\n",
       "      <td>2</td>\n",
       "      <td>7.561</td>\n",
       "      <td>0.04884</td>\n",
       "      <td>1.30232</td>\n",
       "      <td>1.40223</td>\n",
       "      <td>0.94784</td>\n",
       "      <td>0.62877</td>\n",
       "      <td>0.14145</td>\n",
       "      <td>0.43630</td>\n",
       "      <td>2.70201</td>\n",
       "    </tr>\n",
       "    <tr>\n",
       "      <th>2</th>\n",
       "      <td>Denmark</td>\n",
       "      <td>Western Europe</td>\n",
       "      <td>3</td>\n",
       "      <td>7.527</td>\n",
       "      <td>0.03328</td>\n",
       "      <td>1.32548</td>\n",
       "      <td>1.36058</td>\n",
       "      <td>0.87464</td>\n",
       "      <td>0.64938</td>\n",
       "      <td>0.48357</td>\n",
       "      <td>0.34139</td>\n",
       "      <td>2.49204</td>\n",
       "    </tr>\n",
       "    <tr>\n",
       "      <th>3</th>\n",
       "      <td>Norway</td>\n",
       "      <td>Western Europe</td>\n",
       "      <td>4</td>\n",
       "      <td>7.522</td>\n",
       "      <td>0.03880</td>\n",
       "      <td>1.45900</td>\n",
       "      <td>1.33095</td>\n",
       "      <td>0.88521</td>\n",
       "      <td>0.66973</td>\n",
       "      <td>0.36503</td>\n",
       "      <td>0.34699</td>\n",
       "      <td>2.46531</td>\n",
       "    </tr>\n",
       "    <tr>\n",
       "      <th>4</th>\n",
       "      <td>Canada</td>\n",
       "      <td>North America</td>\n",
       "      <td>5</td>\n",
       "      <td>7.427</td>\n",
       "      <td>0.03553</td>\n",
       "      <td>1.32629</td>\n",
       "      <td>1.32261</td>\n",
       "      <td>0.90563</td>\n",
       "      <td>0.63297</td>\n",
       "      <td>0.32957</td>\n",
       "      <td>0.45811</td>\n",
       "      <td>2.45176</td>\n",
       "    </tr>\n",
       "  </tbody>\n",
       "</table>\n",
       "</div>"
      ],
      "text/plain": [
       "       Country          Region  Happiness Rank  Happiness Score  \\\n",
       "0  Switzerland  Western Europe               1            7.587   \n",
       "1      Iceland  Western Europe               2            7.561   \n",
       "2      Denmark  Western Europe               3            7.527   \n",
       "3       Norway  Western Europe               4            7.522   \n",
       "4       Canada   North America               5            7.427   \n",
       "\n",
       "   Standard Error  Economy (GDP per Capita)   Family  \\\n",
       "0         0.03411                   1.39651  1.34951   \n",
       "1         0.04884                   1.30232  1.40223   \n",
       "2         0.03328                   1.32548  1.36058   \n",
       "3         0.03880                   1.45900  1.33095   \n",
       "4         0.03553                   1.32629  1.32261   \n",
       "\n",
       "   Health (Life Expectancy)  Freedom  Trust (Government Corruption)  \\\n",
       "0                   0.94143  0.66557                        0.41978   \n",
       "1                   0.94784  0.62877                        0.14145   \n",
       "2                   0.87464  0.64938                        0.48357   \n",
       "3                   0.88521  0.66973                        0.36503   \n",
       "4                   0.90563  0.63297                        0.32957   \n",
       "\n",
       "   Generosity  Dystopia Residual  \n",
       "0     0.29678            2.51738  \n",
       "1     0.43630            2.70201  \n",
       "2     0.34139            2.49204  \n",
       "3     0.34699            2.46531  \n",
       "4     0.45811            2.45176  "
      ]
     },
     "execution_count": 185,
     "metadata": {},
     "output_type": "execute_result"
    }
   ],
   "source": [
    "# Get the first five rows\n",
    "df.head()"
   ]
  },
  {
   "cell_type": "code",
   "execution_count": 186,
   "metadata": {
    "slideshow": {
     "slide_type": "fragment"
    }
   },
   "outputs": [
    {
     "data": {
      "text/html": [
       "<div>\n",
       "<style scoped>\n",
       "    .dataframe tbody tr th:only-of-type {\n",
       "        vertical-align: middle;\n",
       "    }\n",
       "\n",
       "    .dataframe tbody tr th {\n",
       "        vertical-align: top;\n",
       "    }\n",
       "\n",
       "    .dataframe thead th {\n",
       "        text-align: right;\n",
       "    }\n",
       "</style>\n",
       "<table border=\"1\" class=\"dataframe\">\n",
       "  <thead>\n",
       "    <tr style=\"text-align: right;\">\n",
       "      <th></th>\n",
       "      <th>Happiness Rank</th>\n",
       "      <th>Happiness Score</th>\n",
       "      <th>Standard Error</th>\n",
       "      <th>Economy (GDP per Capita)</th>\n",
       "      <th>Family</th>\n",
       "      <th>Health (Life Expectancy)</th>\n",
       "      <th>Freedom</th>\n",
       "      <th>Trust (Government Corruption)</th>\n",
       "      <th>Generosity</th>\n",
       "      <th>Dystopia Residual</th>\n",
       "    </tr>\n",
       "  </thead>\n",
       "  <tbody>\n",
       "    <tr>\n",
       "      <th>count</th>\n",
       "      <td>158.000000</td>\n",
       "      <td>158.000000</td>\n",
       "      <td>158.000000</td>\n",
       "      <td>158.000000</td>\n",
       "      <td>158.000000</td>\n",
       "      <td>158.000000</td>\n",
       "      <td>158.000000</td>\n",
       "      <td>158.000000</td>\n",
       "      <td>158.000000</td>\n",
       "      <td>158.000000</td>\n",
       "    </tr>\n",
       "    <tr>\n",
       "      <th>mean</th>\n",
       "      <td>79.493671</td>\n",
       "      <td>5.375734</td>\n",
       "      <td>0.047885</td>\n",
       "      <td>0.846137</td>\n",
       "      <td>0.991046</td>\n",
       "      <td>0.630259</td>\n",
       "      <td>0.428615</td>\n",
       "      <td>0.143422</td>\n",
       "      <td>0.237296</td>\n",
       "      <td>2.098977</td>\n",
       "    </tr>\n",
       "    <tr>\n",
       "      <th>std</th>\n",
       "      <td>45.754363</td>\n",
       "      <td>1.145010</td>\n",
       "      <td>0.017146</td>\n",
       "      <td>0.403121</td>\n",
       "      <td>0.272369</td>\n",
       "      <td>0.247078</td>\n",
       "      <td>0.150693</td>\n",
       "      <td>0.120034</td>\n",
       "      <td>0.126685</td>\n",
       "      <td>0.553550</td>\n",
       "    </tr>\n",
       "    <tr>\n",
       "      <th>min</th>\n",
       "      <td>1.000000</td>\n",
       "      <td>2.839000</td>\n",
       "      <td>0.018480</td>\n",
       "      <td>0.000000</td>\n",
       "      <td>0.000000</td>\n",
       "      <td>0.000000</td>\n",
       "      <td>0.000000</td>\n",
       "      <td>0.000000</td>\n",
       "      <td>0.000000</td>\n",
       "      <td>0.328580</td>\n",
       "    </tr>\n",
       "    <tr>\n",
       "      <th>25%</th>\n",
       "      <td>40.250000</td>\n",
       "      <td>4.526000</td>\n",
       "      <td>0.037268</td>\n",
       "      <td>0.545808</td>\n",
       "      <td>0.856823</td>\n",
       "      <td>0.439185</td>\n",
       "      <td>0.328330</td>\n",
       "      <td>0.061675</td>\n",
       "      <td>0.150553</td>\n",
       "      <td>1.759410</td>\n",
       "    </tr>\n",
       "    <tr>\n",
       "      <th>50%</th>\n",
       "      <td>79.500000</td>\n",
       "      <td>5.232500</td>\n",
       "      <td>0.043940</td>\n",
       "      <td>0.910245</td>\n",
       "      <td>1.029510</td>\n",
       "      <td>0.696705</td>\n",
       "      <td>0.435515</td>\n",
       "      <td>0.107220</td>\n",
       "      <td>0.216130</td>\n",
       "      <td>2.095415</td>\n",
       "    </tr>\n",
       "    <tr>\n",
       "      <th>75%</th>\n",
       "      <td>118.750000</td>\n",
       "      <td>6.243750</td>\n",
       "      <td>0.052300</td>\n",
       "      <td>1.158448</td>\n",
       "      <td>1.214405</td>\n",
       "      <td>0.811013</td>\n",
       "      <td>0.549092</td>\n",
       "      <td>0.180255</td>\n",
       "      <td>0.309883</td>\n",
       "      <td>2.462415</td>\n",
       "    </tr>\n",
       "    <tr>\n",
       "      <th>max</th>\n",
       "      <td>158.000000</td>\n",
       "      <td>7.587000</td>\n",
       "      <td>0.136930</td>\n",
       "      <td>1.690420</td>\n",
       "      <td>1.402230</td>\n",
       "      <td>1.025250</td>\n",
       "      <td>0.669730</td>\n",
       "      <td>0.551910</td>\n",
       "      <td>0.795880</td>\n",
       "      <td>3.602140</td>\n",
       "    </tr>\n",
       "  </tbody>\n",
       "</table>\n",
       "</div>"
      ],
      "text/plain": [
       "       Happiness Rank  Happiness Score  Standard Error  \\\n",
       "count      158.000000       158.000000      158.000000   \n",
       "mean        79.493671         5.375734        0.047885   \n",
       "std         45.754363         1.145010        0.017146   \n",
       "min          1.000000         2.839000        0.018480   \n",
       "25%         40.250000         4.526000        0.037268   \n",
       "50%         79.500000         5.232500        0.043940   \n",
       "75%        118.750000         6.243750        0.052300   \n",
       "max        158.000000         7.587000        0.136930   \n",
       "\n",
       "       Economy (GDP per Capita)      Family  Health (Life Expectancy)  \\\n",
       "count                158.000000  158.000000                158.000000   \n",
       "mean                   0.846137    0.991046                  0.630259   \n",
       "std                    0.403121    0.272369                  0.247078   \n",
       "min                    0.000000    0.000000                  0.000000   \n",
       "25%                    0.545808    0.856823                  0.439185   \n",
       "50%                    0.910245    1.029510                  0.696705   \n",
       "75%                    1.158448    1.214405                  0.811013   \n",
       "max                    1.690420    1.402230                  1.025250   \n",
       "\n",
       "          Freedom  Trust (Government Corruption)  Generosity  \\\n",
       "count  158.000000                     158.000000  158.000000   \n",
       "mean     0.428615                       0.143422    0.237296   \n",
       "std      0.150693                       0.120034    0.126685   \n",
       "min      0.000000                       0.000000    0.000000   \n",
       "25%      0.328330                       0.061675    0.150553   \n",
       "50%      0.435515                       0.107220    0.216130   \n",
       "75%      0.549092                       0.180255    0.309883   \n",
       "max      0.669730                       0.551910    0.795880   \n",
       "\n",
       "       Dystopia Residual  \n",
       "count         158.000000  \n",
       "mean            2.098977  \n",
       "std             0.553550  \n",
       "min             0.328580  \n",
       "25%             1.759410  \n",
       "50%             2.095415  \n",
       "75%             2.462415  \n",
       "max             3.602140  "
      ]
     },
     "execution_count": 186,
     "metadata": {},
     "output_type": "execute_result"
    }
   ],
   "source": [
    "# Get quick statistical description of dataframe\n",
    "df.describe()"
   ]
  },
  {
   "cell_type": "code",
   "execution_count": 188,
   "metadata": {
    "slideshow": {
     "slide_type": "subslide"
    }
   },
   "outputs": [
    {
     "data": {
      "text/plain": [
       "0                   Switzerland\n",
       "1                       Iceland\n",
       "2                       Denmark\n",
       "3                        Norway\n",
       "4                        Canada\n",
       "5                       Finland\n",
       "6                   Netherlands\n",
       "7                        Sweden\n",
       "8                   New Zealand\n",
       "9                     Australia\n",
       "10                       Israel\n",
       "11                   Costa Rica\n",
       "12                      Austria\n",
       "13                       Mexico\n",
       "14                United States\n",
       "15                       Brazil\n",
       "16                   Luxembourg\n",
       "17                      Ireland\n",
       "18                      Belgium\n",
       "19         United Arab Emirates\n",
       "20               United Kingdom\n",
       "21                         Oman\n",
       "22                    Venezuela\n",
       "23                    Singapore\n",
       "24                       Panama\n",
       "25                      Germany\n",
       "26                        Chile\n",
       "27                        Qatar\n",
       "28                       France\n",
       "29                    Argentina\n",
       "                 ...           \n",
       "128                     Myanmar\n",
       "129                     Georgia\n",
       "130                      Malawi\n",
       "131                   Sri Lanka\n",
       "132                    Cameroon\n",
       "133                    Bulgaria\n",
       "134                       Egypt\n",
       "135                       Yemen\n",
       "136                      Angola\n",
       "137                        Mali\n",
       "138         Congo (Brazzaville)\n",
       "139                     Comoros\n",
       "140                      Uganda\n",
       "141                     Senegal\n",
       "142                       Gabon\n",
       "143                       Niger\n",
       "144                    Cambodia\n",
       "145                    Tanzania\n",
       "146                  Madagascar\n",
       "147    Central African Republic\n",
       "148                        Chad\n",
       "149                      Guinea\n",
       "150                 Ivory Coast\n",
       "151                Burkina Faso\n",
       "152                 Afghanistan\n",
       "153                      Rwanda\n",
       "154                       Benin\n",
       "155                       Syria\n",
       "156                     Burundi\n",
       "157                        Togo\n",
       "Name: Country, Length: 158, dtype: object"
      ]
     },
     "execution_count": 188,
     "metadata": {},
     "output_type": "execute_result"
    }
   ],
   "source": [
    "# Get list of values in a column\n",
    "df['Country']"
   ]
  },
  {
   "cell_type": "code",
   "execution_count": 190,
   "metadata": {
    "slideshow": {
     "slide_type": "subslide"
    }
   },
   "outputs": [
    {
     "data": {
      "text/plain": [
       "0.9910459493670887"
      ]
     },
     "execution_count": 190,
     "metadata": {},
     "output_type": "execute_result"
    }
   ],
   "source": [
    "# Get the mean, max... of a numerical column\n",
    "#df['Happiness Score'].max()\n",
    "\n",
    "df['Family'].mean()"
   ]
  },
  {
   "cell_type": "markdown",
   "metadata": {
    "slideshow": {
     "slide_type": "subslide"
    }
   },
   "source": [
    "### Filter and select data"
   ]
  },
  {
   "cell_type": "code",
   "execution_count": 191,
   "metadata": {
    "slideshow": {
     "slide_type": "fragment"
    }
   },
   "outputs": [
    {
     "data": {
      "text/plain": [
       "Country                                 Canada\n",
       "Region                           North America\n",
       "Happiness Rank                               5\n",
       "Happiness Score                          7.427\n",
       "Standard Error                         0.03553\n",
       "Economy (GDP per Capita)               1.32629\n",
       "Family                                 1.32261\n",
       "Health (Life Expectancy)               0.90563\n",
       "Freedom                                0.63297\n",
       "Trust (Government Corruption)          0.32957\n",
       "Generosity                             0.45811\n",
       "Dystopia Residual                      2.45176\n",
       "Name: 4, dtype: object"
      ]
     },
     "execution_count": 191,
     "metadata": {},
     "output_type": "execute_result"
    }
   ],
   "source": [
    "# Select row by number\n",
    "df.loc[4]"
   ]
  },
  {
   "cell_type": "code",
   "execution_count": 192,
   "metadata": {
    "slideshow": {
     "slide_type": "subslide"
    }
   },
   "outputs": [
    {
     "data": {
      "text/html": [
       "<div>\n",
       "<style scoped>\n",
       "    .dataframe tbody tr th:only-of-type {\n",
       "        vertical-align: middle;\n",
       "    }\n",
       "\n",
       "    .dataframe tbody tr th {\n",
       "        vertical-align: top;\n",
       "    }\n",
       "\n",
       "    .dataframe thead th {\n",
       "        text-align: right;\n",
       "    }\n",
       "</style>\n",
       "<table border=\"1\" class=\"dataframe\">\n",
       "  <thead>\n",
       "    <tr style=\"text-align: right;\">\n",
       "      <th></th>\n",
       "      <th>Country</th>\n",
       "      <th>Region</th>\n",
       "      <th>Happiness Rank</th>\n",
       "      <th>Happiness Score</th>\n",
       "      <th>Standard Error</th>\n",
       "      <th>Economy (GDP per Capita)</th>\n",
       "      <th>Family</th>\n",
       "      <th>Health (Life Expectancy)</th>\n",
       "      <th>Freedom</th>\n",
       "      <th>Trust (Government Corruption)</th>\n",
       "      <th>Generosity</th>\n",
       "      <th>Dystopia Residual</th>\n",
       "    </tr>\n",
       "  </thead>\n",
       "  <tbody>\n",
       "    <tr>\n",
       "      <th>4</th>\n",
       "      <td>Canada</td>\n",
       "      <td>North America</td>\n",
       "      <td>5</td>\n",
       "      <td>7.427</td>\n",
       "      <td>0.03553</td>\n",
       "      <td>1.32629</td>\n",
       "      <td>1.32261</td>\n",
       "      <td>0.90563</td>\n",
       "      <td>0.63297</td>\n",
       "      <td>0.32957</td>\n",
       "      <td>0.45811</td>\n",
       "      <td>2.45176</td>\n",
       "    </tr>\n",
       "    <tr>\n",
       "      <th>5</th>\n",
       "      <td>Finland</td>\n",
       "      <td>Western Europe</td>\n",
       "      <td>6</td>\n",
       "      <td>7.406</td>\n",
       "      <td>0.03140</td>\n",
       "      <td>1.29025</td>\n",
       "      <td>1.31826</td>\n",
       "      <td>0.88911</td>\n",
       "      <td>0.64169</td>\n",
       "      <td>0.41372</td>\n",
       "      <td>0.23351</td>\n",
       "      <td>2.61955</td>\n",
       "    </tr>\n",
       "    <tr>\n",
       "      <th>6</th>\n",
       "      <td>Netherlands</td>\n",
       "      <td>Western Europe</td>\n",
       "      <td>7</td>\n",
       "      <td>7.378</td>\n",
       "      <td>0.02799</td>\n",
       "      <td>1.32944</td>\n",
       "      <td>1.28017</td>\n",
       "      <td>0.89284</td>\n",
       "      <td>0.61576</td>\n",
       "      <td>0.31814</td>\n",
       "      <td>0.47610</td>\n",
       "      <td>2.46570</td>\n",
       "    </tr>\n",
       "    <tr>\n",
       "      <th>7</th>\n",
       "      <td>Sweden</td>\n",
       "      <td>Western Europe</td>\n",
       "      <td>8</td>\n",
       "      <td>7.364</td>\n",
       "      <td>0.03157</td>\n",
       "      <td>1.33171</td>\n",
       "      <td>1.28907</td>\n",
       "      <td>0.91087</td>\n",
       "      <td>0.65980</td>\n",
       "      <td>0.43844</td>\n",
       "      <td>0.36262</td>\n",
       "      <td>2.37119</td>\n",
       "    </tr>\n",
       "    <tr>\n",
       "      <th>8</th>\n",
       "      <td>New Zealand</td>\n",
       "      <td>Australia and New Zealand</td>\n",
       "      <td>9</td>\n",
       "      <td>7.286</td>\n",
       "      <td>0.03371</td>\n",
       "      <td>1.25018</td>\n",
       "      <td>1.31967</td>\n",
       "      <td>0.90837</td>\n",
       "      <td>0.63938</td>\n",
       "      <td>0.42922</td>\n",
       "      <td>0.47501</td>\n",
       "      <td>2.26425</td>\n",
       "    </tr>\n",
       "    <tr>\n",
       "      <th>9</th>\n",
       "      <td>Australia</td>\n",
       "      <td>Australia and New Zealand</td>\n",
       "      <td>10</td>\n",
       "      <td>7.284</td>\n",
       "      <td>0.04083</td>\n",
       "      <td>1.33358</td>\n",
       "      <td>1.30923</td>\n",
       "      <td>0.93156</td>\n",
       "      <td>0.65124</td>\n",
       "      <td>0.35637</td>\n",
       "      <td>0.43562</td>\n",
       "      <td>2.26646</td>\n",
       "    </tr>\n",
       "  </tbody>\n",
       "</table>\n",
       "</div>"
      ],
      "text/plain": [
       "       Country                     Region  Happiness Rank  Happiness Score  \\\n",
       "4       Canada              North America               5            7.427   \n",
       "5      Finland             Western Europe               6            7.406   \n",
       "6  Netherlands             Western Europe               7            7.378   \n",
       "7       Sweden             Western Europe               8            7.364   \n",
       "8  New Zealand  Australia and New Zealand               9            7.286   \n",
       "9    Australia  Australia and New Zealand              10            7.284   \n",
       "\n",
       "   Standard Error  Economy (GDP per Capita)   Family  \\\n",
       "4         0.03553                   1.32629  1.32261   \n",
       "5         0.03140                   1.29025  1.31826   \n",
       "6         0.02799                   1.32944  1.28017   \n",
       "7         0.03157                   1.33171  1.28907   \n",
       "8         0.03371                   1.25018  1.31967   \n",
       "9         0.04083                   1.33358  1.30923   \n",
       "\n",
       "   Health (Life Expectancy)  Freedom  Trust (Government Corruption)  \\\n",
       "4                   0.90563  0.63297                        0.32957   \n",
       "5                   0.88911  0.64169                        0.41372   \n",
       "6                   0.89284  0.61576                        0.31814   \n",
       "7                   0.91087  0.65980                        0.43844   \n",
       "8                   0.90837  0.63938                        0.42922   \n",
       "9                   0.93156  0.65124                        0.35637   \n",
       "\n",
       "   Generosity  Dystopia Residual  \n",
       "4     0.45811            2.45176  \n",
       "5     0.23351            2.61955  \n",
       "6     0.47610            2.46570  \n",
       "7     0.36262            2.37119  \n",
       "8     0.47501            2.26425  \n",
       "9     0.43562            2.26646  "
      ]
     },
     "execution_count": 192,
     "metadata": {},
     "output_type": "execute_result"
    }
   ],
   "source": [
    "# Select a slice of rows\n",
    "df[4:10]"
   ]
  },
  {
   "cell_type": "code",
   "execution_count": 72,
   "metadata": {
    "scrolled": true,
    "slideshow": {
     "slide_type": "subslide"
    }
   },
   "outputs": [
    {
     "data": {
      "text/html": [
       "<div>\n",
       "<style scoped>\n",
       "    .dataframe tbody tr th:only-of-type {\n",
       "        vertical-align: middle;\n",
       "    }\n",
       "\n",
       "    .dataframe tbody tr th {\n",
       "        vertical-align: top;\n",
       "    }\n",
       "\n",
       "    .dataframe thead th {\n",
       "        text-align: right;\n",
       "    }\n",
       "</style>\n",
       "<table border=\"1\" class=\"dataframe\">\n",
       "  <thead>\n",
       "    <tr style=\"text-align: right;\">\n",
       "      <th></th>\n",
       "      <th>Country</th>\n",
       "      <th>Region</th>\n",
       "      <th>Happiness Rank</th>\n",
       "      <th>Happiness Score</th>\n",
       "      <th>Standard Error</th>\n",
       "      <th>Economy (GDP per Capita)</th>\n",
       "      <th>Family</th>\n",
       "      <th>Health (Life Expectancy)</th>\n",
       "      <th>Freedom</th>\n",
       "      <th>Trust (Government Corruption)</th>\n",
       "      <th>Generosity</th>\n",
       "      <th>Dystopia Residual</th>\n",
       "    </tr>\n",
       "  </thead>\n",
       "  <tbody>\n",
       "    <tr>\n",
       "      <th>3</th>\n",
       "      <td>Norway</td>\n",
       "      <td>Western Europe</td>\n",
       "      <td>4</td>\n",
       "      <td>7.522</td>\n",
       "      <td>0.03880</td>\n",
       "      <td>1.45900</td>\n",
       "      <td>1.33095</td>\n",
       "      <td>0.88521</td>\n",
       "      <td>0.66973</td>\n",
       "      <td>0.36503</td>\n",
       "      <td>0.34699</td>\n",
       "      <td>2.46531</td>\n",
       "    </tr>\n",
       "    <tr>\n",
       "      <th>0</th>\n",
       "      <td>Switzerland</td>\n",
       "      <td>Western Europe</td>\n",
       "      <td>1</td>\n",
       "      <td>7.587</td>\n",
       "      <td>0.03411</td>\n",
       "      <td>1.39651</td>\n",
       "      <td>1.34951</td>\n",
       "      <td>0.94143</td>\n",
       "      <td>0.66557</td>\n",
       "      <td>0.41978</td>\n",
       "      <td>0.29678</td>\n",
       "      <td>2.51738</td>\n",
       "    </tr>\n",
       "    <tr>\n",
       "      <th>144</th>\n",
       "      <td>Cambodia</td>\n",
       "      <td>Southeastern Asia</td>\n",
       "      <td>145</td>\n",
       "      <td>3.819</td>\n",
       "      <td>0.05069</td>\n",
       "      <td>0.46038</td>\n",
       "      <td>0.62736</td>\n",
       "      <td>0.61114</td>\n",
       "      <td>0.66246</td>\n",
       "      <td>0.07247</td>\n",
       "      <td>0.40359</td>\n",
       "      <td>0.98195</td>\n",
       "    </tr>\n",
       "    <tr>\n",
       "      <th>7</th>\n",
       "      <td>Sweden</td>\n",
       "      <td>Western Europe</td>\n",
       "      <td>8</td>\n",
       "      <td>7.364</td>\n",
       "      <td>0.03157</td>\n",
       "      <td>1.33171</td>\n",
       "      <td>1.28907</td>\n",
       "      <td>0.91087</td>\n",
       "      <td>0.65980</td>\n",
       "      <td>0.43844</td>\n",
       "      <td>0.36262</td>\n",
       "      <td>2.37119</td>\n",
       "    </tr>\n",
       "    <tr>\n",
       "      <th>43</th>\n",
       "      <td>Uzbekistan</td>\n",
       "      <td>Central and Eastern Europe</td>\n",
       "      <td>44</td>\n",
       "      <td>6.003</td>\n",
       "      <td>0.04361</td>\n",
       "      <td>0.63244</td>\n",
       "      <td>1.34043</td>\n",
       "      <td>0.59772</td>\n",
       "      <td>0.65821</td>\n",
       "      <td>0.30826</td>\n",
       "      <td>0.22837</td>\n",
       "      <td>2.23741</td>\n",
       "    </tr>\n",
       "  </tbody>\n",
       "</table>\n",
       "</div>"
      ],
      "text/plain": [
       "         Country                      Region  Happiness Rank  Happiness Score  \\\n",
       "3         Norway              Western Europe               4            7.522   \n",
       "0    Switzerland              Western Europe               1            7.587   \n",
       "144     Cambodia           Southeastern Asia             145            3.819   \n",
       "7         Sweden              Western Europe               8            7.364   \n",
       "43    Uzbekistan  Central and Eastern Europe              44            6.003   \n",
       "\n",
       "     Standard Error  Economy (GDP per Capita)   Family  \\\n",
       "3           0.03880                   1.45900  1.33095   \n",
       "0           0.03411                   1.39651  1.34951   \n",
       "144         0.05069                   0.46038  0.62736   \n",
       "7           0.03157                   1.33171  1.28907   \n",
       "43          0.04361                   0.63244  1.34043   \n",
       "\n",
       "     Health (Life Expectancy)  Freedom  Trust (Government Corruption)  \\\n",
       "3                     0.88521  0.66973                        0.36503   \n",
       "0                     0.94143  0.66557                        0.41978   \n",
       "144                   0.61114  0.66246                        0.07247   \n",
       "7                     0.91087  0.65980                        0.43844   \n",
       "43                    0.59772  0.65821                        0.30826   \n",
       "\n",
       "     Generosity  Dystopia Residual  \n",
       "3       0.34699            2.46531  \n",
       "0       0.29678            2.51738  \n",
       "144     0.40359            0.98195  \n",
       "7       0.36262            2.37119  \n",
       "43      0.22837            2.23741  "
      ]
     },
     "execution_count": 72,
     "metadata": {},
     "output_type": "execute_result"
    }
   ],
   "source": [
    "# Sort the dataframe by a column\n",
    "df.sort_values(by='Freedom', inplace=True)\n",
    "df.head(5)"
   ]
  },
  {
   "cell_type": "code",
   "execution_count": 195,
   "metadata": {
    "slideshow": {
     "slide_type": "subslide"
    }
   },
   "outputs": [
    {
     "data": {
      "text/plain": [
       "28    29\n",
       "Name: Happiness Rank, dtype: int64"
      ]
     },
     "execution_count": 195,
     "metadata": {},
     "output_type": "execute_result"
    }
   ],
   "source": [
    "# Filter the dataframe with a constraint on a column\n",
    "df[df['Country']== 'France']['Happiness Rank']"
   ]
  },
  {
   "cell_type": "code",
   "execution_count": 91,
   "metadata": {
    "slideshow": {
     "slide_type": "skip"
    }
   },
   "outputs": [
    {
     "name": "stdout",
     "output_type": "stream",
     "text": [
      "                                 Happiness Rank  Happiness Score  \\\n",
      "Region                                                             \n",
      "Australia and New Zealand                    19           14.570   \n",
      "Central and Eastern Europe                 2291          154.655   \n",
      "Eastern Asia                                387           33.757   \n",
      "Latin America and Caribbean                1032          135.183   \n",
      "Middle East and Northern Africa            1552          108.138   \n",
      "North America                                20           14.546   \n",
      "Southeastern Asia                           731           47.857   \n",
      "Southern Asia                               792           32.066   \n",
      "Sub-Saharan Africa                         5116          168.112   \n",
      "Western Europe                              620          140.482   \n",
      "\n",
      "                                 Standard Error  Economy (GDP per Capita)  \\\n",
      "Region                                                                      \n",
      "Australia and New Zealand               0.07454                   2.58376   \n",
      "Central and Eastern Europe              1.31102                  27.33071   \n",
      "Eastern Asia                            0.22335                   6.91068   \n",
      "Latin America and Caribbean             1.34479                  19.28994   \n",
      "Middle East and Northern Africa         0.92674                  21.33947   \n",
      "North America                           0.07392                   2.72080   \n",
      "Southeastern Asia                       0.38422                   7.10149   \n",
      "Southern Asia                           0.22513                   3.92340   \n",
      "Sub-Saharan Africa                      2.21195                  15.21892   \n",
      "Western Europe                          0.79013                  27.27051   \n",
      "\n",
      "                                   Family  Health (Life Expectancy)   Freedom  \\\n",
      "Region                                                                          \n",
      "Australia and New Zealand         2.62890                   1.83993   1.29062   \n",
      "Central and Eastern Europe       30.53823                  20.84444  10.38979   \n",
      "Eastern Asia                      6.59656                   5.26433   2.77494   \n",
      "Latin America and Caribbean      24.30385                  15.48515  11.03827   \n",
      "Middle East and Northern Africa  18.40980                  14.11231   7.23502   \n",
      "North America                     2.56972                   1.76742   1.17901   \n",
      "Southeastern Asia                 8.46421                   6.09621   5.01394   \n",
      "Southern Asia                     4.51725                   3.78581   2.61336   \n",
      "Sub-Saharan Africa               32.36340                  11.29327  14.63776   \n",
      "Western Europe                   26.19334                  19.09211  11.54845   \n",
      "\n",
      "                                 Trust (Government Corruption)  Generosity  \\\n",
      "Region                                                                       \n",
      "Australia and New Zealand                              0.78559     0.91063   \n",
      "Central and Eastern Europe                             2.51354     4.41565   \n",
      "Eastern Asia                                           0.76617     1.35531   \n",
      "Latin America and Caribbean                            2.57778     4.79133   \n",
      "Middle East and Northern Africa                        3.63404     3.80751   \n",
      "North America                                          0.48847     0.85916   \n",
      "Southeastern Asia                                      1.36148     3.77335   \n",
      "Southern Asia                                          0.71775     2.39000   \n",
      "Sub-Saharan Africa                                     4.95511     8.84547   \n",
      "Western Europe                                         4.86072     6.34428   \n",
      "\n",
      "                                 Dystopia Residual  \n",
      "Region                                              \n",
      "Australia and New Zealand                  4.53071  \n",
      "Central and Eastern Europe                58.62059  \n",
      "Eastern Asia                              10.08964  \n",
      "Latin America and Caribbean               57.69670  \n",
      "Middle East and Northern Africa           39.60017  \n",
      "North America                              4.96187  \n",
      "Southeastern Asia                         16.04718  \n",
      "Southern Asia                             14.11738  \n",
      "Sub-Saharan Africa                        80.79920  \n",
      "Western Europe                            45.17489  \n"
     ]
    }
   ],
   "source": [
    "# Group by region and sum other columns\n",
    "df_regions = df.groupby('Region').sum()\n",
    "print(df_regions)"
   ]
  },
  {
   "cell_type": "code",
   "execution_count": 201,
   "metadata": {},
   "outputs": [
    {
     "data": {
      "text/plain": [
       "<matplotlib.axes._subplots.AxesSubplot at 0x1b7a6d1860>"
      ]
     },
     "execution_count": 201,
     "metadata": {},
     "output_type": "execute_result"
    },
    {
     "data": {
      "image/png": "[encoded data removed]",
      "text/plain": [
       "<Figure size 1152x720 with 2 Axes>"
      ]
     },
     "metadata": {},
     "output_type": "display_data"
    }
   ],
   "source": [
    "import seaborn as sns\n",
    "%matplotlib inline\n",
    "plt.figure(figsize = (16,10))\n",
    "sns.heatmap(df.corr(),cmap=\"coolwarm\", annot=True)\n"
   ]
  },
  {
   "cell_type": "code",
   "execution_count": 202,
   "metadata": {},
   "outputs": [
    {
     "data": {
      "text/html": [
       "<div>\n",
       "<style scoped>\n",
       "    .dataframe tbody tr th:only-of-type {\n",
       "        vertical-align: middle;\n",
       "    }\n",
       "\n",
       "    .dataframe tbody tr th {\n",
       "        vertical-align: top;\n",
       "    }\n",
       "\n",
       "    .dataframe thead th {\n",
       "        text-align: right;\n",
       "    }\n",
       "</style>\n",
       "<table border=\"1\" class=\"dataframe\">\n",
       "  <thead>\n",
       "    <tr style=\"text-align: right;\">\n",
       "      <th></th>\n",
       "      <th>Country</th>\n",
       "      <th>Dystopia Residual</th>\n",
       "      <th>Economy (GDP per Capita)</th>\n",
       "      <th>Family</th>\n",
       "      <th>Freedom</th>\n",
       "      <th>Generosity</th>\n",
       "      <th>Happiness Rank</th>\n",
       "      <th>Happiness Score</th>\n",
       "      <th>Health (Life Expectancy)</th>\n",
       "      <th>Standard Error</th>\n",
       "      <th>Trust (Government Corruption)</th>\n",
       "    </tr>\n",
       "    <tr>\n",
       "      <th>Region</th>\n",
       "      <th></th>\n",
       "      <th></th>\n",
       "      <th></th>\n",
       "      <th></th>\n",
       "      <th></th>\n",
       "      <th></th>\n",
       "      <th></th>\n",
       "      <th></th>\n",
       "      <th></th>\n",
       "      <th></th>\n",
       "      <th></th>\n",
       "    </tr>\n",
       "  </thead>\n",
       "  <tbody>\n",
       "    <tr>\n",
       "      <th>Australia and New Zealand</th>\n",
       "      <td>Australia</td>\n",
       "      <td>2.26425</td>\n",
       "      <td>1.25018</td>\n",
       "      <td>1.30923</td>\n",
       "      <td>0.63938</td>\n",
       "      <td>0.43562</td>\n",
       "      <td>9</td>\n",
       "      <td>7.284</td>\n",
       "      <td>0.90837</td>\n",
       "      <td>0.03371</td>\n",
       "      <td>0.35637</td>\n",
       "    </tr>\n",
       "    <tr>\n",
       "      <th>Central and Eastern Europe</th>\n",
       "      <td>Albania</td>\n",
       "      <td>0.89991</td>\n",
       "      <td>0.39047</td>\n",
       "      <td>0.38562</td>\n",
       "      <td>0.09245</td>\n",
       "      <td>0.00199</td>\n",
       "      <td>31</td>\n",
       "      <td>4.218</td>\n",
       "      <td>0.53886</td>\n",
       "      <td>0.03135</td>\n",
       "      <td>0.00227</td>\n",
       "    </tr>\n",
       "    <tr>\n",
       "      <th>Eastern Asia</th>\n",
       "      <td>China</td>\n",
       "      <td>0.65429</td>\n",
       "      <td>0.82819</td>\n",
       "      <td>0.94675</td>\n",
       "      <td>0.33208</td>\n",
       "      <td>0.08185</td>\n",
       "      <td>38</td>\n",
       "      <td>4.874</td>\n",
       "      <td>0.60268</td>\n",
       "      <td>0.02424</td>\n",
       "      <td>0.02666</td>\n",
       "    </tr>\n",
       "    <tr>\n",
       "      <th>Latin America and Caribbean</th>\n",
       "      <td>Argentina</td>\n",
       "      <td>1.21305</td>\n",
       "      <td>0.26673</td>\n",
       "      <td>0.74302</td>\n",
       "      <td>0.24425</td>\n",
       "      <td>0.05841</td>\n",
       "      <td>12</td>\n",
       "      <td>4.518</td>\n",
       "      <td>0.38847</td>\n",
       "      <td>0.04076</td>\n",
       "      <td>0.01140</td>\n",
       "    </tr>\n",
       "    <tr>\n",
       "      <th>Middle East and Northern Africa</th>\n",
       "      <td>Algeria</td>\n",
       "      <td>0.32858</td>\n",
       "      <td>0.54649</td>\n",
       "      <td>0.47489</td>\n",
       "      <td>0.00000</td>\n",
       "      <td>0.06431</td>\n",
       "      <td>11</td>\n",
       "      <td>3.006</td>\n",
       "      <td>0.40064</td>\n",
       "      <td>0.03260</td>\n",
       "      <td>0.04582</td>\n",
       "    </tr>\n",
       "    <tr>\n",
       "      <th>North America</th>\n",
       "      <td>Canada</td>\n",
       "      <td>2.45176</td>\n",
       "      <td>1.32629</td>\n",
       "      <td>1.24711</td>\n",
       "      <td>0.54604</td>\n",
       "      <td>0.40105</td>\n",
       "      <td>5</td>\n",
       "      <td>7.119</td>\n",
       "      <td>0.86179</td>\n",
       "      <td>0.03553</td>\n",
       "      <td>0.15890</td>\n",
       "    </tr>\n",
       "    <tr>\n",
       "      <th>Southeastern Asia</th>\n",
       "      <td>Cambodia</td>\n",
       "      <td>0.98195</td>\n",
       "      <td>0.27108</td>\n",
       "      <td>0.62736</td>\n",
       "      <td>0.44017</td>\n",
       "      <td>0.16860</td>\n",
       "      <td>24</td>\n",
       "      <td>3.819</td>\n",
       "      <td>0.48246</td>\n",
       "      <td>0.02596</td>\n",
       "      <td>0.00000</td>\n",
       "    </tr>\n",
       "    <tr>\n",
       "      <th>Southern Asia</th>\n",
       "      <td>Afghanistan</td>\n",
       "      <td>0.67108</td>\n",
       "      <td>0.31982</td>\n",
       "      <td>0.30285</td>\n",
       "      <td>0.12102</td>\n",
       "      <td>0.21222</td>\n",
       "      <td>79</td>\n",
       "      <td>3.575</td>\n",
       "      <td>0.30335</td>\n",
       "      <td>0.02043</td>\n",
       "      <td>0.05907</td>\n",
       "    </tr>\n",
       "    <tr>\n",
       "      <th>Sub-Saharan Africa</th>\n",
       "      <td>Angola</td>\n",
       "      <td>0.67042</td>\n",
       "      <td>0.00000</td>\n",
       "      <td>0.00000</td>\n",
       "      <td>0.10081</td>\n",
       "      <td>0.06822</td>\n",
       "      <td>71</td>\n",
       "      <td>2.839</td>\n",
       "      <td>0.00000</td>\n",
       "      <td>0.03464</td>\n",
       "      <td>0.03060</td>\n",
       "    </tr>\n",
       "    <tr>\n",
       "      <th>Western Europe</th>\n",
       "      <td>Austria</td>\n",
       "      <td>1.26462</td>\n",
       "      <td>1.15406</td>\n",
       "      <td>0.89318</td>\n",
       "      <td>0.07699</td>\n",
       "      <td>0.00000</td>\n",
       "      <td>1</td>\n",
       "      <td>4.857</td>\n",
       "      <td>0.87464</td>\n",
       "      <td>0.01848</td>\n",
       "      <td>0.01078</td>\n",
       "    </tr>\n",
       "  </tbody>\n",
       "</table>\n",
       "</div>"
      ],
      "text/plain": [
       "                                     Country  Dystopia Residual  \\\n",
       "Region                                                            \n",
       "Australia and New Zealand          Australia            2.26425   \n",
       "Central and Eastern Europe           Albania            0.89991   \n",
       "Eastern Asia                           China            0.65429   \n",
       "Latin America and Caribbean        Argentina            1.21305   \n",
       "Middle East and Northern Africa      Algeria            0.32858   \n",
       "North America                         Canada            2.45176   \n",
       "Southeastern Asia                   Cambodia            0.98195   \n",
       "Southern Asia                    Afghanistan            0.67108   \n",
       "Sub-Saharan Africa                    Angola            0.67042   \n",
       "Western Europe                       Austria            1.26462   \n",
       "\n",
       "                                 Economy (GDP per Capita)   Family  Freedom  \\\n",
       "Region                                                                        \n",
       "Australia and New Zealand                         1.25018  1.30923  0.63938   \n",
       "Central and Eastern Europe                        0.39047  0.38562  0.09245   \n",
       "Eastern Asia                                      0.82819  0.94675  0.33208   \n",
       "Latin America and Caribbean                       0.26673  0.74302  0.24425   \n",
       "Middle East and Northern Africa                   0.54649  0.47489  0.00000   \n",
       "North America                                     1.32629  1.24711  0.54604   \n",
       "Southeastern Asia                                 0.27108  0.62736  0.44017   \n",
       "Southern Asia                                     0.31982  0.30285  0.12102   \n",
       "Sub-Saharan Africa                                0.00000  0.00000  0.10081   \n",
       "Western Europe                                    1.15406  0.89318  0.07699   \n",
       "\n",
       "                                 Generosity  Happiness Rank  Happiness Score  \\\n",
       "Region                                                                         \n",
       "Australia and New Zealand           0.43562               9            7.284   \n",
       "Central and Eastern Europe          0.00199              31            4.218   \n",
       "Eastern Asia                        0.08185              38            4.874   \n",
       "Latin America and Caribbean         0.05841              12            4.518   \n",
       "Middle East and Northern Africa     0.06431              11            3.006   \n",
       "North America                       0.40105               5            7.119   \n",
       "Southeastern Asia                   0.16860              24            3.819   \n",
       "Southern Asia                       0.21222              79            3.575   \n",
       "Sub-Saharan Africa                  0.06822              71            2.839   \n",
       "Western Europe                      0.00000               1            4.857   \n",
       "\n",
       "                                 Health (Life Expectancy)  Standard Error  \\\n",
       "Region                                                                      \n",
       "Australia and New Zealand                         0.90837         0.03371   \n",
       "Central and Eastern Europe                        0.53886         0.03135   \n",
       "Eastern Asia                                      0.60268         0.02424   \n",
       "Latin America and Caribbean                       0.38847         0.04076   \n",
       "Middle East and Northern Africa                   0.40064         0.03260   \n",
       "North America                                     0.86179         0.03553   \n",
       "Southeastern Asia                                 0.48246         0.02596   \n",
       "Southern Asia                                     0.30335         0.02043   \n",
       "Sub-Saharan Africa                                0.00000         0.03464   \n",
       "Western Europe                                    0.87464         0.01848   \n",
       "\n",
       "                                 Trust (Government Corruption)  \n",
       "Region                                                          \n",
       "Australia and New Zealand                              0.35637  \n",
       "Central and Eastern Europe                             0.00227  \n",
       "Eastern Asia                                           0.02666  \n",
       "Latin America and Caribbean                            0.01140  \n",
       "Middle East and Northern Africa                        0.04582  \n",
       "North America                                          0.15890  \n",
       "Southeastern Asia                                      0.00000  \n",
       "Southern Asia                                          0.05907  \n",
       "Sub-Saharan Africa                                     0.03060  \n",
       "Western Europe                                         0.01078  "
      ]
     },
     "execution_count": 202,
     "metadata": {},
     "output_type": "execute_result"
    }
   ],
   "source": [
    "import matplotlib.pyplot as plt\n",
    "df.pivot_table(index=[\"Region\"], aggfunc=min)"
   ]
  },
  {
   "cell_type": "markdown",
   "metadata": {
    "slideshow": {
     "slide_type": "subslide"
    }
   },
   "source": [
    "### Export the data"
   ]
  },
  {
   "cell_type": "code",
   "execution_count": 121,
   "metadata": {
    "slideshow": {
     "slide_type": "fragment"
    }
   },
   "outputs": [],
   "source": [
    "happiness_rank = df[['Country', 'Happiness Rank']]\n",
    "happiness_rank.to_html('./data/ranks.html')\n",
    "happiness_rank.to_json('./data/ranks.json', orient='records')\n",
    "happiness_rank.to_csv('./data/ranks.csv')\n",
    "happiness_rank.to_excel('./data/ranks.xlsx')"
   ]
  },
  {
   "cell_type": "markdown",
   "metadata": {
    "slideshow": {
     "slide_type": "slide"
    }
   },
   "source": [
    "# Seaborn\n",
    "Seaborn is a Visualization library that goes along with pandas"
   ]
  },
  {
   "cell_type": "code",
   "execution_count": 225,
   "metadata": {
    "slideshow": {
     "slide_type": "subslide"
    }
   },
   "outputs": [
    {
     "ename": "ModuleNotFoundError",
     "evalue": "No module named 'folium'",
     "output_type": "error",
     "traceback": [
      "\u001b[0;31m---------------------------------------------------------------------------\u001b[0m",
      "\u001b[0;31mModuleNotFoundError\u001b[0m                       Traceback (most recent call last)",
      "\u001b[0;32m<ipython-input-225-abbd49f5bdb9>\u001b[0m in \u001b[0;36m<module>\u001b[0;34m()\u001b[0m\n\u001b[1;32m      2\u001b[0m \u001b[0;32mfrom\u001b[0m \u001b[0mmatplotlib\u001b[0m \u001b[0;32mimport\u001b[0m \u001b[0mstyle\u001b[0m\u001b[0;34m\u001b[0m\u001b[0m\n\u001b[1;32m      3\u001b[0m \u001b[0;32mimport\u001b[0m \u001b[0mmatplotlib\u001b[0m\u001b[0;34m.\u001b[0m\u001b[0mpyplot\u001b[0m \u001b[0;32mas\u001b[0m \u001b[0mplt\u001b[0m\u001b[0;34m\u001b[0m\u001b[0m\n\u001b[0;32m----> 4\u001b[0;31m \u001b[0;32mimport\u001b[0m \u001b[0mfolium\u001b[0m\u001b[0;34m\u001b[0m\u001b[0m\n\u001b[0m\u001b[1;32m      5\u001b[0m \u001b[0mget_ipython\u001b[0m\u001b[0;34m(\u001b[0m\u001b[0;34m)\u001b[0m\u001b[0;34m.\u001b[0m\u001b[0mrun_line_magic\u001b[0m\u001b[0;34m(\u001b[0m\u001b[0;34m'matplotlib'\u001b[0m\u001b[0;34m,\u001b[0m \u001b[0;34m'inline'\u001b[0m\u001b[0;34m)\u001b[0m\u001b[0;34m\u001b[0m\u001b[0m\n",
      "\u001b[0;31mModuleNotFoundError\u001b[0m: No module named 'folium'"
     ]
    }
   ],
   "source": [
    "import seaborn as sns\n",
    "from matplotlib import style\n",
    "import matplotlib.pyplot as plt\n",
    "import folium\n",
    "%matplotlib inline"
   ]
  },
  {
   "cell_type": "code",
   "execution_count": 203,
   "metadata": {},
   "outputs": [
    {
     "data": {
      "text/html": [
       "<div>\n",
       "<style scoped>\n",
       "    .dataframe tbody tr th:only-of-type {\n",
       "        vertical-align: middle;\n",
       "    }\n",
       "\n",
       "    .dataframe tbody tr th {\n",
       "        vertical-align: top;\n",
       "    }\n",
       "\n",
       "    .dataframe thead th {\n",
       "        text-align: right;\n",
       "    }\n",
       "</style>\n",
       "<table border=\"1\" class=\"dataframe\">\n",
       "  <thead>\n",
       "    <tr style=\"text-align: right;\">\n",
       "      <th></th>\n",
       "      <th>Country</th>\n",
       "      <th>Region</th>\n",
       "      <th>Happiness Rank</th>\n",
       "      <th>Happiness Score</th>\n",
       "      <th>Standard Error</th>\n",
       "      <th>Economy (GDP per Capita)</th>\n",
       "      <th>Family</th>\n",
       "      <th>Health (Life Expectancy)</th>\n",
       "      <th>Freedom</th>\n",
       "      <th>Trust (Government Corruption)</th>\n",
       "      <th>Generosity</th>\n",
       "      <th>Dystopia Residual</th>\n",
       "    </tr>\n",
       "  </thead>\n",
       "  <tbody>\n",
       "    <tr>\n",
       "      <th>0</th>\n",
       "      <td>Switzerland</td>\n",
       "      <td>Western Europe</td>\n",
       "      <td>1</td>\n",
       "      <td>7.587</td>\n",
       "      <td>0.03411</td>\n",
       "      <td>1.39651</td>\n",
       "      <td>1.34951</td>\n",
       "      <td>0.94143</td>\n",
       "      <td>0.66557</td>\n",
       "      <td>0.41978</td>\n",
       "      <td>0.29678</td>\n",
       "      <td>2.51738</td>\n",
       "    </tr>\n",
       "    <tr>\n",
       "      <th>1</th>\n",
       "      <td>Iceland</td>\n",
       "      <td>Western Europe</td>\n",
       "      <td>2</td>\n",
       "      <td>7.561</td>\n",
       "      <td>0.04884</td>\n",
       "      <td>1.30232</td>\n",
       "      <td>1.40223</td>\n",
       "      <td>0.94784</td>\n",
       "      <td>0.62877</td>\n",
       "      <td>0.14145</td>\n",
       "      <td>0.43630</td>\n",
       "      <td>2.70201</td>\n",
       "    </tr>\n",
       "    <tr>\n",
       "      <th>2</th>\n",
       "      <td>Denmark</td>\n",
       "      <td>Western Europe</td>\n",
       "      <td>3</td>\n",
       "      <td>7.527</td>\n",
       "      <td>0.03328</td>\n",
       "      <td>1.32548</td>\n",
       "      <td>1.36058</td>\n",
       "      <td>0.87464</td>\n",
       "      <td>0.64938</td>\n",
       "      <td>0.48357</td>\n",
       "      <td>0.34139</td>\n",
       "      <td>2.49204</td>\n",
       "    </tr>\n",
       "    <tr>\n",
       "      <th>3</th>\n",
       "      <td>Norway</td>\n",
       "      <td>Western Europe</td>\n",
       "      <td>4</td>\n",
       "      <td>7.522</td>\n",
       "      <td>0.03880</td>\n",
       "      <td>1.45900</td>\n",
       "      <td>1.33095</td>\n",
       "      <td>0.88521</td>\n",
       "      <td>0.66973</td>\n",
       "      <td>0.36503</td>\n",
       "      <td>0.34699</td>\n",
       "      <td>2.46531</td>\n",
       "    </tr>\n",
       "    <tr>\n",
       "      <th>4</th>\n",
       "      <td>Canada</td>\n",
       "      <td>North America</td>\n",
       "      <td>5</td>\n",
       "      <td>7.427</td>\n",
       "      <td>0.03553</td>\n",
       "      <td>1.32629</td>\n",
       "      <td>1.32261</td>\n",
       "      <td>0.90563</td>\n",
       "      <td>0.63297</td>\n",
       "      <td>0.32957</td>\n",
       "      <td>0.45811</td>\n",
       "      <td>2.45176</td>\n",
       "    </tr>\n",
       "  </tbody>\n",
       "</table>\n",
       "</div>"
      ],
      "text/plain": [
       "       Country          Region  Happiness Rank  Happiness Score  \\\n",
       "0  Switzerland  Western Europe               1            7.587   \n",
       "1      Iceland  Western Europe               2            7.561   \n",
       "2      Denmark  Western Europe               3            7.527   \n",
       "3       Norway  Western Europe               4            7.522   \n",
       "4       Canada   North America               5            7.427   \n",
       "\n",
       "   Standard Error  Economy (GDP per Capita)   Family  \\\n",
       "0         0.03411                   1.39651  1.34951   \n",
       "1         0.04884                   1.30232  1.40223   \n",
       "2         0.03328                   1.32548  1.36058   \n",
       "3         0.03880                   1.45900  1.33095   \n",
       "4         0.03553                   1.32629  1.32261   \n",
       "\n",
       "   Health (Life Expectancy)  Freedom  Trust (Government Corruption)  \\\n",
       "0                   0.94143  0.66557                        0.41978   \n",
       "1                   0.94784  0.62877                        0.14145   \n",
       "2                   0.87464  0.64938                        0.48357   \n",
       "3                   0.88521  0.66973                        0.36503   \n",
       "4                   0.90563  0.63297                        0.32957   \n",
       "\n",
       "   Generosity  Dystopia Residual  \n",
       "0     0.29678            2.51738  \n",
       "1     0.43630            2.70201  \n",
       "2     0.34139            2.49204  \n",
       "3     0.34699            2.46531  \n",
       "4     0.45811            2.45176  "
      ]
     },
     "execution_count": 203,
     "metadata": {},
     "output_type": "execute_result"
    }
   ],
   "source": [
    "df.head()"
   ]
  },
  {
   "cell_type": "code",
   "execution_count": 214,
   "metadata": {
    "slideshow": {
     "slide_type": "subslide"
    }
   },
   "outputs": [
    {
     "name": "stderr",
     "output_type": "stream",
     "text": [
      "/Applications/anaconda3/lib/python3.6/site-packages/matplotlib/axes/_axes.py:6462: UserWarning: The 'normed' kwarg is deprecated, and has been replaced by the 'density' kwarg.\n",
      "  warnings.warn(\"The 'normed' kwarg is deprecated, and has been \"\n",
      "/Applications/anaconda3/lib/python3.6/site-packages/matplotlib/axes/_axes.py:6462: UserWarning: The 'normed' kwarg is deprecated, and has been replaced by the 'density' kwarg.\n",
      "  warnings.warn(\"The 'normed' kwarg is deprecated, and has been \"\n"
     ]
    },
    {
     "data": {
      "text/plain": [
       "<seaborn.axisgrid.JointGrid at 0x1b7c0d5d30>"
      ]
     },
     "execution_count": 214,
     "metadata": {},
     "output_type": "execute_result"
    },
    {
     "data": {
      "text/plain": [
       "<Figure size 1152x720 with 0 Axes>"
      ]
     },
     "metadata": {},
     "output_type": "display_data"
    },
    {
     "data": {
      "image/png": "[encoded data removed]",
      "text/plain": [
       "<Figure size 432x432 with 3 Axes>"
      ]
     },
     "metadata": {},
     "output_type": "display_data"
    }
   ],
   "source": [
    "plt.figure(figsize = (16,10))\n",
    "sns.jointplot(x='Happiness Score',y='Generosity',data=df)"
   ]
  },
  {
   "cell_type": "code",
   "execution_count": 215,
   "metadata": {
    "slideshow": {
     "slide_type": "subslide"
    }
   },
   "outputs": [
    {
     "name": "stderr",
     "output_type": "stream",
     "text": [
      "/Applications/anaconda3/lib/python3.6/site-packages/matplotlib/axes/_axes.py:6462: UserWarning: The 'normed' kwarg is deprecated, and has been replaced by the 'density' kwarg.\n",
      "  warnings.warn(\"The 'normed' kwarg is deprecated, and has been \"\n"
     ]
    },
    {
     "data": {
      "text/plain": [
       "<matplotlib.axes._subplots.AxesSubplot at 0x1b7c6a2c50>"
      ]
     },
     "execution_count": 215,
     "metadata": {},
     "output_type": "execute_result"
    },
    {
     "data": {
      "image/png": "[encoded data removed]",
      "text/plain": [
       "<Figure size 1152x720 with 1 Axes>"
      ]
     },
     "metadata": {},
     "output_type": "display_data"
    }
   ],
   "source": [
    "plt.figure(figsize = (16,10))\n",
    "sns.distplot(df['Family'], color='red')"
   ]
  },
  {
   "cell_type": "code",
   "execution_count": 224,
   "metadata": {
    "slideshow": {
     "slide_type": "subslide"
    }
   },
   "outputs": [
    {
     "data": {
      "text/plain": [
       "<matplotlib.axes._subplots.AxesSubplot at 0x1b7f3129b0>"
      ]
     },
     "execution_count": 224,
     "metadata": {},
     "output_type": "execute_result"
    },
    {
     "data": {
      "image/png": "[encoded data removed]",
      "text/plain": [
       "<Figure size 2160x1440 with 1 Axes>"
      ]
     },
     "metadata": {},
     "output_type": "display_data"
    }
   ],
   "source": [
    "plt.figure(figsize = (30,20))\n",
    "sns.boxplot(x=\"Region\", y='Happiness Score',data=df,palette='rainbow')"
   ]
  },
  {
   "cell_type": "code",
   "execution_count": 220,
   "metadata": {
    "slideshow": {
     "slide_type": "subslide"
    }
   },
   "outputs": [
    {
     "data": {
      "text/plain": [
       "<matplotlib.axes._subplots.AxesSubplot at 0x1b7d276400>"
      ]
     },
     "execution_count": 220,
     "metadata": {},
     "output_type": "execute_result"
    },
    {
     "data": {
      "image/png": "[encoded data removed]",
      "text/plain": [
       "<Figure size 2160x1152 with 1 Axes>"
      ]
     },
     "metadata": {},
     "output_type": "display_data"
    }
   ],
   "source": [
    "plt.figure(figsize = (30,16))\n",
    "sns.swarmplot(x='Region',y='Freedom',data=df,palette='Set2')"
   ]
  },
  {
   "cell_type": "code",
   "execution_count": 221,
   "metadata": {
    "slideshow": {
     "slide_type": "subslide"
    }
   },
   "outputs": [
    {
     "data": {
      "text/plain": [
       "<matplotlib.axes._subplots.AxesSubplot at 0x1b7db2ad30>"
      ]
     },
     "execution_count": 221,
     "metadata": {},
     "output_type": "execute_result"
    },
    {
     "data": {
      "image/png": "[encoded data removed]",
      "text/plain": [
       "<Figure size 2160x1152 with 1 Axes>"
      ]
     },
     "metadata": {},
     "output_type": "display_data"
    }
   ],
   "source": [
    "plt.figure(figsize = (30,16))\n",
    "sns.countplot(x='Region',data=df)"
   ]
  },
  {
   "cell_type": "code",
   "execution_count": 212,
   "metadata": {},
   "outputs": [
    {
     "data": {
      "text/plain": [
       "<matplotlib.axes._subplots.AxesSubplot at 0x1b7bca1860>"
      ]
     },
     "execution_count": 212,
     "metadata": {},
     "output_type": "execute_result"
    },
    {
     "data": {
      "image/png": "[encoded data removed]",
      "text/plain": [
       "<Figure size 432x288 with 2 Axes>"
      ]
     },
     "metadata": {},
     "output_type": "display_data"
    }
   ],
   "source": [
    "sns.heatmap(df.corr(), cmap=\"coolwarm\")"
   ]
  },
  {
   "cell_type": "code",
   "execution_count": 226,
   "metadata": {},
   "outputs": [
    {
     "name": "stdout",
     "output_type": "stream",
     "text": [
      "Solving environment: failed\n",
      "\n",
      "PackagesNotFoundError: The following packages are not available from current channels:\n",
      "\n",
      "  - folium\n",
      "\n",
      "Current channels:\n",
      "\n",
      "  - https://repo.anaconda.com/pkgs/main/osx-64\n",
      "  - https://repo.anaconda.com/pkgs/main/noarch\n",
      "  - https://repo.anaconda.com/pkgs/free/osx-64\n",
      "  - https://repo.anaconda.com/pkgs/free/noarch\n",
      "  - https://repo.anaconda.com/pkgs/r/osx-64\n",
      "  - https://repo.anaconda.com/pkgs/r/noarch\n",
      "  - https://repo.anaconda.com/pkgs/pro/osx-64\n",
      "  - https://repo.anaconda.com/pkgs/pro/noarch\n",
      "\n",
      "To search for alternate channels that may provide the conda package you're\n",
      "looking for, navigate to\n",
      "\n",
      "    https://anaconda.org\n",
      "\n",
      "and use the search bar at the top of the page.\n",
      "\n",
      "\n"
     ]
    }
   ],
   "source": [
    "!conda install folium\n"
   ]
  }
 ],
 "metadata": {
  "celltoolbar": "Slideshow",
  "kernelspec": {
   "display_name": "Python 3",
   "language": "python",
   "name": "python3"
  },
  "language_info": {
   "codemirror_mode": {
    "name": "ipython",
    "version": 3
   },
   "file_extension": ".py",
   "mimetype": "text/x-python",
   "name": "python",
   "nbconvert_exporter": "python",
   "pygments_lexer": "ipython3",
   "version": "3.6.5"
  }
 },
 "nbformat": 4,
 "nbformat_minor": 2
}
